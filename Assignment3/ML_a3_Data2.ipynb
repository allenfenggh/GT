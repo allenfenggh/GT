{
 "cells": [
  {
   "cell_type": "markdown",
   "id": "8a2f6962",
   "metadata": {},
   "source": [
    "# ML assignment 3 Unsupervised Learning\n",
    "\n",
    "Data set 1 - Bank Account Fraud Dataset \\\n",
    "https://www.kaggle.com/datasets/sgpjesus/bank-account-fraud-dataset-neurips-2022 \\\n",
    "Data set 2 - Customer Segmentation \\\n",
    "https://www.kaggle.com/datasets/abisheksudarshan/customer-segmentation?select=train.csv\n"
   ]
  },
  {
   "cell_type": "code",
   "execution_count": 1,
   "id": "8e392d2b",
   "metadata": {},
   "outputs": [],
   "source": [
    "%run ./ML_a3_Functions.ipynb"
   ]
  },
  {
   "cell_type": "code",
   "execution_count": 2,
   "id": "36ebb2ea",
   "metadata": {},
   "outputs": [],
   "source": [
    "def gen_op(name, time, y_train, labels):\n",
    "#     df_time.loc[i] = [name, \n",
    "#                       np.round(time,3),\n",
    "#                       np.round(f1_score(y_train,labels),3),\n",
    "#                       np.round(roc_auc_score(y_train,labels),3)\n",
    "#                      ]\n",
    "    dfg = pd.DataFrame({'name':[name],\n",
    "                         'time':[ np.round(time,3)],\n",
    "                         'f1_score':[np.round(f1_score(y_train,labels, average='weighted'),3)],                \n",
    "#                          'roc_score':[np.round(roc_auc_score(y_train,labels),3)]\n",
    "                        })\n",
    "    return dfg\n",
    "    \n",
    "def transform_list(lst):\n",
    "#     ones_count = sum(lst)\n",
    "#     zeros_count = len(lst) - ones_count\n",
    "#     if ones_count > zeros_count:\n",
    "#         return [0 if x == 1 else 1 for x in lst]\n",
    "#     else:\n",
    "#         return [1 if x == 1 else 0 for x in lst]\n",
    "    dft = pd.DataFrame({'target': lst})\n",
    "    cc=dft.target.value_counts(ascending=False)\n",
    "    ccmap = {cc.index[i]: i for i in range(len(cc))}\n",
    "    dft = dft.target.map(ccmap)\n",
    "    return dft    \n",
    "    \n",
    "def run_nn(name, X_t, new_label, y_train, X_test, test_label, y_test):\n",
    "    mlp =  MLPClassifier(random_state = 0, \n",
    "                     hidden_layer_sizes=(3,), \n",
    "                     activation='identity')\n",
    "    X_t = pd.DataFrame(X_t)\n",
    "    X_t['cluster'] = new_label\n",
    "    X_t.columns = X_t.columns.astype(str)\n",
    "    X_test['cluster'] = test_label\n",
    "    X_test.columns = X_test.columns.astype(str)\n",
    "    mlp.fit(X_t, y_train)\n",
    "    nn_perf = model2(mlp, X_t, y_train, X_test, y_test)\n",
    "    nn_perf['name'] = name\n",
    "    print(nn_perf)\n",
    "    return nn_perf"
   ]
  },
  {
   "cell_type": "code",
   "execution_count": 3,
   "id": "935bc344",
   "metadata": {},
   "outputs": [
    {
     "data": {
      "text/html": [
       "<div>\n",
       "<style scoped>\n",
       "    .dataframe tbody tr th:only-of-type {\n",
       "        vertical-align: middle;\n",
       "    }\n",
       "\n",
       "    .dataframe tbody tr th {\n",
       "        vertical-align: top;\n",
       "    }\n",
       "\n",
       "    .dataframe thead th {\n",
       "        text-align: right;\n",
       "    }\n",
       "</style>\n",
       "<table border=\"1\" class=\"dataframe\">\n",
       "  <thead>\n",
       "    <tr style=\"text-align: right;\">\n",
       "      <th></th>\n",
       "      <th>Gender</th>\n",
       "      <th>Ever_Married</th>\n",
       "      <th>Age</th>\n",
       "      <th>Graduated</th>\n",
       "      <th>Profession</th>\n",
       "      <th>Work_Experience</th>\n",
       "      <th>Spending_Score</th>\n",
       "      <th>Family_Size</th>\n",
       "      <th>Var_1</th>\n",
       "      <th>Segmentation</th>\n",
       "    </tr>\n",
       "  </thead>\n",
       "  <tbody>\n",
       "    <tr>\n",
       "      <th>0</th>\n",
       "      <td>Male</td>\n",
       "      <td>No</td>\n",
       "      <td>22</td>\n",
       "      <td>No</td>\n",
       "      <td>Healthcare</td>\n",
       "      <td>1.0</td>\n",
       "      <td>Low</td>\n",
       "      <td>4.0</td>\n",
       "      <td>Cat_4</td>\n",
       "      <td>0</td>\n",
       "    </tr>\n",
       "    <tr>\n",
       "      <th>1</th>\n",
       "      <td>Female</td>\n",
       "      <td>Yes</td>\n",
       "      <td>38</td>\n",
       "      <td>Yes</td>\n",
       "      <td>Engineer</td>\n",
       "      <td>NaN</td>\n",
       "      <td>Average</td>\n",
       "      <td>3.0</td>\n",
       "      <td>Cat_4</td>\n",
       "      <td>1</td>\n",
       "    </tr>\n",
       "    <tr>\n",
       "      <th>2</th>\n",
       "      <td>Female</td>\n",
       "      <td>Yes</td>\n",
       "      <td>67</td>\n",
       "      <td>Yes</td>\n",
       "      <td>Engineer</td>\n",
       "      <td>1.0</td>\n",
       "      <td>Low</td>\n",
       "      <td>1.0</td>\n",
       "      <td>Cat_6</td>\n",
       "      <td>3</td>\n",
       "    </tr>\n",
       "    <tr>\n",
       "      <th>3</th>\n",
       "      <td>Male</td>\n",
       "      <td>Yes</td>\n",
       "      <td>67</td>\n",
       "      <td>Yes</td>\n",
       "      <td>Lawyer</td>\n",
       "      <td>0.0</td>\n",
       "      <td>High</td>\n",
       "      <td>2.0</td>\n",
       "      <td>Cat_6</td>\n",
       "      <td>3</td>\n",
       "    </tr>\n",
       "    <tr>\n",
       "      <th>4</th>\n",
       "      <td>Female</td>\n",
       "      <td>Yes</td>\n",
       "      <td>40</td>\n",
       "      <td>Yes</td>\n",
       "      <td>Entertainment</td>\n",
       "      <td>NaN</td>\n",
       "      <td>High</td>\n",
       "      <td>6.0</td>\n",
       "      <td>Cat_6</td>\n",
       "      <td>1</td>\n",
       "    </tr>\n",
       "    <tr>\n",
       "      <th>...</th>\n",
       "      <td>...</td>\n",
       "      <td>...</td>\n",
       "      <td>...</td>\n",
       "      <td>...</td>\n",
       "      <td>...</td>\n",
       "      <td>...</td>\n",
       "      <td>...</td>\n",
       "      <td>...</td>\n",
       "      <td>...</td>\n",
       "      <td>...</td>\n",
       "    </tr>\n",
       "    <tr>\n",
       "      <th>8063</th>\n",
       "      <td>Male</td>\n",
       "      <td>No</td>\n",
       "      <td>22</td>\n",
       "      <td>No</td>\n",
       "      <td>NaN</td>\n",
       "      <td>0.0</td>\n",
       "      <td>Low</td>\n",
       "      <td>7.0</td>\n",
       "      <td>Cat_1</td>\n",
       "      <td>0</td>\n",
       "    </tr>\n",
       "    <tr>\n",
       "      <th>8064</th>\n",
       "      <td>Male</td>\n",
       "      <td>No</td>\n",
       "      <td>35</td>\n",
       "      <td>No</td>\n",
       "      <td>Executive</td>\n",
       "      <td>3.0</td>\n",
       "      <td>Low</td>\n",
       "      <td>4.0</td>\n",
       "      <td>Cat_4</td>\n",
       "      <td>0</td>\n",
       "    </tr>\n",
       "    <tr>\n",
       "      <th>8065</th>\n",
       "      <td>Female</td>\n",
       "      <td>No</td>\n",
       "      <td>33</td>\n",
       "      <td>Yes</td>\n",
       "      <td>Healthcare</td>\n",
       "      <td>1.0</td>\n",
       "      <td>Low</td>\n",
       "      <td>1.0</td>\n",
       "      <td>Cat_6</td>\n",
       "      <td>0</td>\n",
       "    </tr>\n",
       "    <tr>\n",
       "      <th>8066</th>\n",
       "      <td>Female</td>\n",
       "      <td>No</td>\n",
       "      <td>27</td>\n",
       "      <td>Yes</td>\n",
       "      <td>Healthcare</td>\n",
       "      <td>1.0</td>\n",
       "      <td>Low</td>\n",
       "      <td>4.0</td>\n",
       "      <td>Cat_6</td>\n",
       "      <td>3</td>\n",
       "    </tr>\n",
       "    <tr>\n",
       "      <th>8067</th>\n",
       "      <td>Male</td>\n",
       "      <td>Yes</td>\n",
       "      <td>37</td>\n",
       "      <td>Yes</td>\n",
       "      <td>Executive</td>\n",
       "      <td>0.0</td>\n",
       "      <td>Average</td>\n",
       "      <td>3.0</td>\n",
       "      <td>Cat_4</td>\n",
       "      <td>3</td>\n",
       "    </tr>\n",
       "  </tbody>\n",
       "</table>\n",
       "<p>8068 rows × 10 columns</p>\n",
       "</div>"
      ],
      "text/plain": [
       "      Gender Ever_Married  Age Graduated     Profession  Work_Experience  \\\n",
       "0       Male           No   22        No     Healthcare              1.0   \n",
       "1     Female          Yes   38       Yes       Engineer              NaN   \n",
       "2     Female          Yes   67       Yes       Engineer              1.0   \n",
       "3       Male          Yes   67       Yes         Lawyer              0.0   \n",
       "4     Female          Yes   40       Yes  Entertainment              NaN   \n",
       "...      ...          ...  ...       ...            ...              ...   \n",
       "8063    Male           No   22        No            NaN              0.0   \n",
       "8064    Male           No   35        No      Executive              3.0   \n",
       "8065  Female           No   33       Yes     Healthcare              1.0   \n",
       "8066  Female           No   27       Yes     Healthcare              1.0   \n",
       "8067    Male          Yes   37       Yes      Executive              0.0   \n",
       "\n",
       "     Spending_Score  Family_Size  Var_1  Segmentation  \n",
       "0               Low          4.0  Cat_4             0  \n",
       "1           Average          3.0  Cat_4             1  \n",
       "2               Low          1.0  Cat_6             3  \n",
       "3              High          2.0  Cat_6             3  \n",
       "4              High          6.0  Cat_6             1  \n",
       "...             ...          ...    ...           ...  \n",
       "8063            Low          7.0  Cat_1             0  \n",
       "8064            Low          4.0  Cat_4             0  \n",
       "8065            Low          1.0  Cat_6             0  \n",
       "8066            Low          4.0  Cat_6             3  \n",
       "8067        Average          3.0  Cat_4             3  \n",
       "\n",
       "[8068 rows x 10 columns]"
      ]
     },
     "execution_count": 3,
     "metadata": {},
     "output_type": "execute_result"
    }
   ],
   "source": [
    "#load data\n",
    "nrows = 10000\n",
    "df = pd.read_csv('customer_segment.csv', nrows = nrows) \n",
    "df.drop(columns= ['ID'],inplace=True)\n",
    "# transform target variable\n",
    "from sklearn.preprocessing import LabelEncoder\n",
    "# df.Segmentation=LabelEncoder().fit_transform(df.Segmentation)\n",
    "df.Segmentation=transform_list(df.Segmentation)\n",
    "df"
   ]
  },
  {
   "cell_type": "code",
   "execution_count": 4,
   "id": "231ce29b",
   "metadata": {},
   "outputs": [],
   "source": [
    "# train valid test split\n",
    "X_train, y_train, X_valid, y_valid, X_test, y_test = train_valid_test_split2(df)\n",
    "# feature engineering\n",
    "X_train, X_valid, X_test = ohe(X_train, X_valid, X_test)\n",
    "X_train, X_valid, X_test = std_scale(X_train, X_valid, X_test)\n",
    "# oversampling\n",
    "# X_train, y_train = oversampling(X_train, y_train)"
   ]
  },
  {
   "cell_type": "code",
   "execution_count": 5,
   "id": "1d6707ba",
   "metadata": {},
   "outputs": [
    {
     "data": {
      "text/html": [
       "<div>\n",
       "<style scoped>\n",
       "    .dataframe tbody tr th:only-of-type {\n",
       "        vertical-align: middle;\n",
       "    }\n",
       "\n",
       "    .dataframe tbody tr th {\n",
       "        vertical-align: top;\n",
       "    }\n",
       "\n",
       "    .dataframe thead th {\n",
       "        text-align: right;\n",
       "    }\n",
       "</style>\n",
       "<table border=\"1\" class=\"dataframe\">\n",
       "  <thead>\n",
       "    <tr style=\"text-align: right;\">\n",
       "      <th></th>\n",
       "      <th>Age</th>\n",
       "      <th>Work_Experience</th>\n",
       "      <th>Family_Size</th>\n",
       "      <th>Gender_Female</th>\n",
       "      <th>Gender_Male</th>\n",
       "      <th>Ever_Married_No</th>\n",
       "      <th>Ever_Married_Yes</th>\n",
       "      <th>Graduated_No</th>\n",
       "      <th>Graduated_Yes</th>\n",
       "      <th>Profession_Artist</th>\n",
       "      <th>...</th>\n",
       "      <th>Spending_Score_Average</th>\n",
       "      <th>Spending_Score_High</th>\n",
       "      <th>Spending_Score_Low</th>\n",
       "      <th>Var_1_Cat_1</th>\n",
       "      <th>Var_1_Cat_2</th>\n",
       "      <th>Var_1_Cat_3</th>\n",
       "      <th>Var_1_Cat_4</th>\n",
       "      <th>Var_1_Cat_5</th>\n",
       "      <th>Var_1_Cat_6</th>\n",
       "      <th>Var_1_Cat_7</th>\n",
       "    </tr>\n",
       "  </thead>\n",
       "  <tbody>\n",
       "    <tr>\n",
       "      <th>0</th>\n",
       "      <td>-1.133008</td>\n",
       "      <td>-0.583689</td>\n",
       "      <td>-1.002499</td>\n",
       "      <td>1.102238</td>\n",
       "      <td>-1.102238</td>\n",
       "      <td>1.211599</td>\n",
       "      <td>-1.168372</td>\n",
       "      <td>1.296412</td>\n",
       "      <td>-1.267902</td>\n",
       "      <td>-0.670119</td>\n",
       "      <td>...</td>\n",
       "      <td>-0.575934</td>\n",
       "      <td>-0.423763</td>\n",
       "      <td>0.818739</td>\n",
       "      <td>-0.118923</td>\n",
       "      <td>-0.237192</td>\n",
       "      <td>2.953500</td>\n",
       "      <td>-0.399955</td>\n",
       "      <td>-0.100867</td>\n",
       "      <td>-1.354142</td>\n",
       "      <td>-0.163234</td>\n",
       "    </tr>\n",
       "    <tr>\n",
       "      <th>1</th>\n",
       "      <td>1.192590</td>\n",
       "      <td>-0.245058</td>\n",
       "      <td>0.086324</td>\n",
       "      <td>-0.907245</td>\n",
       "      <td>0.907245</td>\n",
       "      <td>-0.825355</td>\n",
       "      <td>0.855892</td>\n",
       "      <td>-0.771359</td>\n",
       "      <td>0.788704</td>\n",
       "      <td>-0.670119</td>\n",
       "      <td>...</td>\n",
       "      <td>-0.575934</td>\n",
       "      <td>2.359810</td>\n",
       "      <td>-1.221391</td>\n",
       "      <td>-0.118923</td>\n",
       "      <td>-0.237192</td>\n",
       "      <td>-0.338581</td>\n",
       "      <td>-0.399955</td>\n",
       "      <td>-0.100867</td>\n",
       "      <td>0.738475</td>\n",
       "      <td>-0.163234</td>\n",
       "    </tr>\n",
       "    <tr>\n",
       "      <th>2</th>\n",
       "      <td>0.350563</td>\n",
       "      <td>2.463984</td>\n",
       "      <td>0.086324</td>\n",
       "      <td>1.102238</td>\n",
       "      <td>-1.102238</td>\n",
       "      <td>-0.825355</td>\n",
       "      <td>0.855892</td>\n",
       "      <td>-0.771359</td>\n",
       "      <td>0.788704</td>\n",
       "      <td>-0.670119</td>\n",
       "      <td>...</td>\n",
       "      <td>1.736311</td>\n",
       "      <td>-0.423763</td>\n",
       "      <td>-1.221391</td>\n",
       "      <td>-0.118923</td>\n",
       "      <td>-0.237192</td>\n",
       "      <td>-0.338581</td>\n",
       "      <td>-0.399955</td>\n",
       "      <td>-0.100867</td>\n",
       "      <td>0.738475</td>\n",
       "      <td>-0.163234</td>\n",
       "    </tr>\n",
       "    <tr>\n",
       "      <th>3</th>\n",
       "      <td>0.911914</td>\n",
       "      <td>-0.583689</td>\n",
       "      <td>0.086324</td>\n",
       "      <td>-0.907245</td>\n",
       "      <td>0.907245</td>\n",
       "      <td>-0.825355</td>\n",
       "      <td>0.855892</td>\n",
       "      <td>-0.771359</td>\n",
       "      <td>0.788704</td>\n",
       "      <td>1.492272</td>\n",
       "      <td>...</td>\n",
       "      <td>-0.575934</td>\n",
       "      <td>-0.423763</td>\n",
       "      <td>0.818739</td>\n",
       "      <td>-0.118923</td>\n",
       "      <td>-0.237192</td>\n",
       "      <td>-0.338581</td>\n",
       "      <td>-0.399955</td>\n",
       "      <td>-0.100867</td>\n",
       "      <td>0.738475</td>\n",
       "      <td>-0.163234</td>\n",
       "    </tr>\n",
       "    <tr>\n",
       "      <th>4</th>\n",
       "      <td>-0.210788</td>\n",
       "      <td>-0.245058</td>\n",
       "      <td>1.719559</td>\n",
       "      <td>-0.907245</td>\n",
       "      <td>0.907245</td>\n",
       "      <td>-0.825355</td>\n",
       "      <td>0.855892</td>\n",
       "      <td>1.296412</td>\n",
       "      <td>-1.267902</td>\n",
       "      <td>-0.670119</td>\n",
       "      <td>...</td>\n",
       "      <td>-0.575934</td>\n",
       "      <td>2.359810</td>\n",
       "      <td>-1.221391</td>\n",
       "      <td>-0.118923</td>\n",
       "      <td>-0.237192</td>\n",
       "      <td>-0.338581</td>\n",
       "      <td>-0.399955</td>\n",
       "      <td>-0.100867</td>\n",
       "      <td>0.738475</td>\n",
       "      <td>-0.163234</td>\n",
       "    </tr>\n",
       "    <tr>\n",
       "      <th>...</th>\n",
       "      <td>...</td>\n",
       "      <td>...</td>\n",
       "      <td>...</td>\n",
       "      <td>...</td>\n",
       "      <td>...</td>\n",
       "      <td>...</td>\n",
       "      <td>...</td>\n",
       "      <td>...</td>\n",
       "      <td>...</td>\n",
       "      <td>...</td>\n",
       "      <td>...</td>\n",
       "      <td>...</td>\n",
       "      <td>...</td>\n",
       "      <td>...</td>\n",
       "      <td>...</td>\n",
       "      <td>...</td>\n",
       "      <td>...</td>\n",
       "      <td>...</td>\n",
       "      <td>...</td>\n",
       "      <td>...</td>\n",
       "      <td>...</td>\n",
       "    </tr>\n",
       "    <tr>\n",
       "      <th>5158</th>\n",
       "      <td>0.430756</td>\n",
       "      <td>0.770833</td>\n",
       "      <td>0.630736</td>\n",
       "      <td>-0.907245</td>\n",
       "      <td>0.907245</td>\n",
       "      <td>1.211599</td>\n",
       "      <td>-1.168372</td>\n",
       "      <td>-0.771359</td>\n",
       "      <td>0.788704</td>\n",
       "      <td>-0.670119</td>\n",
       "      <td>...</td>\n",
       "      <td>-0.575934</td>\n",
       "      <td>-0.423763</td>\n",
       "      <td>0.818739</td>\n",
       "      <td>-0.118923</td>\n",
       "      <td>4.215987</td>\n",
       "      <td>-0.338581</td>\n",
       "      <td>-0.399955</td>\n",
       "      <td>-0.100867</td>\n",
       "      <td>-1.354142</td>\n",
       "      <td>-0.163234</td>\n",
       "    </tr>\n",
       "    <tr>\n",
       "      <th>5159</th>\n",
       "      <td>0.150080</td>\n",
       "      <td>0.545079</td>\n",
       "      <td>1.719559</td>\n",
       "      <td>-0.907245</td>\n",
       "      <td>0.907245</td>\n",
       "      <td>-0.825355</td>\n",
       "      <td>0.855892</td>\n",
       "      <td>-0.771359</td>\n",
       "      <td>0.788704</td>\n",
       "      <td>1.492272</td>\n",
       "      <td>...</td>\n",
       "      <td>1.736311</td>\n",
       "      <td>-0.423763</td>\n",
       "      <td>-1.221391</td>\n",
       "      <td>-0.118923</td>\n",
       "      <td>-0.237192</td>\n",
       "      <td>-0.338581</td>\n",
       "      <td>-0.399955</td>\n",
       "      <td>-0.100867</td>\n",
       "      <td>0.738475</td>\n",
       "      <td>-0.163234</td>\n",
       "    </tr>\n",
       "    <tr>\n",
       "      <th>5160</th>\n",
       "      <td>-1.133008</td>\n",
       "      <td>-0.583689</td>\n",
       "      <td>-1.002499</td>\n",
       "      <td>1.102238</td>\n",
       "      <td>-1.102238</td>\n",
       "      <td>1.211599</td>\n",
       "      <td>-1.168372</td>\n",
       "      <td>-0.771359</td>\n",
       "      <td>0.788704</td>\n",
       "      <td>1.492272</td>\n",
       "      <td>...</td>\n",
       "      <td>-0.575934</td>\n",
       "      <td>-0.423763</td>\n",
       "      <td>0.818739</td>\n",
       "      <td>-0.118923</td>\n",
       "      <td>-0.237192</td>\n",
       "      <td>-0.338581</td>\n",
       "      <td>-0.399955</td>\n",
       "      <td>-0.100867</td>\n",
       "      <td>0.738475</td>\n",
       "      <td>-0.163234</td>\n",
       "    </tr>\n",
       "    <tr>\n",
       "      <th>5161</th>\n",
       "      <td>-0.331078</td>\n",
       "      <td>-0.245058</td>\n",
       "      <td>0.630736</td>\n",
       "      <td>-0.907245</td>\n",
       "      <td>0.907245</td>\n",
       "      <td>-0.825355</td>\n",
       "      <td>0.855892</td>\n",
       "      <td>-0.771359</td>\n",
       "      <td>0.788704</td>\n",
       "      <td>-0.670119</td>\n",
       "      <td>...</td>\n",
       "      <td>1.736311</td>\n",
       "      <td>-0.423763</td>\n",
       "      <td>-1.221391</td>\n",
       "      <td>-0.118923</td>\n",
       "      <td>-0.237192</td>\n",
       "      <td>-0.338581</td>\n",
       "      <td>-0.399955</td>\n",
       "      <td>9.914054</td>\n",
       "      <td>-1.354142</td>\n",
       "      <td>-0.163234</td>\n",
       "    </tr>\n",
       "    <tr>\n",
       "      <th>5162</th>\n",
       "      <td>0.591142</td>\n",
       "      <td>0.432202</td>\n",
       "      <td>1.175147</td>\n",
       "      <td>-0.907245</td>\n",
       "      <td>0.907245</td>\n",
       "      <td>-0.825355</td>\n",
       "      <td>0.855892</td>\n",
       "      <td>1.296412</td>\n",
       "      <td>-1.267902</td>\n",
       "      <td>-0.670119</td>\n",
       "      <td>...</td>\n",
       "      <td>-0.575934</td>\n",
       "      <td>-0.423763</td>\n",
       "      <td>0.818739</td>\n",
       "      <td>-0.118923</td>\n",
       "      <td>-0.237192</td>\n",
       "      <td>-0.338581</td>\n",
       "      <td>-0.399955</td>\n",
       "      <td>-0.100867</td>\n",
       "      <td>0.738475</td>\n",
       "      <td>-0.163234</td>\n",
       "    </tr>\n",
       "  </tbody>\n",
       "</table>\n",
       "<p>5163 rows × 28 columns</p>\n",
       "</div>"
      ],
      "text/plain": [
       "           Age  Work_Experience  Family_Size  Gender_Female  Gender_Male  \\\n",
       "0    -1.133008        -0.583689    -1.002499       1.102238    -1.102238   \n",
       "1     1.192590        -0.245058     0.086324      -0.907245     0.907245   \n",
       "2     0.350563         2.463984     0.086324       1.102238    -1.102238   \n",
       "3     0.911914        -0.583689     0.086324      -0.907245     0.907245   \n",
       "4    -0.210788        -0.245058     1.719559      -0.907245     0.907245   \n",
       "...        ...              ...          ...            ...          ...   \n",
       "5158  0.430756         0.770833     0.630736      -0.907245     0.907245   \n",
       "5159  0.150080         0.545079     1.719559      -0.907245     0.907245   \n",
       "5160 -1.133008        -0.583689    -1.002499       1.102238    -1.102238   \n",
       "5161 -0.331078        -0.245058     0.630736      -0.907245     0.907245   \n",
       "5162  0.591142         0.432202     1.175147      -0.907245     0.907245   \n",
       "\n",
       "      Ever_Married_No  Ever_Married_Yes  Graduated_No  Graduated_Yes  \\\n",
       "0            1.211599         -1.168372      1.296412      -1.267902   \n",
       "1           -0.825355          0.855892     -0.771359       0.788704   \n",
       "2           -0.825355          0.855892     -0.771359       0.788704   \n",
       "3           -0.825355          0.855892     -0.771359       0.788704   \n",
       "4           -0.825355          0.855892      1.296412      -1.267902   \n",
       "...               ...               ...           ...            ...   \n",
       "5158         1.211599         -1.168372     -0.771359       0.788704   \n",
       "5159        -0.825355          0.855892     -0.771359       0.788704   \n",
       "5160         1.211599         -1.168372     -0.771359       0.788704   \n",
       "5161        -0.825355          0.855892     -0.771359       0.788704   \n",
       "5162        -0.825355          0.855892      1.296412      -1.267902   \n",
       "\n",
       "      Profession_Artist  ...  Spending_Score_Average  Spending_Score_High  \\\n",
       "0             -0.670119  ...               -0.575934            -0.423763   \n",
       "1             -0.670119  ...               -0.575934             2.359810   \n",
       "2             -0.670119  ...                1.736311            -0.423763   \n",
       "3              1.492272  ...               -0.575934            -0.423763   \n",
       "4             -0.670119  ...               -0.575934             2.359810   \n",
       "...                 ...  ...                     ...                  ...   \n",
       "5158          -0.670119  ...               -0.575934            -0.423763   \n",
       "5159           1.492272  ...                1.736311            -0.423763   \n",
       "5160           1.492272  ...               -0.575934            -0.423763   \n",
       "5161          -0.670119  ...                1.736311            -0.423763   \n",
       "5162          -0.670119  ...               -0.575934            -0.423763   \n",
       "\n",
       "      Spending_Score_Low  Var_1_Cat_1  Var_1_Cat_2  Var_1_Cat_3  Var_1_Cat_4  \\\n",
       "0               0.818739    -0.118923    -0.237192     2.953500    -0.399955   \n",
       "1              -1.221391    -0.118923    -0.237192    -0.338581    -0.399955   \n",
       "2              -1.221391    -0.118923    -0.237192    -0.338581    -0.399955   \n",
       "3               0.818739    -0.118923    -0.237192    -0.338581    -0.399955   \n",
       "4              -1.221391    -0.118923    -0.237192    -0.338581    -0.399955   \n",
       "...                  ...          ...          ...          ...          ...   \n",
       "5158            0.818739    -0.118923     4.215987    -0.338581    -0.399955   \n",
       "5159           -1.221391    -0.118923    -0.237192    -0.338581    -0.399955   \n",
       "5160            0.818739    -0.118923    -0.237192    -0.338581    -0.399955   \n",
       "5161           -1.221391    -0.118923    -0.237192    -0.338581    -0.399955   \n",
       "5162            0.818739    -0.118923    -0.237192    -0.338581    -0.399955   \n",
       "\n",
       "      Var_1_Cat_5  Var_1_Cat_6  Var_1_Cat_7  \n",
       "0       -0.100867    -1.354142    -0.163234  \n",
       "1       -0.100867     0.738475    -0.163234  \n",
       "2       -0.100867     0.738475    -0.163234  \n",
       "3       -0.100867     0.738475    -0.163234  \n",
       "4       -0.100867     0.738475    -0.163234  \n",
       "...           ...          ...          ...  \n",
       "5158    -0.100867    -1.354142    -0.163234  \n",
       "5159    -0.100867     0.738475    -0.163234  \n",
       "5160    -0.100867     0.738475    -0.163234  \n",
       "5161     9.914054    -1.354142    -0.163234  \n",
       "5162    -0.100867     0.738475    -0.163234  \n",
       "\n",
       "[5163 rows x 28 columns]"
      ]
     },
     "execution_count": 5,
     "metadata": {},
     "output_type": "execute_result"
    }
   ],
   "source": [
    "X_train"
   ]
  },
  {
   "cell_type": "code",
   "execution_count": 6,
   "id": "2f2dc7c0",
   "metadata": {},
   "outputs": [],
   "source": [
    "df_time = pd.DataFrame()\n",
    "nn_final=pd.DataFrame()"
   ]
  },
  {
   "cell_type": "markdown",
   "id": "27d4c040",
   "metadata": {},
   "source": [
    "# Clustering"
   ]
  },
  {
   "cell_type": "markdown",
   "id": "d3d0ffad",
   "metadata": {},
   "source": [
    "## Kmeans"
   ]
  },
  {
   "cell_type": "code",
   "execution_count": 7,
   "id": "7df32d8b",
   "metadata": {},
   "outputs": [
    {
     "data": {
      "image/png": "[encoded data removed]",
      "text/plain": [
       "<Figure size 576x432 with 2 Axes>"
      ]
     },
     "metadata": {
      "needs_background": "light"
     },
     "output_type": "display_data"
    },
    {
     "name": "stdout",
     "output_type": "stream",
     "text": [
      "label    0.0  1.0  2.0  3.0\n",
      "cluster                    \n",
      "0.0      348  291  260  260\n",
      "1.0      220  188  174  168\n",
      "2.0      125  132  129  125\n",
      "3.0       84   66   70   66\n",
      "4.0       63   67   67   60\n",
      "5.0       80   58   54   63\n",
      "6.0       32   31   34   18\n"
     ]
    },
    {
     "data": {
      "image/png": "[encoded data removed]",
      "text/plain": [
       "<Figure size 432x288 with 1 Axes>"
      ]
     },
     "metadata": {
      "needs_background": "light"
     },
     "output_type": "display_data"
    }
   ],
   "source": [
    "name = 'kmeans'\n",
    "# pick k\n",
    "plot_kmeans(X_train)\n",
    "\n",
    "# model\n",
    "k = 7\n",
    "t_start = process_time()\n",
    "kmeans_labels = KMeans(n_clusters=k, random_state=0).fit_predict(X_train)\n",
    "kmeans_labels = transform_list(kmeans_labels)\n",
    "t_stop = process_time()\n",
    "t = t_stop - t_start\n",
    "df_time = df_time.append(gen_op(name,t, y_train, kmeans_labels))\n",
    "plot_cluster_label(kmeans_labels, y_train)"
   ]
  },
  {
   "cell_type": "code",
   "execution_count": 8,
   "id": "147b146b",
   "metadata": {},
   "outputs": [
    {
     "data": {
      "text/html": [
       "<div>\n",
       "<style scoped>\n",
       "    .dataframe tbody tr th:only-of-type {\n",
       "        vertical-align: middle;\n",
       "    }\n",
       "\n",
       "    .dataframe tbody tr th {\n",
       "        vertical-align: top;\n",
       "    }\n",
       "\n",
       "    .dataframe thead th {\n",
       "        text-align: right;\n",
       "    }\n",
       "</style>\n",
       "<table border=\"1\" class=\"dataframe\">\n",
       "  <thead>\n",
       "    <tr style=\"text-align: right;\">\n",
       "      <th></th>\n",
       "      <th>name</th>\n",
       "      <th>time</th>\n",
       "      <th>f1_score</th>\n",
       "    </tr>\n",
       "  </thead>\n",
       "  <tbody>\n",
       "    <tr>\n",
       "      <th>0</th>\n",
       "      <td>kmeans</td>\n",
       "      <td>0.406</td>\n",
       "      <td>0.161</td>\n",
       "    </tr>\n",
       "  </tbody>\n",
       "</table>\n",
       "</div>"
      ],
      "text/plain": [
       "     name   time  f1_score\n",
       "0  kmeans  0.406     0.161"
      ]
     },
     "execution_count": 8,
     "metadata": {},
     "output_type": "execute_result"
    }
   ],
   "source": [
    "df_time"
   ]
  },
  {
   "cell_type": "markdown",
   "id": "eb08a76e",
   "metadata": {},
   "source": [
    "## Expectation Maximization"
   ]
  },
  {
   "cell_type": "code",
   "execution_count": 9,
   "id": "f2698e7b",
   "metadata": {},
   "outputs": [
    {
     "data": {
      "image/png": "[encoded data removed]",
      "text/plain": [
       "<Figure size 576x432 with 1 Axes>"
      ]
     },
     "metadata": {
      "needs_background": "light"
     },
     "output_type": "display_data"
    },
    {
     "name": "stdout",
     "output_type": "stream",
     "text": [
      "label    0.0  1.0  2.0  3.0\n",
      "cluster                    \n",
      "0.0      366  331  317  303\n",
      "1.0      337  269  248  244\n",
      "2.0      177  154  144  142\n",
      "3.0       61   64   67   60\n",
      "4.0       11   15   12   11\n"
     ]
    },
    {
     "data": {
      "image/png": "[encoded data removed]",
      "text/plain": [
       "<Figure size 432x288 with 1 Axes>"
      ]
     },
     "metadata": {
      "needs_background": "light"
     },
     "output_type": "display_data"
    }
   ],
   "source": [
    "name = 'em'\n",
    "# pick n\n",
    "plot_em(X_train)\n",
    "\n",
    "# model\n",
    "t_start = process_time()\n",
    "n = 5\n",
    "em_labels = GaussianMixture(n_components=n).fit_predict(X_train)\n",
    "em_labels = transform_list(em_labels)\n",
    "t_stop = process_time()\n",
    "t = t_stop - t_start\n",
    "df_time = df_time.append(gen_op(name,t, y_train, em_labels))\n",
    "plot_cluster_label(em_labels, y_train)"
   ]
  },
  {
   "cell_type": "code",
   "execution_count": 10,
   "id": "f89802c2",
   "metadata": {},
   "outputs": [
    {
     "data": {
      "text/html": [
       "<div>\n",
       "<style scoped>\n",
       "    .dataframe tbody tr th:only-of-type {\n",
       "        vertical-align: middle;\n",
       "    }\n",
       "\n",
       "    .dataframe tbody tr th {\n",
       "        vertical-align: top;\n",
       "    }\n",
       "\n",
       "    .dataframe thead th {\n",
       "        text-align: right;\n",
       "    }\n",
       "</style>\n",
       "<table border=\"1\" class=\"dataframe\">\n",
       "  <thead>\n",
       "    <tr style=\"text-align: right;\">\n",
       "      <th></th>\n",
       "      <th>name</th>\n",
       "      <th>time</th>\n",
       "      <th>f1_score</th>\n",
       "    </tr>\n",
       "  </thead>\n",
       "  <tbody>\n",
       "    <tr>\n",
       "      <th>0</th>\n",
       "      <td>kmeans</td>\n",
       "      <td>0.406</td>\n",
       "      <td>0.161</td>\n",
       "    </tr>\n",
       "    <tr>\n",
       "      <th>0</th>\n",
       "      <td>em</td>\n",
       "      <td>0.750</td>\n",
       "      <td>0.282</td>\n",
       "    </tr>\n",
       "  </tbody>\n",
       "</table>\n",
       "</div>"
      ],
      "text/plain": [
       "     name   time  f1_score\n",
       "0  kmeans  0.406     0.161\n",
       "0      em  0.750     0.282"
      ]
     },
     "execution_count": 10,
     "metadata": {},
     "output_type": "execute_result"
    }
   ],
   "source": [
    "df_time"
   ]
  },
  {
   "cell_type": "markdown",
   "id": "a2885356",
   "metadata": {},
   "source": [
    "# Dimensional Reduction"
   ]
  },
  {
   "cell_type": "markdown",
   "id": "04df926c",
   "metadata": {},
   "source": [
    "## PCA"
   ]
  },
  {
   "cell_type": "code",
   "execution_count": 11,
   "id": "45b6a382",
   "metadata": {},
   "outputs": [
    {
     "data": {
      "image/png": "[encoded data removed]",
      "text/plain": [
       "<Figure size 432x288 with 1 Axes>"
      ]
     },
     "metadata": {
      "needs_background": "light"
     },
     "output_type": "display_data"
    },
    {
     "name": "stdout",
     "output_type": "stream",
     "text": [
      "Total number of feature is:  28\n",
      "Number of components needed to explain at least 75% of the variance: 14\n",
      "Total variance explained by 14 components: 0.78\n"
     ]
    }
   ],
   "source": [
    "# Fit PCA on the training data\n",
    "pca = PCA()\n",
    "pca.fit(X_train)\n",
    "\n",
    "# print(pca.explained_variance_ratio_)\n",
    "# Plot the explained variance ratio for each component\n",
    "import matplotlib.pyplot as plt\n",
    "# pca.explained_variance_ratio_ = pca.explained_variance_ratio_[0:10]\n",
    "plt.plot(pca.explained_variance_ratio_)\n",
    "plt.xlabel('Number of Components')\n",
    "plt.ylabel('Explained Variance Ratio')\n",
    "plt.xticks(np.arange(len(pca.explained_variance_ratio_)), np.arange(1, len(pca.explained_variance_ratio_)+1))\n",
    "plt.grid(True)\n",
    "plt.show()\n",
    "\n",
    "# Choose the number of components that explain at least 95% of the variance\n",
    "cumulative_variance_ratio = np.cumsum(pca.explained_variance_ratio_)\n",
    "n_components = np.argmax(cumulative_variance_ratio >= 0.75) + 1\n",
    "print('Total number of feature is: ', len(pca.explained_variance_ratio_))\n",
    "print(f\"Number of components needed to explain at least 75% of the variance: {n_components}\")\n",
    "\n",
    "# Get the total variance explained by the selected number of components\n",
    "total_variance_explained = np.sum(pca.explained_variance_ratio_[:n_components])\n",
    "print(f\"Total variance explained by {n_components} components: {total_variance_explained:.2f}\")"
   ]
  },
  {
   "cell_type": "code",
   "execution_count": 12,
   "id": "d6557d7f",
   "metadata": {},
   "outputs": [
    {
     "name": "stdout",
     "output_type": "stream",
     "text": [
      "Total time:  0.0\n"
     ]
    }
   ],
   "source": [
    "t_start = process_time()\n",
    "pca_n = n_components\n",
    "X_train_pca = pd.DataFrame(pca.transform(X_train)[:, :pca_n])\n",
    "X_test2 = pd.DataFrame(pca.transform(X_test)[:, :pca_n])\n",
    "X_t = X_train_pca.copy()\n",
    "t_stop = process_time()\n",
    "t = t_stop - t_start\n",
    "print('Total time: ', t)"
   ]
  },
  {
   "cell_type": "markdown",
   "id": "cd68e4c8",
   "metadata": {},
   "source": [
    "### Kmeans pca"
   ]
  },
  {
   "cell_type": "code",
   "execution_count": 13,
   "id": "953e4898",
   "metadata": {},
   "outputs": [
    {
     "data": {
      "image/png": "[encoded data removed]",
      "text/plain": [
       "<Figure size 576x432 with 2 Axes>"
      ]
     },
     "metadata": {
      "needs_background": "light"
     },
     "output_type": "display_data"
    },
    {
     "name": "stdout",
     "output_type": "stream",
     "text": [
      "label    0.0  1.0  2.0  3.0\n",
      "cluster                    \n",
      "0.0      231  200  176  172\n",
      "1.0      157  132  142  133\n",
      "2.0      138  144  128  122\n",
      "3.0       90   81   73   80\n",
      "4.0       95   78   66   61\n",
      "5.0       84   68   75   62\n",
      "6.0       93   62   61   71\n",
      "7.0       64   68   67   59\n"
     ]
    },
    {
     "data": {
      "image/png": "[encoded data removed]",
      "text/plain": [
       "<Figure size 432x288 with 1 Axes>"
      ]
     },
     "metadata": {
      "needs_background": "light"
     },
     "output_type": "display_data"
    },
    {
     "name": "stdout",
     "output_type": "stream",
     "text": [
      "     acc  cv_score  train_roc  test_roc  recall_score  f1_score  run_time  \\\n",
      "0  0.458     0.487      0.751     0.732         0.458     0.445     0.516   \n",
      "\n",
      "         name  \n",
      "0  kmeans_pca  \n"
     ]
    }
   ],
   "source": [
    "name = 'kmeans_pca'\n",
    "\n",
    "# pick k\n",
    "plot_kmeans(X_t)\n",
    "\n",
    "# model\n",
    "k = 8\n",
    "t_start = process_time()\n",
    "km = KMeans(n_clusters=k, random_state=0)\n",
    "kmeans_labels = km.fit_predict(X_t)\n",
    "test_labels = km.fit_predict(X_test2)\n",
    "kmeans_labels = transform_list(kmeans_labels)\n",
    "t_stop = process_time()\n",
    "t = t_stop - t_start\n",
    "df_time = df_time.append(gen_op(name,t, y_train, kmeans_labels))\n",
    "# print(t)\n",
    "plot_cluster_label(kmeans_labels, y_train)\n",
    "nn_final=nn_final.append(run_nn(name, X_t, kmeans_labels, y_train, X_test2, test_labels, y_test))"
   ]
  },
  {
   "cell_type": "markdown",
   "id": "067ad374",
   "metadata": {},
   "source": [
    "### EM pca"
   ]
  },
  {
   "cell_type": "code",
   "execution_count": 14,
   "id": "17b04f0e",
   "metadata": {},
   "outputs": [
    {
     "data": {
      "image/png": "[encoded data removed]",
      "text/plain": [
       "<Figure size 576x432 with 1 Axes>"
      ]
     },
     "metadata": {
      "needs_background": "light"
     },
     "output_type": "display_data"
    },
    {
     "name": "stdout",
     "output_type": "stream",
     "text": [
      "label    0.0  1.0  2.0  3.0\n",
      "cluster                    \n",
      "0.0      270  246  223  210\n",
      "1.0      252  212  183  186\n",
      "2.0      146  154  147  142\n",
      "3.0      150  107  120  107\n",
      "4.0      134  114  115  115\n"
     ]
    },
    {
     "data": {
      "image/png": "[encoded data removed]",
      "text/plain": [
       "<Figure size 432x288 with 1 Axes>"
      ]
     },
     "metadata": {
      "needs_background": "light"
     },
     "output_type": "display_data"
    },
    {
     "name": "stdout",
     "output_type": "stream",
     "text": [
      "     acc  cv_score  train_roc  test_roc  recall_score  f1_score  run_time  \\\n",
      "0  0.436      0.49      0.752     0.703         0.436     0.383     0.875   \n",
      "\n",
      "     name  \n",
      "0  em_pca  \n"
     ]
    }
   ],
   "source": [
    "name = 'em_pca'\n",
    "# pick n\n",
    "plot_em(X_t)\n",
    "\n",
    "# model\n",
    "t_start = process_time()\n",
    "n = 5\n",
    "em_labels = GaussianMixture(n_components=n).fit_predict(X_t)\n",
    "em_labels = transform_list(em_labels)\n",
    "t_stop = process_time()\n",
    "t = t_stop - t_start\n",
    "df_time = df_time.append(gen_op(name,t, y_train, em_labels))\n",
    "# print(t)\n",
    "plot_cluster_label(em_labels, y_train)\n",
    "nn_final=nn_final.append(run_nn(name, X_t, em_labels, y_train, X_test2, test_labels, y_test))"
   ]
  },
  {
   "cell_type": "markdown",
   "id": "649620ea",
   "metadata": {},
   "source": [
    "## ICA"
   ]
  },
  {
   "cell_type": "code",
   "execution_count": 15,
   "id": "0f276dfa",
   "metadata": {},
   "outputs": [
    {
     "data": {
      "image/png": "[encoded data removed]",
      "text/plain": [
       "<Figure size 432x288 with 1 Axes>"
      ]
     },
     "metadata": {
      "needs_background": "light"
     },
     "output_type": "display_data"
    }
   ],
   "source": [
    "from scipy.stats import kurtosis\n",
    "# Define the range of n_components to loop through\n",
    "n_components_range = range(1, 20)\n",
    "kur = []\n",
    "\n",
    "# Loop through different values of n_components\n",
    "for n_components in n_components_range:\n",
    "    \n",
    "    # Create an instance of the FastICA model with the current value of n_components\n",
    "    ica = FastICA(n_components=n_components)\n",
    "\n",
    "    # Fit the ICA model to the data and transform it\n",
    "    ica_components = ica.fit_transform(X_train)\n",
    "\n",
    "    # Compute the explained variance for the current value of n_components\n",
    "    kur.append(mean(abs(kurtosis(ica_components))))\n",
    "\n",
    "# Plot the explained variance as a function of the number of components\n",
    "plt.plot(n_components_range, kur, marker='o')\n",
    "plt.xlabel('Number of components')\n",
    "plt.ylabel('Average kurtosis score')\n",
    "# plt.xticks(np.arange(len(kur)+1), np.arange(0, len(kur)+1))\n",
    "plt.xticks(np.arange(len(kur)), np.arange(0, len(kur)))\n",
    "plt.show()"
   ]
  },
  {
   "cell_type": "code",
   "execution_count": 16,
   "id": "591ea2e6",
   "metadata": {},
   "outputs": [
    {
     "name": "stdout",
     "output_type": "stream",
     "text": [
      "Total time:  0.0\n"
     ]
    }
   ],
   "source": [
    "# Create an instance of the FastICA model with 10 components\n",
    "t_start = process_time()\n",
    "ica_n = 16\n",
    "ica = FastICA(n_components=ica_n)\n",
    "\n",
    "# Fit the ICA model to the data\n",
    "ica.fit(X_train)\n",
    "\n",
    "# Transform the data using the ICA model\n",
    "ica_components = ica.transform(X_train)\n",
    "ica_components_test = ica.transform(X_test)\n",
    "t_stop = process_time()\n",
    "t = t_stop - t_start\n",
    "print('Total time: ', t)\n",
    "# Create a new DataFrame with the ICA components\n",
    "X_train_ica = pd.DataFrame(ica_components, columns=['ICA{}'.format(i+1) for i in range(ica_n)])\n",
    "X_test2 = pd.DataFrame(ica_components_test, columns=['ICA{}'.format(i+1) for i in range(ica_n)])\n",
    "X_t = X_train_ica.copy()"
   ]
  },
  {
   "cell_type": "markdown",
   "id": "2762f507",
   "metadata": {},
   "source": [
    "### Kmeans ica"
   ]
  },
  {
   "cell_type": "code",
   "execution_count": 17,
   "id": "17413b83",
   "metadata": {},
   "outputs": [
    {
     "data": {
      "image/png": "[encoded data removed]",
      "text/plain": [
       "<Figure size 576x432 with 2 Axes>"
      ]
     },
     "metadata": {
      "needs_background": "light"
     },
     "output_type": "display_data"
    },
    {
     "name": "stdout",
     "output_type": "stream",
     "text": [
      "label    0.0  1.0  2.0  3.0\n",
      "cluster                    \n",
      "0.0      887  766  735  692\n",
      "1.0       47   40   33   51\n",
      "2.0       18   27   20   17\n"
     ]
    },
    {
     "data": {
      "image/png": "[encoded data removed]",
      "text/plain": [
       "<Figure size 432x288 with 1 Axes>"
      ]
     },
     "metadata": {
      "needs_background": "light"
     },
     "output_type": "display_data"
    },
    {
     "name": "stdout",
     "output_type": "stream",
     "text": [
      "     acc  cv_score  train_roc  test_roc  recall_score  f1_score  run_time  \\\n",
      "0  0.459     0.467      0.746     0.737         0.459     0.419     0.656   \n",
      "\n",
      "         name  \n",
      "0  kmeans_ica  \n"
     ]
    }
   ],
   "source": [
    "name = 'kmeans_ica'\n",
    "\n",
    "# pick k\n",
    "plot_kmeans(X_t)\n",
    "\n",
    "# model\n",
    "k = 3\n",
    "t_start = process_time()\n",
    "km = KMeans(n_clusters=k, random_state=0)\n",
    "kmeans_labels = km.fit_predict(X_t)\n",
    "test_labels = km.fit_predict(X_test2)\n",
    "kmeans_labels = transform_list(kmeans_labels)\n",
    "t_stop = process_time()\n",
    "t = t_stop - t_start\n",
    "df_time = df_time.append(gen_op(name,t, y_train, kmeans_labels))\n",
    "# print(t)\n",
    "plot_cluster_label(kmeans_labels, y_train)\n",
    "nn_final=nn_final.append(run_nn(name, X_t, kmeans_labels, y_train, X_test2, test_labels, y_test))"
   ]
  },
  {
   "cell_type": "markdown",
   "id": "d182b06d",
   "metadata": {},
   "source": [
    "### EM ica"
   ]
  },
  {
   "cell_type": "code",
   "execution_count": 18,
   "id": "138a896d",
   "metadata": {},
   "outputs": [
    {
     "data": {
      "image/png": "[encoded data removed]",
      "text/plain": [
       "<Figure size 576x432 with 1 Axes>"
      ]
     },
     "metadata": {
      "needs_background": "light"
     },
     "output_type": "display_data"
    },
    {
     "name": "stdout",
     "output_type": "stream",
     "text": [
      "label    0.0  1.0  2.0  3.0\n",
      "cluster                    \n",
      "0.0      413  337  318  317\n",
      "1.0      341  308  303  272\n",
      "2.0      133  121  114  103\n",
      "3.0       47   40   33   51\n",
      "4.0       18   27   20   17\n"
     ]
    },
    {
     "data": {
      "image/png": "[encoded data removed]",
      "text/plain": [
       "<Figure size 432x288 with 1 Axes>"
      ]
     },
     "metadata": {
      "needs_background": "light"
     },
     "output_type": "display_data"
    },
    {
     "name": "stdout",
     "output_type": "stream",
     "text": [
      "     acc  cv_score  train_roc  test_roc  recall_score  f1_score  run_time  \\\n",
      "0  0.428     0.464      0.743     0.703         0.428     0.383     0.969   \n",
      "\n",
      "     name  \n",
      "0  em_ica  \n"
     ]
    }
   ],
   "source": [
    "name = 'em_ica'\n",
    "# pick n\n",
    "plot_em(X_t)\n",
    "\n",
    "# model\n",
    "t_start = process_time()\n",
    "n = 5\n",
    "em_labels = GaussianMixture(n_components=n).fit_predict(X_t)\n",
    "em_labels = transform_list(em_labels)\n",
    "t_stop = process_time()\n",
    "t = t_stop - t_start\n",
    "df_time = df_time.append(gen_op(name,t, y_train, em_labels))\n",
    "# print(t)\n",
    "plot_cluster_label(em_labels, y_train)\n",
    "\n",
    "nn_final=nn_final.append(run_nn(name, X_t, em_labels, y_train, X_test2, test_labels, y_test))"
   ]
  },
  {
   "cell_type": "markdown",
   "id": "ff47a5e5",
   "metadata": {},
   "source": [
    "## Randomized Projection"
   ]
  },
  {
   "cell_type": "code",
   "execution_count": 19,
   "id": "81dd2a29",
   "metadata": {},
   "outputs": [
    {
     "data": {
      "image/png": "[encoded data removed]",
      "text/plain": [
       "<Figure size 576x432 with 1 Axes>"
      ]
     },
     "metadata": {
      "needs_background": "light"
     },
     "output_type": "display_data"
    },
    {
     "name": "stdout",
     "output_type": "stream",
     "text": [
      "Total time:  0.0\n"
     ]
    }
   ],
   "source": [
    "n_components_range = range(1, 25)\n",
    "dis=[]\n",
    "\n",
    "from sklearn.metrics.pairwise import euclidean_distances\n",
    "# Loop through different values of n_components\n",
    "for n_components in n_components_range:\n",
    "    # Perform randomized projection feature selection\n",
    "#     rp = SparseRandomProjection(n_components=n_components, random_state=0)\n",
    "    rp = GaussianRandomProjection(n_components=n_components, random_state=0)\n",
    "    X_rp = rp.fit_transform(X_train)\n",
    "    \n",
    "    dist_original = euclidean_distances(X_train)\n",
    "    dist_projected = euclidean_distances(X_rp)\n",
    "    dis.append(((dist_original - dist_projected) ** 2).mean())\n",
    "\n",
    "# Plot the scores for each k value\n",
    "fig, ax1 = plt.subplots(figsize=(8, 6))\n",
    "color = 'blue'\n",
    "ax1.set_xlabel('Number of components')\n",
    "ax1.set_ylabel('Distance MSE', color=color)\n",
    "ax1.plot(n_components_range, dis, label='Distance MSE', color=color)\n",
    "ax1.tick_params(axis='y', labelcolor=color)\n",
    "plt.show()\n",
    "\n",
    "# build model\n",
    "t_start = process_time()\n",
    "rp = SparseRandomProjection(n_components=13, random_state=0)\n",
    "X_t = rp.fit_transform(X_train)\n",
    "X_test2 = pd.DataFrame(rp.transform(X_test))\n",
    "t_stop = process_time()\n",
    "t = t_stop - t_start\n",
    "print('Total time: ', t)"
   ]
  },
  {
   "cell_type": "markdown",
   "id": "d9b53f3f",
   "metadata": {},
   "source": [
    "### Kmeans rp"
   ]
  },
  {
   "cell_type": "code",
   "execution_count": 20,
   "id": "fd33ca42",
   "metadata": {
    "scrolled": false
   },
   "outputs": [
    {
     "data": {
      "image/png": "[encoded data removed]",
      "text/plain": [
       "<Figure size 576x432 with 2 Axes>"
      ]
     },
     "metadata": {
      "needs_background": "light"
     },
     "output_type": "display_data"
    },
    {
     "name": "stdout",
     "output_type": "stream",
     "text": [
      "label    0.0  1.0  2.0  3.0\n",
      "cluster                    \n",
      "0.0      599  507  480  459\n",
      "1.0      353  326  308  301\n"
     ]
    },
    {
     "data": {
      "image/png": "[encoded data removed]",
      "text/plain": [
       "<Figure size 432x288 with 1 Axes>"
      ]
     },
     "metadata": {
      "needs_background": "light"
     },
     "output_type": "display_data"
    },
    {
     "name": "stdout",
     "output_type": "stream",
     "text": [
      "     acc  cv_score  train_roc  test_roc  recall_score  f1_score  run_time  \\\n",
      "0  0.446     0.452      0.728     0.712         0.446      0.41     0.609   \n",
      "\n",
      "        name  \n",
      "0  kmeans_rp  \n"
     ]
    }
   ],
   "source": [
    "name = 'kmeans_rp'\n",
    "\n",
    "# pick k\n",
    "plot_kmeans(X_t)\n",
    "\n",
    "# model\n",
    "k = 2\n",
    "t_start = process_time()\n",
    "km = KMeans(n_clusters=k, random_state=0)\n",
    "kmeans_labels = km.fit_predict(X_t)\n",
    "test_labels = km.fit_predict(X_test2)\n",
    "kmeans_labels = transform_list(kmeans_labels)\n",
    "t_stop = process_time()\n",
    "t = t_stop - t_start\n",
    "df_time = df_time.append(gen_op(name,t, y_train, kmeans_labels))\n",
    "# print(t)\n",
    "plot_cluster_label(kmeans_labels, y_train)\n",
    "nn_final=nn_final.append(run_nn(name, X_t, kmeans_labels, y_train, X_test2, test_labels, y_test))"
   ]
  },
  {
   "cell_type": "code",
   "execution_count": 21,
   "id": "9ef7deca",
   "metadata": {},
   "outputs": [],
   "source": [
    "# nn_final=nn_final.append(run_nn(name, X_t, kmeans_labels, y_train, X_test2, y_test))"
   ]
  },
  {
   "cell_type": "code",
   "execution_count": 22,
   "id": "06b5a7d1",
   "metadata": {},
   "outputs": [],
   "source": [
    "# name = 'kmeans_rp7'\n",
    "\n",
    "# # pick k\n",
    "# plot_kmeans(X_t)\n",
    "\n",
    "# # model\n",
    "# k = 7\n",
    "# t_start = process_time()\n",
    "# kmeans_labels = KMeans(n_clusters=k, random_state=0).fit_predict(X_t)\n",
    "# kmeans_labels = transform_list(kmeans_labels)\n",
    "# t_stop = process_time()\n",
    "# t = t_stop - t_start\n",
    "# df_time = df_time.append(gen_op(name,t, y_train, kmeans_labels))\n",
    "# # print(t)\n",
    "# plot_cluster_label(kmeans_labels, y_train)"
   ]
  },
  {
   "cell_type": "code",
   "execution_count": 23,
   "id": "ff7de54f",
   "metadata": {},
   "outputs": [],
   "source": [
    "# nn_final=nn_final.append(run_nn(name, X_t, kmeans_labels, y_train, X_test, y_test))"
   ]
  },
  {
   "cell_type": "markdown",
   "id": "2ed586f8",
   "metadata": {},
   "source": [
    "### EM rp"
   ]
  },
  {
   "cell_type": "code",
   "execution_count": 24,
   "id": "1e96b8b0",
   "metadata": {},
   "outputs": [
    {
     "data": {
      "image/png": "[encoded data removed]",
      "text/plain": [
       "<Figure size 576x432 with 1 Axes>"
      ]
     },
     "metadata": {
      "needs_background": "light"
     },
     "output_type": "display_data"
    },
    {
     "name": "stdout",
     "output_type": "stream",
     "text": [
      "label    0.0  1.0  2.0  3.0\n",
      "cluster                    \n",
      "0.0      647  554  514  496\n",
      "1.0      305  279  274  264\n"
     ]
    },
    {
     "data": {
      "image/png": "[encoded data removed]",
      "text/plain": [
       "<Figure size 432x288 with 1 Axes>"
      ]
     },
     "metadata": {
      "needs_background": "light"
     },
     "output_type": "display_data"
    },
    {
     "name": "stdout",
     "output_type": "stream",
     "text": [
      "     acc  cv_score  train_roc  test_roc  recall_score  f1_score  run_time  \\\n",
      "0  0.431     0.454      0.729     0.698         0.431     0.404     0.469   \n",
      "\n",
      "    name  \n",
      "0  em_rp  \n"
     ]
    }
   ],
   "source": [
    "name = 'em_rp'\n",
    "# pick n\n",
    "plot_em(X_t)\n",
    "\n",
    "# model\n",
    "t_start = process_time()\n",
    "n = 2\n",
    "em_labels = GaussianMixture(n_components=n).fit_predict(X_t)\n",
    "em_labels = transform_list(em_labels)\n",
    "t_stop = process_time()\n",
    "t = t_stop - t_start\n",
    "df_time = df_time.append(gen_op(name,t, y_train, em_labels))\n",
    "# print(t)\n",
    "plot_cluster_label(em_labels, y_train)\n",
    "\n",
    "nn_final=nn_final.append(run_nn(name, X_t, em_labels, y_train, X_test2, test_labels, y_test))"
   ]
  },
  {
   "cell_type": "code",
   "execution_count": 25,
   "id": "2a51c551",
   "metadata": {},
   "outputs": [
    {
     "data": {
      "text/html": [
       "<div>\n",
       "<style scoped>\n",
       "    .dataframe tbody tr th:only-of-type {\n",
       "        vertical-align: middle;\n",
       "    }\n",
       "\n",
       "    .dataframe tbody tr th {\n",
       "        vertical-align: top;\n",
       "    }\n",
       "\n",
       "    .dataframe thead th {\n",
       "        text-align: right;\n",
       "    }\n",
       "</style>\n",
       "<table border=\"1\" class=\"dataframe\">\n",
       "  <thead>\n",
       "    <tr style=\"text-align: right;\">\n",
       "      <th></th>\n",
       "      <th>name</th>\n",
       "      <th>time</th>\n",
       "      <th>f1_score</th>\n",
       "    </tr>\n",
       "  </thead>\n",
       "  <tbody>\n",
       "    <tr>\n",
       "      <th>0</th>\n",
       "      <td>kmeans</td>\n",
       "      <td>0.406</td>\n",
       "      <td>0.161</td>\n",
       "    </tr>\n",
       "    <tr>\n",
       "      <th>0</th>\n",
       "      <td>em</td>\n",
       "      <td>0.750</td>\n",
       "      <td>0.282</td>\n",
       "    </tr>\n",
       "    <tr>\n",
       "      <th>0</th>\n",
       "      <td>kmeans_pca</td>\n",
       "      <td>0.203</td>\n",
       "      <td>0.127</td>\n",
       "    </tr>\n",
       "    <tr>\n",
       "      <th>0</th>\n",
       "      <td>em_pca</td>\n",
       "      <td>0.672</td>\n",
       "      <td>0.142</td>\n",
       "    </tr>\n",
       "    <tr>\n",
       "      <th>0</th>\n",
       "      <td>kmeans_ica</td>\n",
       "      <td>0.125</td>\n",
       "      <td>0.150</td>\n",
       "    </tr>\n",
       "    <tr>\n",
       "      <th>0</th>\n",
       "      <td>em_ica</td>\n",
       "      <td>0.812</td>\n",
       "      <td>0.154</td>\n",
       "    </tr>\n",
       "    <tr>\n",
       "      <th>0</th>\n",
       "      <td>kmeans_rp</td>\n",
       "      <td>0.156</td>\n",
       "      <td>0.143</td>\n",
       "    </tr>\n",
       "    <tr>\n",
       "      <th>0</th>\n",
       "      <td>em_rp</td>\n",
       "      <td>0.312</td>\n",
       "      <td>0.184</td>\n",
       "    </tr>\n",
       "  </tbody>\n",
       "</table>\n",
       "</div>"
      ],
      "text/plain": [
       "         name   time  f1_score\n",
       "0      kmeans  0.406     0.161\n",
       "0          em  0.750     0.282\n",
       "0  kmeans_pca  0.203     0.127\n",
       "0      em_pca  0.672     0.142\n",
       "0  kmeans_ica  0.125     0.150\n",
       "0      em_ica  0.812     0.154\n",
       "0   kmeans_rp  0.156     0.143\n",
       "0       em_rp  0.312     0.184"
      ]
     },
     "execution_count": 25,
     "metadata": {},
     "output_type": "execute_result"
    }
   ],
   "source": [
    "df_time"
   ]
  },
  {
   "cell_type": "markdown",
   "id": "4d0cc2df",
   "metadata": {},
   "source": [
    "## Factor Analysis"
   ]
  },
  {
   "cell_type": "code",
   "execution_count": 26,
   "id": "42ae63f7",
   "metadata": {},
   "outputs": [
    {
     "data": {
      "image/png": "[encoded data removed]",
      "text/plain": [
       "<Figure size 432x288 with 1 Axes>"
      ]
     },
     "metadata": {
      "needs_background": "light"
     },
     "output_type": "display_data"
    },
    {
     "name": "stdout",
     "output_type": "stream",
     "text": [
      "There 14 factors with a eigenvalue that greater than 1.\n"
     ]
    }
   ],
   "source": [
    "fa = FactorAnalyzer()\n",
    "# X_train_t = X_train.drop(columns=['device_fraud_count'])\n",
    "fa.fit(X_train.values)\n",
    "\n",
    "# Generate the scree plot\n",
    "ev, v = fa.get_eigenvalues()\n",
    "# plt.plot(range(1, X_train_t.shape[1]+1), ev)\n",
    "plt.plot(range(0, 25), ev[0:25])\n",
    "plt.title('Scree Plot')\n",
    "plt.xlabel('Number of Factors')\n",
    "plt.ylabel('Eigenvalue')\n",
    "plt.grid()\n",
    "plt.show()\n",
    "print('There {} factors with a eigenvalue that greater than 1.'.format(sum(ev>1)))"
   ]
  },
  {
   "cell_type": "code",
   "execution_count": 27,
   "id": "e0b85a58",
   "metadata": {},
   "outputs": [
    {
     "name": "stdout",
     "output_type": "stream",
     "text": [
      "Total time:  0.171875\n"
     ]
    }
   ],
   "source": [
    "# X_train_t = X_train.drop(columns=['device_fraud_count'])\n",
    "# X_test_t = X_test.drop(columns=['device_fraud_count'])\n",
    "t_start = process_time()\n",
    "fa = FactorAnalyzer(n_factors=14)\n",
    "fa.fit(X_train.values)\n",
    "X_t = fa.transform(X_train)\n",
    "X_test2 = pd.DataFrame(fa.transform(X_test))\n",
    "t_stop = process_time()\n",
    "t = t_stop - t_start\n",
    "print('Total time: ', t)"
   ]
  },
  {
   "cell_type": "markdown",
   "id": "0806bc2b",
   "metadata": {},
   "source": [
    "### kmeans factor analysis"
   ]
  },
  {
   "cell_type": "code",
   "execution_count": 28,
   "id": "c8d6ffb3",
   "metadata": {},
   "outputs": [
    {
     "data": {
      "image/png": "[encoded data removed]",
      "text/plain": [
       "<Figure size 576x432 with 2 Axes>"
      ]
     },
     "metadata": {
      "needs_background": "light"
     },
     "output_type": "display_data"
    },
    {
     "name": "stdout",
     "output_type": "stream",
     "text": [
      "label    0.0  1.0  2.0  3.0\n",
      "cluster                    \n",
      "0.0      930  817  766  743\n",
      "1.0       17    8   12    9\n",
      "2.0        5    8   10    8\n"
     ]
    },
    {
     "data": {
      "image/png": "[encoded data removed]",
      "text/plain": [
       "<Figure size 432x288 with 1 Axes>"
      ]
     },
     "metadata": {
      "needs_background": "light"
     },
     "output_type": "display_data"
    },
    {
     "name": "stdout",
     "output_type": "stream",
     "text": [
      "    acc  cv_score  train_roc  test_roc  recall_score  f1_score  run_time  \\\n",
      "0  0.47     0.491      0.757     0.742          0.47     0.452     0.469   \n",
      "\n",
      "        name  \n",
      "0  kmeans_fa  \n"
     ]
    }
   ],
   "source": [
    "name = 'kmeans_fa'\n",
    "\n",
    "# pick k\n",
    "plot_kmeans(X_t)\n",
    "\n",
    "# model\n",
    "k = 3\n",
    "t_start = process_time()\n",
    "km = KMeans(n_clusters=k, random_state=0)\n",
    "kmeans_labels = km.fit_predict(X_t)\n",
    "test_labels = km.fit_predict(X_test2)\n",
    "kmeans_labels = transform_list(kmeans_labels)\n",
    "t_stop = process_time()\n",
    "t = t_stop - t_start\n",
    "df_time = df_time.append(gen_op(name,t, y_train, kmeans_labels))\n",
    "# print(t)\n",
    "plot_cluster_label(kmeans_labels, y_train)\n",
    "nn_final=nn_final.append(run_nn(name, X_t, kmeans_labels, y_train, X_test2, test_labels, y_test))"
   ]
  },
  {
   "cell_type": "markdown",
   "id": "b4e19a4a",
   "metadata": {},
   "source": [
    "### em factor analysis"
   ]
  },
  {
   "cell_type": "code",
   "execution_count": 29,
   "id": "dce3b865",
   "metadata": {},
   "outputs": [
    {
     "data": {
      "image/png": "[encoded data removed]",
      "text/plain": [
       "<Figure size 576x432 with 1 Axes>"
      ]
     },
     "metadata": {
      "needs_background": "light"
     },
     "output_type": "display_data"
    }
   ],
   "source": [
    "name = 'em_fa'\n",
    "# pick n\n",
    "plot_em(X_t)"
   ]
  },
  {
   "cell_type": "code",
   "execution_count": 30,
   "id": "f9e095b7",
   "metadata": {},
   "outputs": [
    {
     "name": "stdout",
     "output_type": "stream",
     "text": [
      "label    0.0  1.0  2.0  3.0\n",
      "cluster                    \n",
      "0.0      476  433  423  414\n",
      "1.0      459  391  353  337\n",
      "2.0       17    9   12    9\n"
     ]
    },
    {
     "data": {
      "image/png": "[encoded data removed]",
      "text/plain": [
       "<Figure size 432x288 with 1 Axes>"
      ]
     },
     "metadata": {
      "needs_background": "light"
     },
     "output_type": "display_data"
    },
    {
     "name": "stdout",
     "output_type": "stream",
     "text": [
      "     acc  cv_score  train_roc  test_roc  recall_score  f1_score  run_time  \\\n",
      "0  0.458     0.492      0.756     0.738         0.458     0.421       0.5   \n",
      "\n",
      "    name  \n",
      "0  em_fa  \n"
     ]
    }
   ],
   "source": [
    "# model\n",
    "t_start = process_time()\n",
    "\n",
    "n = 3\n",
    "em_labels = GaussianMixture(n_components=n).fit_predict(X_t)\n",
    "em_labels = transform_list(em_labels)\n",
    "t_stop = process_time()\n",
    "t = t_stop - t_start\n",
    "df_time = df_time.append(gen_op(name,t, y_train, em_labels))\n",
    "# print(t)\n",
    "plot_cluster_label(em_labels, y_train)\n",
    "\n",
    "nn_final=nn_final.append(run_nn(name, X_t, em_labels, y_train, X_test2, test_labels, y_test))"
   ]
  },
  {
   "cell_type": "code",
   "execution_count": 31,
   "id": "0e1cb347",
   "metadata": {},
   "outputs": [
    {
     "data": {
      "text/html": [
       "<div>\n",
       "<style scoped>\n",
       "    .dataframe tbody tr th:only-of-type {\n",
       "        vertical-align: middle;\n",
       "    }\n",
       "\n",
       "    .dataframe tbody tr th {\n",
       "        vertical-align: top;\n",
       "    }\n",
       "\n",
       "    .dataframe thead th {\n",
       "        text-align: right;\n",
       "    }\n",
       "</style>\n",
       "<table border=\"1\" class=\"dataframe\">\n",
       "  <thead>\n",
       "    <tr style=\"text-align: right;\">\n",
       "      <th></th>\n",
       "      <th>acc</th>\n",
       "      <th>cv_score</th>\n",
       "      <th>train_roc</th>\n",
       "      <th>test_roc</th>\n",
       "      <th>recall_score</th>\n",
       "      <th>f1_score</th>\n",
       "      <th>run_time</th>\n",
       "      <th>name</th>\n",
       "    </tr>\n",
       "  </thead>\n",
       "  <tbody>\n",
       "    <tr>\n",
       "      <th>0</th>\n",
       "      <td>0.49</td>\n",
       "      <td>0.492</td>\n",
       "      <td>0.762</td>\n",
       "      <td>0.749</td>\n",
       "      <td>0.49</td>\n",
       "      <td>0.477</td>\n",
       "      <td>0.484</td>\n",
       "      <td>nn_backpropagation</td>\n",
       "    </tr>\n",
       "  </tbody>\n",
       "</table>\n",
       "</div>"
      ],
      "text/plain": [
       "    acc  cv_score  train_roc  test_roc  recall_score  f1_score  run_time  \\\n",
       "0  0.49     0.492      0.762     0.749          0.49     0.477     0.484   \n",
       "\n",
       "                 name  \n",
       "0  nn_backpropagation  "
      ]
     },
     "execution_count": 31,
     "metadata": {},
     "output_type": "execute_result"
    }
   ],
   "source": [
    "'back propagation'\n",
    "# train valid test split\n",
    "X_train, y_train, X_valid, y_valid, X_test, y_test = train_valid_test_split2(df)\n",
    "# feature engineering\n",
    "X_train, X_valid, X_test = ohe(X_train, X_valid, X_test)\n",
    "# oversampling\n",
    "# X_train, y_train = oversampling(X_train, y_train)\n",
    "# model\n",
    "mlp =  MLPClassifier(random_state = 0, \n",
    "                     hidden_layer_sizes=(3,), \n",
    "                     activation='identity')\n",
    "mlp.fit(X_train, y_train)\n",
    "nn_test_perf = model2(mlp, X_train, y_train, X_test, y_test)\n",
    "nn_test_perf['name'] = 'nn_backpropagation'\n",
    "nn_test_perf"
   ]
  },
  {
   "cell_type": "code",
   "execution_count": 32,
   "id": "d9fd198f",
   "metadata": {},
   "outputs": [],
   "source": [
    "nn_final=nn_final.append(nn_test_perf)"
   ]
  },
  {
   "cell_type": "code",
   "execution_count": 43,
   "id": "0c67e642",
   "metadata": {},
   "outputs": [
    {
     "data": {
      "text/html": [
       "<div>\n",
       "<style scoped>\n",
       "    .dataframe tbody tr th:only-of-type {\n",
       "        vertical-align: middle;\n",
       "    }\n",
       "\n",
       "    .dataframe tbody tr th {\n",
       "        vertical-align: top;\n",
       "    }\n",
       "\n",
       "    .dataframe thead th {\n",
       "        text-align: right;\n",
       "    }\n",
       "</style>\n",
       "<table border=\"1\" class=\"dataframe\">\n",
       "  <thead>\n",
       "    <tr style=\"text-align: right;\">\n",
       "      <th></th>\n",
       "      <th>name</th>\n",
       "      <th>time</th>\n",
       "      <th>f1_score</th>\n",
       "    </tr>\n",
       "  </thead>\n",
       "  <tbody>\n",
       "    <tr>\n",
       "      <th>0</th>\n",
       "      <td>em</td>\n",
       "      <td>0.750</td>\n",
       "      <td>0.282</td>\n",
       "    </tr>\n",
       "    <tr>\n",
       "      <th>0</th>\n",
       "      <td>em_fa</td>\n",
       "      <td>0.531</td>\n",
       "      <td>0.232</td>\n",
       "    </tr>\n",
       "    <tr>\n",
       "      <th>0</th>\n",
       "      <td>em_ica</td>\n",
       "      <td>0.812</td>\n",
       "      <td>0.154</td>\n",
       "    </tr>\n",
       "    <tr>\n",
       "      <th>0</th>\n",
       "      <td>em_pca</td>\n",
       "      <td>0.672</td>\n",
       "      <td>0.142</td>\n",
       "    </tr>\n",
       "    <tr>\n",
       "      <th>0</th>\n",
       "      <td>em_rp</td>\n",
       "      <td>0.312</td>\n",
       "      <td>0.184</td>\n",
       "    </tr>\n",
       "    <tr>\n",
       "      <th>0</th>\n",
       "      <td>kmeans</td>\n",
       "      <td>0.406</td>\n",
       "      <td>0.161</td>\n",
       "    </tr>\n",
       "    <tr>\n",
       "      <th>0</th>\n",
       "      <td>kmeans_fa</td>\n",
       "      <td>0.203</td>\n",
       "      <td>0.134</td>\n",
       "    </tr>\n",
       "    <tr>\n",
       "      <th>0</th>\n",
       "      <td>kmeans_ica</td>\n",
       "      <td>0.125</td>\n",
       "      <td>0.150</td>\n",
       "    </tr>\n",
       "    <tr>\n",
       "      <th>0</th>\n",
       "      <td>kmeans_pca</td>\n",
       "      <td>0.203</td>\n",
       "      <td>0.127</td>\n",
       "    </tr>\n",
       "    <tr>\n",
       "      <th>0</th>\n",
       "      <td>kmeans_rp</td>\n",
       "      <td>0.156</td>\n",
       "      <td>0.143</td>\n",
       "    </tr>\n",
       "  </tbody>\n",
       "</table>\n",
       "</div>"
      ],
      "text/plain": [
       "         name   time  f1_score\n",
       "0          em  0.750     0.282\n",
       "0       em_fa  0.531     0.232\n",
       "0      em_ica  0.812     0.154\n",
       "0      em_pca  0.672     0.142\n",
       "0       em_rp  0.312     0.184\n",
       "0      kmeans  0.406     0.161\n",
       "0   kmeans_fa  0.203     0.134\n",
       "0  kmeans_ica  0.125     0.150\n",
       "0  kmeans_pca  0.203     0.127\n",
       "0   kmeans_rp  0.156     0.143"
      ]
     },
     "execution_count": 43,
     "metadata": {},
     "output_type": "execute_result"
    }
   ],
   "source": [
    "df_time.sort_values('name', ascending=True)"
   ]
  },
  {
   "cell_type": "code",
   "execution_count": 34,
   "id": "119716d0",
   "metadata": {},
   "outputs": [
    {
     "data": {
      "text/html": [
       "<div>\n",
       "<style scoped>\n",
       "    .dataframe tbody tr th:only-of-type {\n",
       "        vertical-align: middle;\n",
       "    }\n",
       "\n",
       "    .dataframe tbody tr th {\n",
       "        vertical-align: top;\n",
       "    }\n",
       "\n",
       "    .dataframe thead th {\n",
       "        text-align: right;\n",
       "    }\n",
       "</style>\n",
       "<table border=\"1\" class=\"dataframe\">\n",
       "  <thead>\n",
       "    <tr style=\"text-align: right;\">\n",
       "      <th></th>\n",
       "      <th>acc</th>\n",
       "      <th>cv_score</th>\n",
       "      <th>train_roc</th>\n",
       "      <th>test_roc</th>\n",
       "      <th>recall_score</th>\n",
       "      <th>f1_score</th>\n",
       "      <th>run_time</th>\n",
       "      <th>name</th>\n",
       "    </tr>\n",
       "  </thead>\n",
       "  <tbody>\n",
       "    <tr>\n",
       "      <th>0</th>\n",
       "      <td>0.490</td>\n",
       "      <td>0.492</td>\n",
       "      <td>0.762</td>\n",
       "      <td>0.749</td>\n",
       "      <td>0.490</td>\n",
       "      <td>0.477</td>\n",
       "      <td>0.484</td>\n",
       "      <td>nn_backpropagation</td>\n",
       "    </tr>\n",
       "    <tr>\n",
       "      <th>0</th>\n",
       "      <td>0.470</td>\n",
       "      <td>0.491</td>\n",
       "      <td>0.757</td>\n",
       "      <td>0.742</td>\n",
       "      <td>0.470</td>\n",
       "      <td>0.452</td>\n",
       "      <td>0.469</td>\n",
       "      <td>kmeans_fa</td>\n",
       "    </tr>\n",
       "    <tr>\n",
       "      <th>0</th>\n",
       "      <td>0.458</td>\n",
       "      <td>0.487</td>\n",
       "      <td>0.751</td>\n",
       "      <td>0.732</td>\n",
       "      <td>0.458</td>\n",
       "      <td>0.445</td>\n",
       "      <td>0.516</td>\n",
       "      <td>kmeans_pca</td>\n",
       "    </tr>\n",
       "    <tr>\n",
       "      <th>0</th>\n",
       "      <td>0.458</td>\n",
       "      <td>0.492</td>\n",
       "      <td>0.756</td>\n",
       "      <td>0.738</td>\n",
       "      <td>0.458</td>\n",
       "      <td>0.421</td>\n",
       "      <td>0.500</td>\n",
       "      <td>em_fa</td>\n",
       "    </tr>\n",
       "    <tr>\n",
       "      <th>0</th>\n",
       "      <td>0.459</td>\n",
       "      <td>0.467</td>\n",
       "      <td>0.746</td>\n",
       "      <td>0.737</td>\n",
       "      <td>0.459</td>\n",
       "      <td>0.419</td>\n",
       "      <td>0.656</td>\n",
       "      <td>kmeans_ica</td>\n",
       "    </tr>\n",
       "    <tr>\n",
       "      <th>0</th>\n",
       "      <td>0.446</td>\n",
       "      <td>0.452</td>\n",
       "      <td>0.728</td>\n",
       "      <td>0.712</td>\n",
       "      <td>0.446</td>\n",
       "      <td>0.410</td>\n",
       "      <td>0.609</td>\n",
       "      <td>kmeans_rp</td>\n",
       "    </tr>\n",
       "    <tr>\n",
       "      <th>0</th>\n",
       "      <td>0.431</td>\n",
       "      <td>0.454</td>\n",
       "      <td>0.729</td>\n",
       "      <td>0.698</td>\n",
       "      <td>0.431</td>\n",
       "      <td>0.404</td>\n",
       "      <td>0.469</td>\n",
       "      <td>em_rp</td>\n",
       "    </tr>\n",
       "    <tr>\n",
       "      <th>0</th>\n",
       "      <td>0.436</td>\n",
       "      <td>0.490</td>\n",
       "      <td>0.752</td>\n",
       "      <td>0.703</td>\n",
       "      <td>0.436</td>\n",
       "      <td>0.383</td>\n",
       "      <td>0.875</td>\n",
       "      <td>em_pca</td>\n",
       "    </tr>\n",
       "    <tr>\n",
       "      <th>0</th>\n",
       "      <td>0.428</td>\n",
       "      <td>0.464</td>\n",
       "      <td>0.743</td>\n",
       "      <td>0.703</td>\n",
       "      <td>0.428</td>\n",
       "      <td>0.383</td>\n",
       "      <td>0.969</td>\n",
       "      <td>em_ica</td>\n",
       "    </tr>\n",
       "  </tbody>\n",
       "</table>\n",
       "</div>"
      ],
      "text/plain": [
       "     acc  cv_score  train_roc  test_roc  recall_score  f1_score  run_time  \\\n",
       "0  0.490     0.492      0.762     0.749         0.490     0.477     0.484   \n",
       "0  0.470     0.491      0.757     0.742         0.470     0.452     0.469   \n",
       "0  0.458     0.487      0.751     0.732         0.458     0.445     0.516   \n",
       "0  0.458     0.492      0.756     0.738         0.458     0.421     0.500   \n",
       "0  0.459     0.467      0.746     0.737         0.459     0.419     0.656   \n",
       "0  0.446     0.452      0.728     0.712         0.446     0.410     0.609   \n",
       "0  0.431     0.454      0.729     0.698         0.431     0.404     0.469   \n",
       "0  0.436     0.490      0.752     0.703         0.436     0.383     0.875   \n",
       "0  0.428     0.464      0.743     0.703         0.428     0.383     0.969   \n",
       "\n",
       "                 name  \n",
       "0  nn_backpropagation  \n",
       "0           kmeans_fa  \n",
       "0          kmeans_pca  \n",
       "0               em_fa  \n",
       "0          kmeans_ica  \n",
       "0           kmeans_rp  \n",
       "0               em_rp  \n",
       "0              em_pca  \n",
       "0              em_ica  "
      ]
     },
     "execution_count": 34,
     "metadata": {},
     "output_type": "execute_result"
    }
   ],
   "source": [
    "nn_final.sort_values('f1_score', ascending=False)"
   ]
  },
  {
   "cell_type": "code",
   "execution_count": null,
   "id": "7b6f4109",
   "metadata": {},
   "outputs": [],
   "source": []
  },
  {
   "cell_type": "code",
   "execution_count": null,
   "id": "51aeb2b8",
   "metadata": {},
   "outputs": [],
   "source": []
  },
  {
   "cell_type": "code",
   "execution_count": null,
   "id": "6475cf00",
   "metadata": {},
   "outputs": [],
   "source": []
  },
  {
   "cell_type": "code",
   "execution_count": null,
   "id": "be3a592b",
   "metadata": {},
   "outputs": [],
   "source": []
  },
  {
   "cell_type": "code",
   "execution_count": null,
   "id": "70465279",
   "metadata": {},
   "outputs": [],
   "source": []
  },
  {
   "cell_type": "code",
   "execution_count": null,
   "id": "3c7c985f",
   "metadata": {},
   "outputs": [],
   "source": []
  },
  {
   "cell_type": "code",
   "execution_count": null,
   "id": "f50cc935",
   "metadata": {},
   "outputs": [],
   "source": []
  }
 ],
 "metadata": {
  "kernelspec": {
   "display_name": "Python 3 (ipykernel)",
   "language": "python",
   "name": "python3"
  },
  "language_info": {
   "codemirror_mode": {
    "name": "ipython",
    "version": 3
   },
   "file_extension": ".py",
   "mimetype": "text/x-python",
   "name": "python",
   "nbconvert_exporter": "python",
   "pygments_lexer": "ipython3",
   "version": "3.9.7"
  }
 },
 "nbformat": 4,
 "nbformat_minor": 5
}
