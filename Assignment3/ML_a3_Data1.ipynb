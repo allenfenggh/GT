{
 "cells": [
  {
   "cell_type": "markdown",
   "id": "8a2f6962",
   "metadata": {},
   "source": [
    "# ML assignment 3 Unsupervised Learning\n",
    "\n",
    "Data set 1 - Bank Account Fraud Dataset \\\n",
    "https://www.kaggle.com/datasets/sgpjesus/bank-account-fraud-dataset-neurips-2022 \\\n",
    "Data set 2 - Customer Segmentation \\\n",
    "https://www.kaggle.com/datasets/abisheksudarshan/customer-segmentation?select=train.csv\n"
   ]
  },
  {
   "cell_type": "code",
   "execution_count": 1,
   "id": "8e392d2b",
   "metadata": {},
   "outputs": [],
   "source": [
    "%run ./ML_a3_Functions.ipynb"
   ]
  },
  {
   "cell_type": "code",
   "execution_count": 2,
   "id": "935bc344",
   "metadata": {},
   "outputs": [
    {
     "data": {
      "text/html": [
       "<div>\n",
       "<style scoped>\n",
       "    .dataframe tbody tr th:only-of-type {\n",
       "        vertical-align: middle;\n",
       "    }\n",
       "\n",
       "    .dataframe tbody tr th {\n",
       "        vertical-align: top;\n",
       "    }\n",
       "\n",
       "    .dataframe thead th {\n",
       "        text-align: right;\n",
       "    }\n",
       "</style>\n",
       "<table border=\"1\" class=\"dataframe\">\n",
       "  <thead>\n",
       "    <tr style=\"text-align: right;\">\n",
       "      <th></th>\n",
       "      <th>fraud_bool</th>\n",
       "      <th>income</th>\n",
       "      <th>name_email_similarity</th>\n",
       "      <th>prev_address_months_count</th>\n",
       "      <th>current_address_months_count</th>\n",
       "      <th>customer_age</th>\n",
       "      <th>days_since_request</th>\n",
       "      <th>intended_balcon_amount</th>\n",
       "      <th>payment_type</th>\n",
       "      <th>zip_count_4w</th>\n",
       "      <th>...</th>\n",
       "      <th>has_other_cards</th>\n",
       "      <th>proposed_credit_limit</th>\n",
       "      <th>foreign_request</th>\n",
       "      <th>source</th>\n",
       "      <th>session_length_in_minutes</th>\n",
       "      <th>device_os</th>\n",
       "      <th>keep_alive_session</th>\n",
       "      <th>device_distinct_emails_8w</th>\n",
       "      <th>device_fraud_count</th>\n",
       "      <th>month</th>\n",
       "    </tr>\n",
       "  </thead>\n",
       "  <tbody>\n",
       "    <tr>\n",
       "      <th>0</th>\n",
       "      <td>1</td>\n",
       "      <td>0.9</td>\n",
       "      <td>0.166828</td>\n",
       "      <td>-1</td>\n",
       "      <td>88</td>\n",
       "      <td>50</td>\n",
       "      <td>0.020925</td>\n",
       "      <td>-1.331345</td>\n",
       "      <td>AA</td>\n",
       "      <td>769</td>\n",
       "      <td>...</td>\n",
       "      <td>0</td>\n",
       "      <td>500.0</td>\n",
       "      <td>0</td>\n",
       "      <td>INTERNET</td>\n",
       "      <td>3.888115</td>\n",
       "      <td>windows</td>\n",
       "      <td>0</td>\n",
       "      <td>1</td>\n",
       "      <td>0</td>\n",
       "      <td>7</td>\n",
       "    </tr>\n",
       "    <tr>\n",
       "      <th>1</th>\n",
       "      <td>1</td>\n",
       "      <td>0.9</td>\n",
       "      <td>0.296286</td>\n",
       "      <td>-1</td>\n",
       "      <td>144</td>\n",
       "      <td>50</td>\n",
       "      <td>0.005418</td>\n",
       "      <td>-0.816224</td>\n",
       "      <td>AB</td>\n",
       "      <td>366</td>\n",
       "      <td>...</td>\n",
       "      <td>0</td>\n",
       "      <td>1500.0</td>\n",
       "      <td>0</td>\n",
       "      <td>INTERNET</td>\n",
       "      <td>31.798819</td>\n",
       "      <td>windows</td>\n",
       "      <td>0</td>\n",
       "      <td>1</td>\n",
       "      <td>0</td>\n",
       "      <td>7</td>\n",
       "    </tr>\n",
       "    <tr>\n",
       "      <th>2</th>\n",
       "      <td>1</td>\n",
       "      <td>0.9</td>\n",
       "      <td>0.044985</td>\n",
       "      <td>-1</td>\n",
       "      <td>132</td>\n",
       "      <td>40</td>\n",
       "      <td>3.108549</td>\n",
       "      <td>-0.755728</td>\n",
       "      <td>AC</td>\n",
       "      <td>870</td>\n",
       "      <td>...</td>\n",
       "      <td>0</td>\n",
       "      <td>200.0</td>\n",
       "      <td>0</td>\n",
       "      <td>INTERNET</td>\n",
       "      <td>4.728705</td>\n",
       "      <td>other</td>\n",
       "      <td>0</td>\n",
       "      <td>1</td>\n",
       "      <td>0</td>\n",
       "      <td>7</td>\n",
       "    </tr>\n",
       "    <tr>\n",
       "      <th>3</th>\n",
       "      <td>1</td>\n",
       "      <td>0.9</td>\n",
       "      <td>0.159511</td>\n",
       "      <td>-1</td>\n",
       "      <td>22</td>\n",
       "      <td>50</td>\n",
       "      <td>0.019079</td>\n",
       "      <td>-1.205124</td>\n",
       "      <td>AB</td>\n",
       "      <td>810</td>\n",
       "      <td>...</td>\n",
       "      <td>1</td>\n",
       "      <td>200.0</td>\n",
       "      <td>0</td>\n",
       "      <td>INTERNET</td>\n",
       "      <td>2.047904</td>\n",
       "      <td>linux</td>\n",
       "      <td>0</td>\n",
       "      <td>1</td>\n",
       "      <td>0</td>\n",
       "      <td>7</td>\n",
       "    </tr>\n",
       "    <tr>\n",
       "      <th>4</th>\n",
       "      <td>1</td>\n",
       "      <td>0.9</td>\n",
       "      <td>0.596414</td>\n",
       "      <td>-1</td>\n",
       "      <td>218</td>\n",
       "      <td>50</td>\n",
       "      <td>0.004441</td>\n",
       "      <td>-0.773276</td>\n",
       "      <td>AB</td>\n",
       "      <td>890</td>\n",
       "      <td>...</td>\n",
       "      <td>0</td>\n",
       "      <td>1500.0</td>\n",
       "      <td>0</td>\n",
       "      <td>INTERNET</td>\n",
       "      <td>3.775225</td>\n",
       "      <td>macintosh</td>\n",
       "      <td>1</td>\n",
       "      <td>1</td>\n",
       "      <td>0</td>\n",
       "      <td>7</td>\n",
       "    </tr>\n",
       "    <tr>\n",
       "      <th>...</th>\n",
       "      <td>...</td>\n",
       "      <td>...</td>\n",
       "      <td>...</td>\n",
       "      <td>...</td>\n",
       "      <td>...</td>\n",
       "      <td>...</td>\n",
       "      <td>...</td>\n",
       "      <td>...</td>\n",
       "      <td>...</td>\n",
       "      <td>...</td>\n",
       "      <td>...</td>\n",
       "      <td>...</td>\n",
       "      <td>...</td>\n",
       "      <td>...</td>\n",
       "      <td>...</td>\n",
       "      <td>...</td>\n",
       "      <td>...</td>\n",
       "      <td>...</td>\n",
       "      <td>...</td>\n",
       "      <td>...</td>\n",
       "      <td>...</td>\n",
       "    </tr>\n",
       "    <tr>\n",
       "      <th>4995</th>\n",
       "      <td>0</td>\n",
       "      <td>0.3</td>\n",
       "      <td>0.872167</td>\n",
       "      <td>-1</td>\n",
       "      <td>95</td>\n",
       "      <td>30</td>\n",
       "      <td>0.036085</td>\n",
       "      <td>-0.852122</td>\n",
       "      <td>AB</td>\n",
       "      <td>697</td>\n",
       "      <td>...</td>\n",
       "      <td>0</td>\n",
       "      <td>500.0</td>\n",
       "      <td>0</td>\n",
       "      <td>INTERNET</td>\n",
       "      <td>3.700913</td>\n",
       "      <td>other</td>\n",
       "      <td>1</td>\n",
       "      <td>1</td>\n",
       "      <td>0</td>\n",
       "      <td>7</td>\n",
       "    </tr>\n",
       "    <tr>\n",
       "      <th>4996</th>\n",
       "      <td>0</td>\n",
       "      <td>0.9</td>\n",
       "      <td>0.885476</td>\n",
       "      <td>-1</td>\n",
       "      <td>18</td>\n",
       "      <td>20</td>\n",
       "      <td>0.027343</td>\n",
       "      <td>-1.287176</td>\n",
       "      <td>AD</td>\n",
       "      <td>2780</td>\n",
       "      <td>...</td>\n",
       "      <td>0</td>\n",
       "      <td>200.0</td>\n",
       "      <td>0</td>\n",
       "      <td>INTERNET</td>\n",
       "      <td>11.493372</td>\n",
       "      <td>other</td>\n",
       "      <td>1</td>\n",
       "      <td>1</td>\n",
       "      <td>0</td>\n",
       "      <td>7</td>\n",
       "    </tr>\n",
       "    <tr>\n",
       "      <th>4997</th>\n",
       "      <td>0</td>\n",
       "      <td>0.7</td>\n",
       "      <td>0.376199</td>\n",
       "      <td>-1</td>\n",
       "      <td>36</td>\n",
       "      <td>40</td>\n",
       "      <td>0.021229</td>\n",
       "      <td>-1.707717</td>\n",
       "      <td>AC</td>\n",
       "      <td>802</td>\n",
       "      <td>...</td>\n",
       "      <td>0</td>\n",
       "      <td>200.0</td>\n",
       "      <td>0</td>\n",
       "      <td>INTERNET</td>\n",
       "      <td>11.229699</td>\n",
       "      <td>linux</td>\n",
       "      <td>0</td>\n",
       "      <td>1</td>\n",
       "      <td>0</td>\n",
       "      <td>7</td>\n",
       "    </tr>\n",
       "    <tr>\n",
       "      <th>4998</th>\n",
       "      <td>0</td>\n",
       "      <td>0.1</td>\n",
       "      <td>0.588819</td>\n",
       "      <td>101</td>\n",
       "      <td>144</td>\n",
       "      <td>30</td>\n",
       "      <td>0.029976</td>\n",
       "      <td>-1.160380</td>\n",
       "      <td>AB</td>\n",
       "      <td>586</td>\n",
       "      <td>...</td>\n",
       "      <td>0</td>\n",
       "      <td>200.0</td>\n",
       "      <td>0</td>\n",
       "      <td>INTERNET</td>\n",
       "      <td>3.042368</td>\n",
       "      <td>windows</td>\n",
       "      <td>1</td>\n",
       "      <td>1</td>\n",
       "      <td>0</td>\n",
       "      <td>7</td>\n",
       "    </tr>\n",
       "    <tr>\n",
       "      <th>4999</th>\n",
       "      <td>0</td>\n",
       "      <td>0.4</td>\n",
       "      <td>0.579633</td>\n",
       "      <td>30</td>\n",
       "      <td>0</td>\n",
       "      <td>30</td>\n",
       "      <td>0.897597</td>\n",
       "      <td>-0.683807</td>\n",
       "      <td>AC</td>\n",
       "      <td>2591</td>\n",
       "      <td>...</td>\n",
       "      <td>0</td>\n",
       "      <td>200.0</td>\n",
       "      <td>0</td>\n",
       "      <td>INTERNET</td>\n",
       "      <td>9.410480</td>\n",
       "      <td>other</td>\n",
       "      <td>1</td>\n",
       "      <td>1</td>\n",
       "      <td>0</td>\n",
       "      <td>7</td>\n",
       "    </tr>\n",
       "  </tbody>\n",
       "</table>\n",
       "<p>5000 rows × 32 columns</p>\n",
       "</div>"
      ],
      "text/plain": [
       "      fraud_bool  income  name_email_similarity  prev_address_months_count  \\\n",
       "0              1     0.9               0.166828                         -1   \n",
       "1              1     0.9               0.296286                         -1   \n",
       "2              1     0.9               0.044985                         -1   \n",
       "3              1     0.9               0.159511                         -1   \n",
       "4              1     0.9               0.596414                         -1   \n",
       "...          ...     ...                    ...                        ...   \n",
       "4995           0     0.3               0.872167                         -1   \n",
       "4996           0     0.9               0.885476                         -1   \n",
       "4997           0     0.7               0.376199                         -1   \n",
       "4998           0     0.1               0.588819                        101   \n",
       "4999           0     0.4               0.579633                         30   \n",
       "\n",
       "      current_address_months_count  customer_age  days_since_request  \\\n",
       "0                               88            50            0.020925   \n",
       "1                              144            50            0.005418   \n",
       "2                              132            40            3.108549   \n",
       "3                               22            50            0.019079   \n",
       "4                              218            50            0.004441   \n",
       "...                            ...           ...                 ...   \n",
       "4995                            95            30            0.036085   \n",
       "4996                            18            20            0.027343   \n",
       "4997                            36            40            0.021229   \n",
       "4998                           144            30            0.029976   \n",
       "4999                             0            30            0.897597   \n",
       "\n",
       "      intended_balcon_amount payment_type  zip_count_4w  ...  has_other_cards  \\\n",
       "0                  -1.331345           AA           769  ...                0   \n",
       "1                  -0.816224           AB           366  ...                0   \n",
       "2                  -0.755728           AC           870  ...                0   \n",
       "3                  -1.205124           AB           810  ...                1   \n",
       "4                  -0.773276           AB           890  ...                0   \n",
       "...                      ...          ...           ...  ...              ...   \n",
       "4995               -0.852122           AB           697  ...                0   \n",
       "4996               -1.287176           AD          2780  ...                0   \n",
       "4997               -1.707717           AC           802  ...                0   \n",
       "4998               -1.160380           AB           586  ...                0   \n",
       "4999               -0.683807           AC          2591  ...                0   \n",
       "\n",
       "      proposed_credit_limit  foreign_request    source  \\\n",
       "0                     500.0                0  INTERNET   \n",
       "1                    1500.0                0  INTERNET   \n",
       "2                     200.0                0  INTERNET   \n",
       "3                     200.0                0  INTERNET   \n",
       "4                    1500.0                0  INTERNET   \n",
       "...                     ...              ...       ...   \n",
       "4995                  500.0                0  INTERNET   \n",
       "4996                  200.0                0  INTERNET   \n",
       "4997                  200.0                0  INTERNET   \n",
       "4998                  200.0                0  INTERNET   \n",
       "4999                  200.0                0  INTERNET   \n",
       "\n",
       "      session_length_in_minutes  device_os  keep_alive_session  \\\n",
       "0                      3.888115    windows                   0   \n",
       "1                     31.798819    windows                   0   \n",
       "2                      4.728705      other                   0   \n",
       "3                      2.047904      linux                   0   \n",
       "4                      3.775225  macintosh                   1   \n",
       "...                         ...        ...                 ...   \n",
       "4995                   3.700913      other                   1   \n",
       "4996                  11.493372      other                   1   \n",
       "4997                  11.229699      linux                   0   \n",
       "4998                   3.042368    windows                   1   \n",
       "4999                   9.410480      other                   1   \n",
       "\n",
       "      device_distinct_emails_8w device_fraud_count  month  \n",
       "0                             1                  0      7  \n",
       "1                             1                  0      7  \n",
       "2                             1                  0      7  \n",
       "3                             1                  0      7  \n",
       "4                             1                  0      7  \n",
       "...                         ...                ...    ...  \n",
       "4995                          1                  0      7  \n",
       "4996                          1                  0      7  \n",
       "4997                          1                  0      7  \n",
       "4998                          1                  0      7  \n",
       "4999                          1                  0      7  \n",
       "\n",
       "[5000 rows x 32 columns]"
      ]
     },
     "execution_count": 2,
     "metadata": {},
     "output_type": "execute_result"
    }
   ],
   "source": [
    "#load data\n",
    "nrows = 5000\n",
    "df = pd.read_csv('Base.csv', nrows = nrows) \n",
    "df"
   ]
  },
  {
   "cell_type": "code",
   "execution_count": 3,
   "id": "231ce29b",
   "metadata": {},
   "outputs": [],
   "source": [
    "# train valid test split\n",
    "X_train, y_train, X_valid, y_valid, X_test, y_test = train_valid_test_split(df)\n",
    "# feature engineering\n",
    "X_train, X_valid, X_test = ohe(X_train, X_valid, X_test)\n",
    "X_train, X_valid, X_test = std_scale(X_train, X_valid, X_test)\n",
    "# oversampling\n",
    "X_train, y_train = oversampling(X_train, y_train)"
   ]
  },
  {
   "cell_type": "code",
   "execution_count": 4,
   "id": "1d6707ba",
   "metadata": {},
   "outputs": [
    {
     "data": {
      "text/html": [
       "<div>\n",
       "<style scoped>\n",
       "    .dataframe tbody tr th:only-of-type {\n",
       "        vertical-align: middle;\n",
       "    }\n",
       "\n",
       "    .dataframe tbody tr th {\n",
       "        vertical-align: top;\n",
       "    }\n",
       "\n",
       "    .dataframe thead th {\n",
       "        text-align: right;\n",
       "    }\n",
       "</style>\n",
       "<table border=\"1\" class=\"dataframe\">\n",
       "  <thead>\n",
       "    <tr style=\"text-align: right;\">\n",
       "      <th></th>\n",
       "      <th>income</th>\n",
       "      <th>name_email_similarity</th>\n",
       "      <th>prev_address_months_count</th>\n",
       "      <th>current_address_months_count</th>\n",
       "      <th>customer_age</th>\n",
       "      <th>days_since_request</th>\n",
       "      <th>intended_balcon_amount</th>\n",
       "      <th>zip_count_4w</th>\n",
       "      <th>velocity_6h</th>\n",
       "      <th>velocity_24h</th>\n",
       "      <th>...</th>\n",
       "      <th>housing_status_BC</th>\n",
       "      <th>housing_status_BD</th>\n",
       "      <th>housing_status_BE</th>\n",
       "      <th>source_INTERNET</th>\n",
       "      <th>source_TELEAPP</th>\n",
       "      <th>device_os_linux</th>\n",
       "      <th>device_os_macintosh</th>\n",
       "      <th>device_os_other</th>\n",
       "      <th>device_os_windows</th>\n",
       "      <th>device_os_x11</th>\n",
       "    </tr>\n",
       "  </thead>\n",
       "  <tbody>\n",
       "    <tr>\n",
       "      <th>0</th>\n",
       "      <td>-0.290382</td>\n",
       "      <td>1.898686</td>\n",
       "      <td>-0.026594</td>\n",
       "      <td>-0.619839</td>\n",
       "      <td>0.417815</td>\n",
       "      <td>-0.122764</td>\n",
       "      <td>-0.255025</td>\n",
       "      <td>0.200180</td>\n",
       "      <td>1.855815</td>\n",
       "      <td>0.581888</td>\n",
       "      <td>...</td>\n",
       "      <td>-0.694877</td>\n",
       "      <td>-0.199088</td>\n",
       "      <td>-0.340807</td>\n",
       "      <td>0.073081</td>\n",
       "      <td>-0.073081</td>\n",
       "      <td>1.570655</td>\n",
       "      <td>-0.239065</td>\n",
       "      <td>-0.657578</td>\n",
       "      <td>-0.736321</td>\n",
       "      <td>-0.063868</td>\n",
       "    </tr>\n",
       "    <tr>\n",
       "      <th>1</th>\n",
       "      <td>-1.076750</td>\n",
       "      <td>-0.919797</td>\n",
       "      <td>-0.308555</td>\n",
       "      <td>-0.688076</td>\n",
       "      <td>-1.137450</td>\n",
       "      <td>-0.123276</td>\n",
       "      <td>-0.216202</td>\n",
       "      <td>-0.892128</td>\n",
       "      <td>-0.970645</td>\n",
       "      <td>-1.130819</td>\n",
       "      <td>...</td>\n",
       "      <td>1.439103</td>\n",
       "      <td>-0.199088</td>\n",
       "      <td>-0.340807</td>\n",
       "      <td>0.073081</td>\n",
       "      <td>-0.073081</td>\n",
       "      <td>-0.636677</td>\n",
       "      <td>-0.239065</td>\n",
       "      <td>-0.657578</td>\n",
       "      <td>1.358103</td>\n",
       "      <td>-0.063868</td>\n",
       "    </tr>\n",
       "    <tr>\n",
       "      <th>2</th>\n",
       "      <td>-1.076750</td>\n",
       "      <td>-0.919797</td>\n",
       "      <td>-0.308555</td>\n",
       "      <td>-0.688076</td>\n",
       "      <td>-1.137450</td>\n",
       "      <td>-0.123276</td>\n",
       "      <td>-0.216202</td>\n",
       "      <td>-0.892128</td>\n",
       "      <td>-0.970645</td>\n",
       "      <td>-1.130819</td>\n",
       "      <td>...</td>\n",
       "      <td>-0.694877</td>\n",
       "      <td>-0.199088</td>\n",
       "      <td>-0.340807</td>\n",
       "      <td>0.073081</td>\n",
       "      <td>-0.073081</td>\n",
       "      <td>-0.636677</td>\n",
       "      <td>-0.239065</td>\n",
       "      <td>-0.657578</td>\n",
       "      <td>1.358103</td>\n",
       "      <td>-0.063868</td>\n",
       "    </tr>\n",
       "    <tr>\n",
       "      <th>3</th>\n",
       "      <td>-0.552505</td>\n",
       "      <td>-0.149303</td>\n",
       "      <td>0.511695</td>\n",
       "      <td>-0.647134</td>\n",
       "      <td>0.417815</td>\n",
       "      <td>-0.121460</td>\n",
       "      <td>2.711263</td>\n",
       "      <td>0.233406</td>\n",
       "      <td>-0.147654</td>\n",
       "      <td>0.442069</td>\n",
       "      <td>...</td>\n",
       "      <td>1.439103</td>\n",
       "      <td>-0.199088</td>\n",
       "      <td>-0.340807</td>\n",
       "      <td>0.073081</td>\n",
       "      <td>-0.073081</td>\n",
       "      <td>1.570655</td>\n",
       "      <td>-0.239065</td>\n",
       "      <td>-0.657578</td>\n",
       "      <td>-0.736321</td>\n",
       "      <td>-0.063868</td>\n",
       "    </tr>\n",
       "    <tr>\n",
       "      <th>4</th>\n",
       "      <td>0.758107</td>\n",
       "      <td>-0.260749</td>\n",
       "      <td>2.485420</td>\n",
       "      <td>-0.633486</td>\n",
       "      <td>0.936237</td>\n",
       "      <td>-0.120274</td>\n",
       "      <td>-0.299368</td>\n",
       "      <td>0.864702</td>\n",
       "      <td>0.118844</td>\n",
       "      <td>0.506109</td>\n",
       "      <td>...</td>\n",
       "      <td>-0.694877</td>\n",
       "      <td>-0.199088</td>\n",
       "      <td>-0.340807</td>\n",
       "      <td>0.073081</td>\n",
       "      <td>-0.073081</td>\n",
       "      <td>1.570655</td>\n",
       "      <td>-0.239065</td>\n",
       "      <td>-0.657578</td>\n",
       "      <td>-0.736321</td>\n",
       "      <td>-0.063868</td>\n",
       "    </tr>\n",
       "    <tr>\n",
       "      <th>...</th>\n",
       "      <td>...</td>\n",
       "      <td>...</td>\n",
       "      <td>...</td>\n",
       "      <td>...</td>\n",
       "      <td>...</td>\n",
       "      <td>...</td>\n",
       "      <td>...</td>\n",
       "      <td>...</td>\n",
       "      <td>...</td>\n",
       "      <td>...</td>\n",
       "      <td>...</td>\n",
       "      <td>...</td>\n",
       "      <td>...</td>\n",
       "      <td>...</td>\n",
       "      <td>...</td>\n",
       "      <td>...</td>\n",
       "      <td>...</td>\n",
       "      <td>...</td>\n",
       "      <td>...</td>\n",
       "      <td>...</td>\n",
       "      <td>...</td>\n",
       "    </tr>\n",
       "    <tr>\n",
       "      <th>4567</th>\n",
       "      <td>1.020230</td>\n",
       "      <td>0.435919</td>\n",
       "      <td>-0.334188</td>\n",
       "      <td>0.990553</td>\n",
       "      <td>0.417815</td>\n",
       "      <td>-0.122336</td>\n",
       "      <td>-0.254123</td>\n",
       "      <td>0.378770</td>\n",
       "      <td>0.211723</td>\n",
       "      <td>0.418367</td>\n",
       "      <td>...</td>\n",
       "      <td>-0.694877</td>\n",
       "      <td>-0.199088</td>\n",
       "      <td>2.934214</td>\n",
       "      <td>0.073081</td>\n",
       "      <td>-0.073081</td>\n",
       "      <td>-0.636677</td>\n",
       "      <td>-0.239065</td>\n",
       "      <td>1.520733</td>\n",
       "      <td>-0.736321</td>\n",
       "      <td>-0.063868</td>\n",
       "    </tr>\n",
       "    <tr>\n",
       "      <th>4568</th>\n",
       "      <td>-0.290382</td>\n",
       "      <td>0.073095</td>\n",
       "      <td>1.742069</td>\n",
       "      <td>-0.606191</td>\n",
       "      <td>0.936237</td>\n",
       "      <td>-0.121522</td>\n",
       "      <td>-0.278064</td>\n",
       "      <td>-0.450498</td>\n",
       "      <td>0.651322</td>\n",
       "      <td>2.426792</td>\n",
       "      <td>...</td>\n",
       "      <td>-0.694877</td>\n",
       "      <td>-0.199088</td>\n",
       "      <td>-0.340807</td>\n",
       "      <td>0.073081</td>\n",
       "      <td>-0.073081</td>\n",
       "      <td>-0.636677</td>\n",
       "      <td>-0.239065</td>\n",
       "      <td>-0.657578</td>\n",
       "      <td>1.358103</td>\n",
       "      <td>-0.063868</td>\n",
       "    </tr>\n",
       "    <tr>\n",
       "      <th>4569</th>\n",
       "      <td>1.020230</td>\n",
       "      <td>-0.770050</td>\n",
       "      <td>-0.334188</td>\n",
       "      <td>-0.578897</td>\n",
       "      <td>1.454659</td>\n",
       "      <td>-0.122984</td>\n",
       "      <td>-0.298061</td>\n",
       "      <td>0.698572</td>\n",
       "      <td>1.239030</td>\n",
       "      <td>0.270314</td>\n",
       "      <td>...</td>\n",
       "      <td>-0.694877</td>\n",
       "      <td>5.022898</td>\n",
       "      <td>-0.340807</td>\n",
       "      <td>0.073081</td>\n",
       "      <td>-0.073081</td>\n",
       "      <td>-0.636677</td>\n",
       "      <td>-0.239065</td>\n",
       "      <td>-0.657578</td>\n",
       "      <td>1.358103</td>\n",
       "      <td>-0.063868</td>\n",
       "    </tr>\n",
       "    <tr>\n",
       "      <th>4570</th>\n",
       "      <td>1.020230</td>\n",
       "      <td>0.435919</td>\n",
       "      <td>-0.334188</td>\n",
       "      <td>0.990553</td>\n",
       "      <td>0.417815</td>\n",
       "      <td>-0.122336</td>\n",
       "      <td>-0.254123</td>\n",
       "      <td>0.378770</td>\n",
       "      <td>0.211723</td>\n",
       "      <td>0.418367</td>\n",
       "      <td>...</td>\n",
       "      <td>-0.694877</td>\n",
       "      <td>-0.199088</td>\n",
       "      <td>2.934214</td>\n",
       "      <td>0.073081</td>\n",
       "      <td>-0.073081</td>\n",
       "      <td>-0.636677</td>\n",
       "      <td>-0.239065</td>\n",
       "      <td>1.520733</td>\n",
       "      <td>-0.736321</td>\n",
       "      <td>-0.063868</td>\n",
       "    </tr>\n",
       "    <tr>\n",
       "      <th>4571</th>\n",
       "      <td>-0.028260</td>\n",
       "      <td>-0.513366</td>\n",
       "      <td>1.998397</td>\n",
       "      <td>-0.674428</td>\n",
       "      <td>1.454659</td>\n",
       "      <td>-0.118272</td>\n",
       "      <td>-0.257053</td>\n",
       "      <td>0.050662</td>\n",
       "      <td>-0.155193</td>\n",
       "      <td>0.470433</td>\n",
       "      <td>...</td>\n",
       "      <td>-0.694877</td>\n",
       "      <td>-0.199088</td>\n",
       "      <td>-0.340807</td>\n",
       "      <td>0.073081</td>\n",
       "      <td>-0.073081</td>\n",
       "      <td>-0.636677</td>\n",
       "      <td>-0.239065</td>\n",
       "      <td>1.520733</td>\n",
       "      <td>-0.736321</td>\n",
       "      <td>-0.063868</td>\n",
       "    </tr>\n",
       "  </tbody>\n",
       "</table>\n",
       "<p>4572 rows × 49 columns</p>\n",
       "</div>"
      ],
      "text/plain": [
       "        income  name_email_similarity  prev_address_months_count  \\\n",
       "0    -0.290382               1.898686                  -0.026594   \n",
       "1    -1.076750              -0.919797                  -0.308555   \n",
       "2    -1.076750              -0.919797                  -0.308555   \n",
       "3    -0.552505              -0.149303                   0.511695   \n",
       "4     0.758107              -0.260749                   2.485420   \n",
       "...        ...                    ...                        ...   \n",
       "4567  1.020230               0.435919                  -0.334188   \n",
       "4568 -0.290382               0.073095                   1.742069   \n",
       "4569  1.020230              -0.770050                  -0.334188   \n",
       "4570  1.020230               0.435919                  -0.334188   \n",
       "4571 -0.028260              -0.513366                   1.998397   \n",
       "\n",
       "      current_address_months_count  customer_age  days_since_request  \\\n",
       "0                        -0.619839      0.417815           -0.122764   \n",
       "1                        -0.688076     -1.137450           -0.123276   \n",
       "2                        -0.688076     -1.137450           -0.123276   \n",
       "3                        -0.647134      0.417815           -0.121460   \n",
       "4                        -0.633486      0.936237           -0.120274   \n",
       "...                            ...           ...                 ...   \n",
       "4567                      0.990553      0.417815           -0.122336   \n",
       "4568                     -0.606191      0.936237           -0.121522   \n",
       "4569                     -0.578897      1.454659           -0.122984   \n",
       "4570                      0.990553      0.417815           -0.122336   \n",
       "4571                     -0.674428      1.454659           -0.118272   \n",
       "\n",
       "      intended_balcon_amount  zip_count_4w  velocity_6h  velocity_24h  ...  \\\n",
       "0                  -0.255025      0.200180     1.855815      0.581888  ...   \n",
       "1                  -0.216202     -0.892128    -0.970645     -1.130819  ...   \n",
       "2                  -0.216202     -0.892128    -0.970645     -1.130819  ...   \n",
       "3                   2.711263      0.233406    -0.147654      0.442069  ...   \n",
       "4                  -0.299368      0.864702     0.118844      0.506109  ...   \n",
       "...                      ...           ...          ...           ...  ...   \n",
       "4567               -0.254123      0.378770     0.211723      0.418367  ...   \n",
       "4568               -0.278064     -0.450498     0.651322      2.426792  ...   \n",
       "4569               -0.298061      0.698572     1.239030      0.270314  ...   \n",
       "4570               -0.254123      0.378770     0.211723      0.418367  ...   \n",
       "4571               -0.257053      0.050662    -0.155193      0.470433  ...   \n",
       "\n",
       "      housing_status_BC  housing_status_BD  housing_status_BE  \\\n",
       "0             -0.694877          -0.199088          -0.340807   \n",
       "1              1.439103          -0.199088          -0.340807   \n",
       "2             -0.694877          -0.199088          -0.340807   \n",
       "3              1.439103          -0.199088          -0.340807   \n",
       "4             -0.694877          -0.199088          -0.340807   \n",
       "...                 ...                ...                ...   \n",
       "4567          -0.694877          -0.199088           2.934214   \n",
       "4568          -0.694877          -0.199088          -0.340807   \n",
       "4569          -0.694877           5.022898          -0.340807   \n",
       "4570          -0.694877          -0.199088           2.934214   \n",
       "4571          -0.694877          -0.199088          -0.340807   \n",
       "\n",
       "      source_INTERNET  source_TELEAPP  device_os_linux  device_os_macintosh  \\\n",
       "0            0.073081       -0.073081         1.570655            -0.239065   \n",
       "1            0.073081       -0.073081        -0.636677            -0.239065   \n",
       "2            0.073081       -0.073081        -0.636677            -0.239065   \n",
       "3            0.073081       -0.073081         1.570655            -0.239065   \n",
       "4            0.073081       -0.073081         1.570655            -0.239065   \n",
       "...               ...             ...              ...                  ...   \n",
       "4567         0.073081       -0.073081        -0.636677            -0.239065   \n",
       "4568         0.073081       -0.073081        -0.636677            -0.239065   \n",
       "4569         0.073081       -0.073081        -0.636677            -0.239065   \n",
       "4570         0.073081       -0.073081        -0.636677            -0.239065   \n",
       "4571         0.073081       -0.073081        -0.636677            -0.239065   \n",
       "\n",
       "      device_os_other  device_os_windows  device_os_x11  \n",
       "0           -0.657578          -0.736321      -0.063868  \n",
       "1           -0.657578           1.358103      -0.063868  \n",
       "2           -0.657578           1.358103      -0.063868  \n",
       "3           -0.657578          -0.736321      -0.063868  \n",
       "4           -0.657578          -0.736321      -0.063868  \n",
       "...               ...                ...            ...  \n",
       "4567         1.520733          -0.736321      -0.063868  \n",
       "4568        -0.657578           1.358103      -0.063868  \n",
       "4569        -0.657578           1.358103      -0.063868  \n",
       "4570         1.520733          -0.736321      -0.063868  \n",
       "4571         1.520733          -0.736321      -0.063868  \n",
       "\n",
       "[4572 rows x 49 columns]"
      ]
     },
     "execution_count": 4,
     "metadata": {},
     "output_type": "execute_result"
    }
   ],
   "source": [
    "X_train"
   ]
  },
  {
   "cell_type": "code",
   "execution_count": 5,
   "id": "aff26b6d",
   "metadata": {},
   "outputs": [],
   "source": [
    "df_time = pd.DataFrame()\n",
    "nn_final=pd.DataFrame()"
   ]
  },
  {
   "cell_type": "code",
   "execution_count": 6,
   "id": "3907ddcb",
   "metadata": {},
   "outputs": [],
   "source": [
    "def gen_op(name, time, y_train, labels):\n",
    "#     df_time.loc[i] = [name, \n",
    "#                       np.round(time,3),\n",
    "#                       np.round(f1_score(y_train,labels),3),\n",
    "#                       np.round(roc_auc_score(y_train,labels),3)\n",
    "#                      ]\n",
    "    dfg = pd.DataFrame({'name':[name],\n",
    "                         'time':[ np.round(time,3)],\n",
    "                         'f1_score':[np.round(f1_score(y_train,labels, average='weighted'),3)],                \n",
    "                         'roc_score':[np.round(roc_auc_score(y_train,labels),3)]\n",
    "                        })\n",
    "    return dfg\n",
    "    \n",
    "def transform_list(lst):\n",
    "#     ones_count = sum(lst)\n",
    "#     zeros_count = len(lst) - ones_count\n",
    "#     if ones_count > zeros_count:\n",
    "#         return [0 if x == 1 else 1 for x in lst]\n",
    "#     else:\n",
    "#         return [1 if x == 1 else 0 for x in lst]\n",
    "    dft = pd.DataFrame({'target': lst})\n",
    "    cc=dft.target.value_counts(ascending=False)\n",
    "    ccmap = {cc.index[i]: i for i in range(len(cc))}\n",
    "    dft = dft.target.map(ccmap)\n",
    "    return dft    \n",
    "    \n",
    "def run_nn(name, X_t, new_label, y_train, X_test, test_label, y_test):\n",
    "    mlp =  MLPClassifier(random_state = 0, \n",
    "                     hidden_layer_sizes=(3,), \n",
    "                     activation='identity')\n",
    "    X_t = pd.DataFrame(X_t)\n",
    "    X_t['cluster'] = new_label\n",
    "    X_t.columns = X_t.columns.astype(str)\n",
    "    X_test['cluster'] = test_label\n",
    "    X_test.columns = X_test.columns.astype(str)\n",
    "    mlp.fit(X_t, y_train)\n",
    "    nn_perf = model(mlp, X_t, y_train, X_test, y_test)\n",
    "    nn_perf['name'] = name\n",
    "    print(nn_perf)\n",
    "    return nn_perf"
   ]
  },
  {
   "cell_type": "markdown",
   "id": "3d3acb68",
   "metadata": {},
   "source": [
    "# Clustering"
   ]
  },
  {
   "cell_type": "markdown",
   "id": "af82b799",
   "metadata": {},
   "source": [
    "## Kmeans"
   ]
  },
  {
   "cell_type": "code",
   "execution_count": 7,
   "id": "7df32d8b",
   "metadata": {},
   "outputs": [
    {
     "data": {
      "image/png": "[encoded data removed]",
      "text/plain": [
       "<Figure size 576x432 with 2 Axes>"
      ]
     },
     "metadata": {
      "needs_background": "light"
     },
     "output_type": "display_data"
    },
    {
     "name": "stdout",
     "output_type": "stream",
     "text": [
      "label       0     1\n",
      "cluster            \n",
      "0        1107  2286\n",
      "1        1179     0\n"
     ]
    },
    {
     "data": {
      "image/png": "[encoded data removed]",
      "text/plain": [
       "<Figure size 432x288 with 1 Axes>"
      ]
     },
     "metadata": {
      "needs_background": "light"
     },
     "output_type": "display_data"
    }
   ],
   "source": [
    "name = 'kmeans'\n",
    "# pick k\n",
    "plot_kmeans(X_train)\n",
    "\n",
    "# model\n",
    "k = 2\n",
    "t_start = process_time()\n",
    "kmeans_labels = KMeans(n_clusters=k, random_state=0).fit_predict(X_train)\n",
    "kmeans_labels = transform_list(kmeans_labels)\n",
    "t_stop = process_time()\n",
    "t = t_stop - t_start\n",
    "df_time = df_time.append(gen_op(name,t, y_train, kmeans_labels))\n",
    "plot_cluster_label(kmeans_labels, y_train)"
   ]
  },
  {
   "cell_type": "code",
   "execution_count": 8,
   "id": "3d95a611",
   "metadata": {},
   "outputs": [
    {
     "data": {
      "text/html": [
       "<div>\n",
       "<style scoped>\n",
       "    .dataframe tbody tr th:only-of-type {\n",
       "        vertical-align: middle;\n",
       "    }\n",
       "\n",
       "    .dataframe tbody tr th {\n",
       "        vertical-align: top;\n",
       "    }\n",
       "\n",
       "    .dataframe thead th {\n",
       "        text-align: right;\n",
       "    }\n",
       "</style>\n",
       "<table border=\"1\" class=\"dataframe\">\n",
       "  <thead>\n",
       "    <tr style=\"text-align: right;\">\n",
       "      <th></th>\n",
       "      <th>name</th>\n",
       "      <th>time</th>\n",
       "      <th>f1_score</th>\n",
       "      <th>roc_score</th>\n",
       "    </tr>\n",
       "  </thead>\n",
       "  <tbody>\n",
       "    <tr>\n",
       "      <th>0</th>\n",
       "      <td>kmeans</td>\n",
       "      <td>0.016</td>\n",
       "      <td>0.195</td>\n",
       "      <td>0.242</td>\n",
       "    </tr>\n",
       "  </tbody>\n",
       "</table>\n",
       "</div>"
      ],
      "text/plain": [
       "     name   time  f1_score  roc_score\n",
       "0  kmeans  0.016     0.195      0.242"
      ]
     },
     "execution_count": 8,
     "metadata": {},
     "output_type": "execute_result"
    }
   ],
   "source": [
    "df_time"
   ]
  },
  {
   "cell_type": "markdown",
   "id": "bef7ae0b",
   "metadata": {},
   "source": [
    "## Expectation Maximization"
   ]
  },
  {
   "cell_type": "code",
   "execution_count": 9,
   "id": "c4370859",
   "metadata": {},
   "outputs": [
    {
     "data": {
      "image/png": "[encoded data removed]",
      "text/plain": [
       "<Figure size 576x432 with 1 Axes>"
      ]
     },
     "metadata": {
      "needs_background": "light"
     },
     "output_type": "display_data"
    },
    {
     "name": "stdout",
     "output_type": "stream",
     "text": [
      "label       0     1\n",
      "cluster            \n",
      "0        1107  2286\n",
      "1        1179     0\n"
     ]
    },
    {
     "data": {
      "image/png": "[encoded data removed]",
      "text/plain": [
       "<Figure size 432x288 with 1 Axes>"
      ]
     },
     "metadata": {
      "needs_background": "light"
     },
     "output_type": "display_data"
    }
   ],
   "source": [
    "name = 'em'\n",
    "# pick n\n",
    "plot_em(X_train)\n",
    "\n",
    "# model\n",
    "t_start = process_time()\n",
    "n = 2\n",
    "em_labels = GaussianMixture(n_components=n).fit_predict(X_train)\n",
    "em_labels = transform_list(em_labels)\n",
    "t_stop = process_time()\n",
    "t = t_stop - t_start\n",
    "df_time = df_time.append(gen_op(name,t, y_train, em_labels))\n",
    "plot_cluster_label(em_labels, y_train)"
   ]
  },
  {
   "cell_type": "code",
   "execution_count": 10,
   "id": "d8b73a2e",
   "metadata": {},
   "outputs": [
    {
     "data": {
      "text/html": [
       "<div>\n",
       "<style scoped>\n",
       "    .dataframe tbody tr th:only-of-type {\n",
       "        vertical-align: middle;\n",
       "    }\n",
       "\n",
       "    .dataframe tbody tr th {\n",
       "        vertical-align: top;\n",
       "    }\n",
       "\n",
       "    .dataframe thead th {\n",
       "        text-align: right;\n",
       "    }\n",
       "</style>\n",
       "<table border=\"1\" class=\"dataframe\">\n",
       "  <thead>\n",
       "    <tr style=\"text-align: right;\">\n",
       "      <th></th>\n",
       "      <th>name</th>\n",
       "      <th>time</th>\n",
       "      <th>f1_score</th>\n",
       "      <th>roc_score</th>\n",
       "    </tr>\n",
       "  </thead>\n",
       "  <tbody>\n",
       "    <tr>\n",
       "      <th>0</th>\n",
       "      <td>kmeans</td>\n",
       "      <td>0.016</td>\n",
       "      <td>0.195</td>\n",
       "      <td>0.242</td>\n",
       "    </tr>\n",
       "    <tr>\n",
       "      <th>0</th>\n",
       "      <td>em</td>\n",
       "      <td>0.641</td>\n",
       "      <td>0.195</td>\n",
       "      <td>0.242</td>\n",
       "    </tr>\n",
       "  </tbody>\n",
       "</table>\n",
       "</div>"
      ],
      "text/plain": [
       "     name   time  f1_score  roc_score\n",
       "0  kmeans  0.016     0.195      0.242\n",
       "0      em  0.641     0.195      0.242"
      ]
     },
     "execution_count": 10,
     "metadata": {},
     "output_type": "execute_result"
    }
   ],
   "source": [
    "df_time"
   ]
  },
  {
   "cell_type": "markdown",
   "id": "dd0d76d0",
   "metadata": {},
   "source": [
    "# Dimensional Reduction"
   ]
  },
  {
   "cell_type": "markdown",
   "id": "d03c819f",
   "metadata": {},
   "source": [
    "## PCA"
   ]
  },
  {
   "cell_type": "code",
   "execution_count": 11,
   "id": "45b6a382",
   "metadata": {},
   "outputs": [
    {
     "data": {
      "image/png": "[encoded data removed]",
      "text/plain": [
       "<Figure size 432x288 with 1 Axes>"
      ]
     },
     "metadata": {
      "needs_background": "light"
     },
     "output_type": "display_data"
    },
    {
     "name": "stdout",
     "output_type": "stream",
     "text": [
      "Total number of feature is:  49\n",
      "Number of components needed to explain at least 75% of the variance: 21\n",
      "Total variance explained by 21 components: 0.76\n"
     ]
    }
   ],
   "source": [
    "# Fit PCA on the training data\n",
    "pca = PCA()\n",
    "pca.fit(X_train)\n",
    "\n",
    "# print(pca.explained_variance_ratio_)\n",
    "# Plot the explained variance ratio for each component\n",
    "import matplotlib.pyplot as plt\n",
    "# pca.explained_variance_ratio_ = pca.explained_variance_ratio_[0:10]\n",
    "plt.plot(pca.explained_variance_ratio_)\n",
    "plt.xlabel('Number of Components')\n",
    "plt.ylabel('Explained Variance Ratio')\n",
    "plt.xticks(np.arange(len(pca.explained_variance_ratio_)), np.arange(1, len(pca.explained_variance_ratio_)+1))\n",
    "plt.grid(True)\n",
    "plt.show()\n",
    "\n",
    "# Choose the number of components that explain at least 95% of the variance\n",
    "cumulative_variance_ratio = np.cumsum(pca.explained_variance_ratio_)\n",
    "n_components = np.argmax(cumulative_variance_ratio >= 0.75) + 1\n",
    "print('Total number of feature is: ', len(pca.explained_variance_ratio_))\n",
    "print(f\"Number of components needed to explain at least 75% of the variance: {n_components}\")\n",
    "\n",
    "# Get the total variance explained by the selected number of components\n",
    "total_variance_explained = np.sum(pca.explained_variance_ratio_[:n_components])\n",
    "print(f\"Total variance explained by {n_components} components: {total_variance_explained:.2f}\")"
   ]
  },
  {
   "cell_type": "code",
   "execution_count": 12,
   "id": "d6557d7f",
   "metadata": {},
   "outputs": [
    {
     "name": "stdout",
     "output_type": "stream",
     "text": [
      "Total time:  0.0\n"
     ]
    }
   ],
   "source": [
    "t_start = process_time()\n",
    "pca_n = n_components\n",
    "X_train_pca = pd.DataFrame(pca.transform(X_train)[:, :pca_n])\n",
    "X_test2 = pd.DataFrame(pca.transform(X_test)[:, :pca_n])\n",
    "X_t = X_train_pca.copy()\n",
    "t_stop = process_time()\n",
    "t = t_stop - t_start\n",
    "print('Total time: ', t)"
   ]
  },
  {
   "cell_type": "markdown",
   "id": "ce266dde",
   "metadata": {},
   "source": [
    "### Kmeans pca"
   ]
  },
  {
   "cell_type": "code",
   "execution_count": 13,
   "id": "953e4898",
   "metadata": {},
   "outputs": [
    {
     "data": {
      "image/png": "[encoded data removed]",
      "text/plain": [
       "<Figure size 576x432 with 2 Axes>"
      ]
     },
     "metadata": {
      "needs_background": "light"
     },
     "output_type": "display_data"
    },
    {
     "name": "stdout",
     "output_type": "stream",
     "text": [
      "label       0     1\n",
      "cluster            \n",
      "0        1107  2286\n",
      "1        1179     0\n"
     ]
    },
    {
     "data": {
      "image/png": "[encoded data removed]",
      "text/plain": [
       "<Figure size 432x288 with 1 Axes>"
      ]
     },
     "metadata": {
      "needs_background": "light"
     },
     "output_type": "display_data"
    },
    {
     "name": "stdout",
     "output_type": "stream",
     "text": [
      "     acc  cv_score  train_roc  test_roc  recall_score  f1_score  run_time  \\\n",
      "0  0.821     0.824      0.824     0.771         0.821     0.819   0.17188   \n",
      "\n",
      "         name  \n",
      "0  kmeans_pca  \n"
     ]
    }
   ],
   "source": [
    "name = 'kmeans_pca'\n",
    "\n",
    "# pick k\n",
    "plot_kmeans(X_t)\n",
    "\n",
    "# model\n",
    "k = 2\n",
    "t_start = process_time()\n",
    "km = KMeans(n_clusters=k, random_state=0)\n",
    "kmeans_labels = km.fit_predict(X_t)\n",
    "test_labels = km.fit_predict(X_test2)\n",
    "kmeans_labels = transform_list(kmeans_labels)\n",
    "t_stop = process_time()\n",
    "t = t_stop - t_start\n",
    "df_time = df_time.append(gen_op(name,t, y_train, kmeans_labels))\n",
    "# print(t)\n",
    "plot_cluster_label(kmeans_labels, y_train)\n",
    "nn_final=nn_final.append(run_nn(name, X_t, kmeans_labels, y_train, X_test2, test_labels, y_test))"
   ]
  },
  {
   "cell_type": "markdown",
   "id": "850714b7",
   "metadata": {},
   "source": [
    "### EM pca"
   ]
  },
  {
   "cell_type": "code",
   "execution_count": 14,
   "id": "0565d365",
   "metadata": {},
   "outputs": [
    {
     "data": {
      "image/png": "[encoded data removed]",
      "text/plain": [
       "<Figure size 576x432 with 1 Axes>"
      ]
     },
     "metadata": {
      "needs_background": "light"
     },
     "output_type": "display_data"
    },
    {
     "name": "stdout",
     "output_type": "stream",
     "text": [
      "label       0     1\n",
      "cluster            \n",
      "0        1107  2286\n",
      "1        1179     0\n"
     ]
    },
    {
     "data": {
      "image/png": "[encoded data removed]",
      "text/plain": [
       "<Figure size 432x288 with 1 Axes>"
      ]
     },
     "metadata": {
      "needs_background": "light"
     },
     "output_type": "display_data"
    },
    {
     "name": "stdout",
     "output_type": "stream",
     "text": [
      "     acc  cv_score  train_roc  test_roc  recall_score  f1_score  run_time  \\\n",
      "0  0.821     0.824      0.824     0.771         0.821     0.819    0.1875   \n",
      "\n",
      "     name  \n",
      "0  em_pca  \n"
     ]
    }
   ],
   "source": [
    "name = 'em_pca'\n",
    "# pick n\n",
    "plot_em(X_t)\n",
    "\n",
    "# model\n",
    "t_start = process_time()\n",
    "n = 2\n",
    "em_labels = GaussianMixture(n_components=n).fit_predict(X_t)\n",
    "em_labels = transform_list(em_labels)\n",
    "t_stop = process_time()\n",
    "t = t_stop - t_start\n",
    "df_time = df_time.append(gen_op(name,t, y_train, em_labels))\n",
    "# print(t)\n",
    "plot_cluster_label(em_labels, y_train)\n",
    "nn_final=nn_final.append(run_nn(name, X_t, em_labels, y_train, X_test2, test_labels, y_test))"
   ]
  },
  {
   "cell_type": "markdown",
   "id": "099e3c0e",
   "metadata": {},
   "source": [
    "## ICA"
   ]
  },
  {
   "cell_type": "code",
   "execution_count": 15,
   "id": "36c1665b",
   "metadata": {},
   "outputs": [
    {
     "data": {
      "image/png": "[encoded data removed]",
      "text/plain": [
       "<Figure size 432x288 with 1 Axes>"
      ]
     },
     "metadata": {
      "needs_background": "light"
     },
     "output_type": "display_data"
    }
   ],
   "source": [
    "from scipy.stats import kurtosis\n",
    "# Define the range of n_components to loop through\n",
    "n_components_range = range(1, 25)\n",
    "kur = []\n",
    "\n",
    "# Loop through different values of n_components\n",
    "for n_components in n_components_range:\n",
    "    \n",
    "    # Create an instance of the FastICA model with the current value of n_components\n",
    "    ica = FastICA(n_components=n_components)\n",
    "\n",
    "    # Fit the ICA model to the data and transform it\n",
    "    ica_components = ica.fit_transform(X_train)\n",
    "\n",
    "    # Compute the explained variance for the current value of n_components\n",
    "    kur.append(mean(abs(kurtosis(ica_components))))\n",
    "\n",
    "# Plot the explained variance as a function of the number of components\n",
    "plt.plot(n_components_range, kur, marker='o')\n",
    "plt.xlabel('Number of components')\n",
    "plt.ylabel('Average kurtosis score')\n",
    "# plt.xticks(np.arange(len(kur)+1), np.arange(0, len(kur)+1))\n",
    "plt.xticks(np.arange(len(kur)), np.arange(0, len(kur)))\n",
    "plt.show()"
   ]
  },
  {
   "cell_type": "code",
   "execution_count": 16,
   "id": "a75ef4b3",
   "metadata": {},
   "outputs": [
    {
     "name": "stdout",
     "output_type": "stream",
     "text": [
      "Total time:  0.03125\n"
     ]
    }
   ],
   "source": [
    "# Create an instance of the FastICA model with 10 components\n",
    "t_start = process_time()\n",
    "ica_n = 14\n",
    "ica = FastICA(n_components=ica_n)\n",
    "\n",
    "# Fit the ICA model to the data\n",
    "ica.fit(X_train)\n",
    "\n",
    "# Transform the data using the ICA model\n",
    "ica_components = ica.transform(X_train)\n",
    "ica_components_test = ica.transform(X_test)\n",
    "t_stop = process_time()\n",
    "t = t_stop - t_start\n",
    "print('Total time: ', t)\n",
    "# Create a new DataFrame with the ICA components\n",
    "X_train_ica = pd.DataFrame(ica_components, columns=['ICA{}'.format(i+1) for i in range(ica_n)])\n",
    "X_test2 = pd.DataFrame(ica_components_test, columns=['ICA{}'.format(i+1) for i in range(ica_n)])\n",
    "X_t = X_train_ica.copy()"
   ]
  },
  {
   "cell_type": "markdown",
   "id": "ecd0140c",
   "metadata": {},
   "source": [
    "### Kmeans ica"
   ]
  },
  {
   "cell_type": "code",
   "execution_count": 17,
   "id": "765ba4ee",
   "metadata": {},
   "outputs": [
    {
     "data": {
      "image/png": "[encoded data removed]",
      "text/plain": [
       "<Figure size 576x432 with 2 Axes>"
      ]
     },
     "metadata": {
      "needs_background": "light"
     },
     "output_type": "display_data"
    },
    {
     "name": "stdout",
     "output_type": "stream",
     "text": [
      "label       0     1\n",
      "cluster            \n",
      "0        1774  1903\n",
      "1         512   383\n"
     ]
    },
    {
     "data": {
      "image/png": "[encoded data removed]",
      "text/plain": [
       "<Figure size 432x288 with 1 Axes>"
      ]
     },
     "metadata": {
      "needs_background": "light"
     },
     "output_type": "display_data"
    },
    {
     "name": "stdout",
     "output_type": "stream",
     "text": [
      "     acc  cv_score  train_roc  test_roc  recall_score  f1_score  run_time  \\\n",
      "0  0.816     0.817       0.82     0.746         0.816      0.81   0.73438   \n",
      "\n",
      "         name  \n",
      "0  kmeans_ica  \n"
     ]
    }
   ],
   "source": [
    "name = 'kmeans_ica'\n",
    "\n",
    "# pick k\n",
    "plot_kmeans(X_t)\n",
    "\n",
    "# model\n",
    "k = 2\n",
    "t_start = process_time()\n",
    "km = KMeans(n_clusters=k, random_state=0)\n",
    "kmeans_labels = km.fit_predict(X_t)\n",
    "test_labels = km.fit_predict(X_test2)\n",
    "kmeans_labels = transform_list(kmeans_labels)\n",
    "t_stop = process_time()\n",
    "t = t_stop - t_start\n",
    "df_time = df_time.append(gen_op(name,t, y_train, kmeans_labels))\n",
    "# print(t)\n",
    "plot_cluster_label(kmeans_labels, y_train)\n",
    "nn_final=nn_final.append(run_nn(name, X_t, kmeans_labels, y_train, X_test2, test_labels, y_test))"
   ]
  },
  {
   "cell_type": "markdown",
   "id": "ea0a7ea5",
   "metadata": {},
   "source": [
    "### EM ica"
   ]
  },
  {
   "cell_type": "code",
   "execution_count": 18,
   "id": "2ae98940",
   "metadata": {},
   "outputs": [
    {
     "data": {
      "image/png": "[encoded data removed]",
      "text/plain": [
       "<Figure size 576x432 with 1 Axes>"
      ]
     },
     "metadata": {
      "needs_background": "light"
     },
     "output_type": "display_data"
    },
    {
     "name": "stdout",
     "output_type": "stream",
     "text": [
      "label       0     1\n",
      "cluster            \n",
      "0        1774  1903\n",
      "1         512   383\n"
     ]
    },
    {
     "data": {
      "image/png": "[encoded data removed]",
      "text/plain": [
       "<Figure size 432x288 with 1 Axes>"
      ]
     },
     "metadata": {
      "needs_background": "light"
     },
     "output_type": "display_data"
    },
    {
     "name": "stdout",
     "output_type": "stream",
     "text": [
      "     acc  cv_score  train_roc  test_roc  recall_score  f1_score  run_time  \\\n",
      "0  0.816     0.817       0.82     0.746         0.816      0.81   0.76562   \n",
      "\n",
      "     name  \n",
      "0  em_ica  \n"
     ]
    }
   ],
   "source": [
    "name = 'em_ica'\n",
    "# pick n\n",
    "plot_em(X_t)\n",
    "\n",
    "# model\n",
    "t_start = process_time()\n",
    "n = 2\n",
    "em_labels = GaussianMixture(n_components=n).fit_predict(X_t)\n",
    "em_labels = transform_list(em_labels)\n",
    "t_stop = process_time()\n",
    "t = t_stop - t_start\n",
    "df_time = df_time.append(gen_op(name,t, y_train, em_labels))\n",
    "# print(t)\n",
    "plot_cluster_label(em_labels, y_train)\n",
    "\n",
    "nn_final=nn_final.append(run_nn(name, X_t, em_labels, y_train, X_test2, test_labels, y_test))"
   ]
  },
  {
   "cell_type": "markdown",
   "id": "fd940daf",
   "metadata": {},
   "source": [
    "## Randomized Projection"
   ]
  },
  {
   "cell_type": "code",
   "execution_count": 19,
   "id": "851c617b",
   "metadata": {
    "scrolled": true
   },
   "outputs": [
    {
     "data": {
      "image/png": "[encoded data removed]",
      "text/plain": [
       "<Figure size 576x432 with 1 Axes>"
      ]
     },
     "metadata": {
      "needs_background": "light"
     },
     "output_type": "display_data"
    },
    {
     "name": "stdout",
     "output_type": "stream",
     "text": [
      "Total time:  0.0\n"
     ]
    }
   ],
   "source": [
    "n_components_range = range(1, 25)\n",
    "dis=[]\n",
    "\n",
    "from sklearn.metrics.pairwise import euclidean_distances\n",
    "# Loop through different values of n_components\n",
    "for n_components in n_components_range:\n",
    "    # Perform randomized projection feature selection\n",
    "#     rp = SparseRandomProjection(n_components=n_components, random_state=0)\n",
    "    rp = GaussianRandomProjection(n_components=n_components, random_state=0)\n",
    "    X_rp = rp.fit_transform(X_train)\n",
    "    \n",
    "    dist_original = euclidean_distances(X_train)\n",
    "    dist_projected = euclidean_distances(X_rp)\n",
    "    dis.append(((dist_original - dist_projected) ** 2).mean())\n",
    "\n",
    "# Plot the scores for each k value\n",
    "fig, ax1 = plt.subplots(figsize=(8, 6))\n",
    "color = 'blue'\n",
    "ax1.set_xlabel('Number of components')\n",
    "ax1.set_ylabel('Distance MSE', color=color)\n",
    "ax1.plot(n_components_range, dis, label='Distance MSE', color=color)\n",
    "ax1.tick_params(axis='y', labelcolor=color)\n",
    "plt.show()\n",
    "\n",
    "# build model\n",
    "t_start = process_time()\n",
    "rp = SparseRandomProjection(n_components=13, random_state=0)\n",
    "X_t = rp.fit_transform(X_train)\n",
    "X_test2 = pd.DataFrame(rp.transform(X_test))\n",
    "t_stop = process_time()\n",
    "t = t_stop - t_start\n",
    "print('Total time: ', t)"
   ]
  },
  {
   "cell_type": "markdown",
   "id": "c6b02fbb",
   "metadata": {},
   "source": [
    "### Kmeans rp"
   ]
  },
  {
   "cell_type": "code",
   "execution_count": 20,
   "id": "75ebc61b",
   "metadata": {
    "scrolled": false
   },
   "outputs": [
    {
     "data": {
      "image/png": "[encoded data removed]",
      "text/plain": [
       "<Figure size 576x432 with 2 Axes>"
      ]
     },
     "metadata": {
      "needs_background": "light"
     },
     "output_type": "display_data"
    },
    {
     "name": "stdout",
     "output_type": "stream",
     "text": [
      "label       0     1\n",
      "cluster            \n",
      "0        1045  2177\n",
      "1        1241   109\n"
     ]
    },
    {
     "data": {
      "image/png": "[encoded data removed]",
      "text/plain": [
       "<Figure size 432x288 with 1 Axes>"
      ]
     },
     "metadata": {
      "needs_background": "light"
     },
     "output_type": "display_data"
    },
    {
     "name": "stdout",
     "output_type": "stream",
     "text": [
      "     acc  cv_score  train_roc  test_roc  recall_score  f1_score  run_time  \\\n",
      "0  0.748      0.76      0.766     0.702         0.748      0.75   0.29688   \n",
      "\n",
      "        name  \n",
      "0  kmeans_rp  \n"
     ]
    }
   ],
   "source": [
    "name = 'kmeans_rp'\n",
    "\n",
    "# pick k\n",
    "plot_kmeans(X_t)\n",
    "\n",
    "# model\n",
    "k = 2\n",
    "t_start = process_time()\n",
    "km = KMeans(n_clusters=k, random_state=0)\n",
    "kmeans_labels = km.fit_predict(X_t)\n",
    "test_labels = km.fit_predict(X_test2)\n",
    "kmeans_labels = transform_list(kmeans_labels)\n",
    "t_stop = process_time()\n",
    "t = t_stop - t_start\n",
    "df_time = df_time.append(gen_op(name,t, y_train, kmeans_labels))\n",
    "# print(t)\n",
    "plot_cluster_label(kmeans_labels, y_train)\n",
    "nn_final=nn_final.append(run_nn(name, X_t, kmeans_labels, y_train, X_test2, test_labels, y_test))"
   ]
  },
  {
   "cell_type": "code",
   "execution_count": 21,
   "id": "904058ad",
   "metadata": {},
   "outputs": [],
   "source": [
    "# nn_final=nn_final.append(run_nn(name, X_t, kmeans_labels, y_train, X_test2, y_test))"
   ]
  },
  {
   "cell_type": "code",
   "execution_count": 22,
   "id": "c271a7e8",
   "metadata": {},
   "outputs": [],
   "source": [
    "# name = 'kmeans_rp7'\n",
    "\n",
    "# # pick k\n",
    "# plot_kmeans(X_t)\n",
    "\n",
    "# # model\n",
    "# k = 7\n",
    "# t_start = process_time()\n",
    "# kmeans_labels = KMeans(n_clusters=k, random_state=0).fit_predict(X_t)\n",
    "# kmeans_labels = transform_list(kmeans_labels)\n",
    "# t_stop = process_time()\n",
    "# t = t_stop - t_start\n",
    "# df_time = df_time.append(gen_op(name,t, y_train, kmeans_labels))\n",
    "# # print(t)\n",
    "# plot_cluster_label(kmeans_labels, y_train)"
   ]
  },
  {
   "cell_type": "code",
   "execution_count": 23,
   "id": "9e0fc2b3",
   "metadata": {},
   "outputs": [],
   "source": [
    "# nn_final=nn_final.append(run_nn(name, X_t, kmeans_labels, y_train, X_test, y_test))"
   ]
  },
  {
   "cell_type": "markdown",
   "id": "bf025a75",
   "metadata": {},
   "source": [
    "### EM rp"
   ]
  },
  {
   "cell_type": "code",
   "execution_count": 24,
   "id": "2ee7c035",
   "metadata": {},
   "outputs": [
    {
     "data": {
      "image/png": "[encoded data removed]",
      "text/plain": [
       "<Figure size 576x432 with 1 Axes>"
      ]
     },
     "metadata": {
      "needs_background": "light"
     },
     "output_type": "display_data"
    },
    {
     "name": "stdout",
     "output_type": "stream",
     "text": [
      "label       0     1\n",
      "cluster            \n",
      "0        1102  2245\n",
      "1        1184    41\n"
     ]
    },
    {
     "data": {
      "image/png": "[encoded data removed]",
      "text/plain": [
       "<Figure size 432x288 with 1 Axes>"
      ]
     },
     "metadata": {
      "needs_background": "light"
     },
     "output_type": "display_data"
    },
    {
     "name": "stdout",
     "output_type": "stream",
     "text": [
      "     acc  cv_score  train_roc  test_roc  recall_score  f1_score  run_time  \\\n",
      "0  0.712      0.76      0.764     0.511         0.712     0.614   0.54688   \n",
      "\n",
      "    name  \n",
      "0  em_rp  \n"
     ]
    }
   ],
   "source": [
    "name = 'em_rp'\n",
    "# pick n\n",
    "plot_em(X_t)\n",
    "\n",
    "# model\n",
    "t_start = process_time()\n",
    "n = 2\n",
    "em_labels = GaussianMixture(n_components=n).fit_predict(X_t)\n",
    "em_labels = transform_list(em_labels)\n",
    "t_stop = process_time()\n",
    "t = t_stop - t_start\n",
    "df_time = df_time.append(gen_op(name,t, y_train, em_labels))\n",
    "# print(t)\n",
    "plot_cluster_label(em_labels, y_train)\n",
    "\n",
    "nn_final=nn_final.append(run_nn(name, X_t, em_labels, y_train, X_test2, test_labels, y_test))"
   ]
  },
  {
   "cell_type": "code",
   "execution_count": 25,
   "id": "fa596041",
   "metadata": {},
   "outputs": [
    {
     "data": {
      "text/html": [
       "<div>\n",
       "<style scoped>\n",
       "    .dataframe tbody tr th:only-of-type {\n",
       "        vertical-align: middle;\n",
       "    }\n",
       "\n",
       "    .dataframe tbody tr th {\n",
       "        vertical-align: top;\n",
       "    }\n",
       "\n",
       "    .dataframe thead th {\n",
       "        text-align: right;\n",
       "    }\n",
       "</style>\n",
       "<table border=\"1\" class=\"dataframe\">\n",
       "  <thead>\n",
       "    <tr style=\"text-align: right;\">\n",
       "      <th></th>\n",
       "      <th>name</th>\n",
       "      <th>time</th>\n",
       "      <th>f1_score</th>\n",
       "      <th>roc_score</th>\n",
       "    </tr>\n",
       "  </thead>\n",
       "  <tbody>\n",
       "    <tr>\n",
       "      <th>0</th>\n",
       "      <td>kmeans</td>\n",
       "      <td>0.016</td>\n",
       "      <td>0.195</td>\n",
       "      <td>0.242</td>\n",
       "    </tr>\n",
       "    <tr>\n",
       "      <th>0</th>\n",
       "      <td>em</td>\n",
       "      <td>0.641</td>\n",
       "      <td>0.195</td>\n",
       "      <td>0.242</td>\n",
       "    </tr>\n",
       "    <tr>\n",
       "      <th>0</th>\n",
       "      <td>kmeans_pca</td>\n",
       "      <td>0.188</td>\n",
       "      <td>0.195</td>\n",
       "      <td>0.242</td>\n",
       "    </tr>\n",
       "    <tr>\n",
       "      <th>0</th>\n",
       "      <td>em_pca</td>\n",
       "      <td>0.078</td>\n",
       "      <td>0.195</td>\n",
       "      <td>0.242</td>\n",
       "    </tr>\n",
       "    <tr>\n",
       "      <th>0</th>\n",
       "      <td>kmeans_ica</td>\n",
       "      <td>0.109</td>\n",
       "      <td>0.418</td>\n",
       "      <td>0.472</td>\n",
       "    </tr>\n",
       "    <tr>\n",
       "      <th>0</th>\n",
       "      <td>em_ica</td>\n",
       "      <td>0.031</td>\n",
       "      <td>0.418</td>\n",
       "      <td>0.472</td>\n",
       "    </tr>\n",
       "    <tr>\n",
       "      <th>0</th>\n",
       "      <td>kmeans_rp</td>\n",
       "      <td>0.109</td>\n",
       "      <td>0.220</td>\n",
       "      <td>0.252</td>\n",
       "    </tr>\n",
       "    <tr>\n",
       "      <th>0</th>\n",
       "      <td>em_rp</td>\n",
       "      <td>0.250</td>\n",
       "      <td>0.207</td>\n",
       "      <td>0.250</td>\n",
       "    </tr>\n",
       "  </tbody>\n",
       "</table>\n",
       "</div>"
      ],
      "text/plain": [
       "         name   time  f1_score  roc_score\n",
       "0      kmeans  0.016     0.195      0.242\n",
       "0          em  0.641     0.195      0.242\n",
       "0  kmeans_pca  0.188     0.195      0.242\n",
       "0      em_pca  0.078     0.195      0.242\n",
       "0  kmeans_ica  0.109     0.418      0.472\n",
       "0      em_ica  0.031     0.418      0.472\n",
       "0   kmeans_rp  0.109     0.220      0.252\n",
       "0       em_rp  0.250     0.207      0.250"
      ]
     },
     "execution_count": 25,
     "metadata": {},
     "output_type": "execute_result"
    }
   ],
   "source": [
    "df_time"
   ]
  },
  {
   "cell_type": "markdown",
   "id": "427e11a5",
   "metadata": {},
   "source": [
    "## Factor Analysis"
   ]
  },
  {
   "cell_type": "code",
   "execution_count": 26,
   "id": "51873cc4",
   "metadata": {},
   "outputs": [
    {
     "data": {
      "image/png": "[encoded data removed]",
      "text/plain": [
       "<Figure size 432x288 with 1 Axes>"
      ]
     },
     "metadata": {
      "needs_background": "light"
     },
     "output_type": "display_data"
    },
    {
     "name": "stdout",
     "output_type": "stream",
     "text": [
      "There 18 factors with a eigenvalue that greater than 1.\n"
     ]
    }
   ],
   "source": [
    "fa = FactorAnalyzer()\n",
    "X_train_t = X_train.drop(columns=['device_fraud_count'])\n",
    "fa.fit(X_train_t.values)\n",
    "\n",
    "# Generate the scree plot\n",
    "ev, v = fa.get_eigenvalues()\n",
    "# plt.plot(range(1, X_train_t.shape[1]+1), ev)\n",
    "plt.plot(range(0, 25), ev[0:25])\n",
    "plt.title('Scree Plot')\n",
    "plt.xlabel('Number of Factors')\n",
    "plt.ylabel('Eigenvalue')\n",
    "plt.grid()\n",
    "plt.show()\n",
    "print('There {} factors with a eigenvalue that greater than 1.'.format(sum(ev>1)))"
   ]
  },
  {
   "cell_type": "code",
   "execution_count": 39,
   "id": "3faffd5f",
   "metadata": {},
   "outputs": [
    {
     "name": "stdout",
     "output_type": "stream",
     "text": [
      "Total time:  0.171875\n"
     ]
    }
   ],
   "source": [
    "X_train_t = X_train.drop(columns=['device_fraud_count'])\n",
    "X_test_t = X_test.drop(columns=['device_fraud_count'])\n",
    "t_start = process_time()\n",
    "fa = FactorAnalyzer(n_factors=18)\n",
    "fa.fit(X_train_t.values)\n",
    "X_t = fa.transform(X_train_t)\n",
    "X_test2 = pd.DataFrame(fa.transform(X_test_t))\n",
    "t_stop = process_time()\n",
    "t = t_stop - t_start\n",
    "print('Total time: ', t)"
   ]
  },
  {
   "cell_type": "markdown",
   "id": "0bf701b7",
   "metadata": {},
   "source": [
    "### kmeans factor analysis"
   ]
  },
  {
   "cell_type": "code",
   "execution_count": 28,
   "id": "9d672d2f",
   "metadata": {},
   "outputs": [
    {
     "data": {
      "image/png": "[encoded data removed]",
      "text/plain": [
       "<Figure size 576x432 with 2 Axes>"
      ]
     },
     "metadata": {
      "needs_background": "light"
     },
     "output_type": "display_data"
    },
    {
     "name": "stdout",
     "output_type": "stream",
     "text": [
      "label       0     1\n",
      "cluster            \n",
      "0         637   815\n",
      "1         295  1073\n",
      "2        1000    43\n",
      "3         346   335\n",
      "4           8    20\n"
     ]
    },
    {
     "data": {
      "image/png": "[encoded data removed]",
      "text/plain": [
       "<Figure size 432x288 with 1 Axes>"
      ]
     },
     "metadata": {
      "needs_background": "light"
     },
     "output_type": "display_data"
    },
    {
     "name": "stdout",
     "output_type": "stream",
     "text": [
      "     acc  cv_score  train_roc  test_roc  recall_score  f1_score  run_time  \\\n",
      "0  0.814     0.824      0.826     0.828         0.814     0.821   0.35938   \n",
      "\n",
      "        name  \n",
      "0  kmeans_fa  \n"
     ]
    }
   ],
   "source": [
    "name = 'kmeans_fa'\n",
    "\n",
    "# pick k\n",
    "plot_kmeans(X_t)\n",
    "\n",
    "# model\n",
    "k = 5\n",
    "t_start = process_time()\n",
    "km = KMeans(n_clusters=k, random_state=0)\n",
    "kmeans_labels = km.fit_predict(X_t)\n",
    "test_labels = km.fit_predict(X_test2)\n",
    "kmeans_labels = transform_list(kmeans_labels)\n",
    "t_stop = process_time()\n",
    "t = t_stop - t_start\n",
    "df_time = df_time.append(gen_op(name,t, y_train, kmeans_labels))\n",
    "# print(t)\n",
    "plot_cluster_label(kmeans_labels, y_train)\n",
    "nn_final=nn_final.append(run_nn(name, X_t, kmeans_labels, y_train, X_test2, test_labels, y_test))"
   ]
  },
  {
   "cell_type": "markdown",
   "id": "3443f442",
   "metadata": {},
   "source": [
    "### em factor analysis"
   ]
  },
  {
   "cell_type": "code",
   "execution_count": 29,
   "id": "bf87f410",
   "metadata": {},
   "outputs": [
    {
     "data": {
      "image/png": "[encoded data removed]",
      "text/plain": [
       "<Figure size 576x432 with 1 Axes>"
      ]
     },
     "metadata": {
      "needs_background": "light"
     },
     "output_type": "display_data"
    }
   ],
   "source": [
    "name = 'em_fa'\n",
    "# pick n\n",
    "plot_em(X_t)"
   ]
  },
  {
   "cell_type": "code",
   "execution_count": 30,
   "id": "6ae3b943",
   "metadata": {},
   "outputs": [
    {
     "name": "stdout",
     "output_type": "stream",
     "text": [
      "label       0     1\n",
      "cluster            \n",
      "0        1961  1849\n",
      "1         325   437\n"
     ]
    },
    {
     "data": {
      "image/png": "[encoded data removed]",
      "text/plain": [
       "<Figure size 432x288 with 1 Axes>"
      ]
     },
     "metadata": {
      "needs_background": "light"
     },
     "output_type": "display_data"
    },
    {
     "name": "stdout",
     "output_type": "stream",
     "text": [
      "     acc  cv_score  train_roc  test_roc  recall_score  f1_score  run_time  \\\n",
      "0  0.758     0.823      0.826       0.8         0.758      0.77     0.375   \n",
      "\n",
      "    name  \n",
      "0  em_fa  \n"
     ]
    }
   ],
   "source": [
    "# model\n",
    "t_start = process_time()\n",
    "\n",
    "n = 2\n",
    "em_labels = GaussianMixture(n_components=n).fit_predict(X_t)\n",
    "em_labels = transform_list(em_labels)\n",
    "t_stop = process_time()\n",
    "t = t_stop - t_start\n",
    "df_time = df_time.append(gen_op(name,t, y_train, em_labels))\n",
    "# print(t)\n",
    "plot_cluster_label(em_labels, y_train)\n",
    "\n",
    "nn_final=nn_final.append(run_nn(name, X_t, em_labels, y_train, X_test2, test_labels, y_test))"
   ]
  },
  {
   "cell_type": "code",
   "execution_count": 32,
   "id": "0c821fcc",
   "metadata": {},
   "outputs": [
    {
     "data": {
      "text/html": [
       "<div>\n",
       "<style scoped>\n",
       "    .dataframe tbody tr th:only-of-type {\n",
       "        vertical-align: middle;\n",
       "    }\n",
       "\n",
       "    .dataframe tbody tr th {\n",
       "        vertical-align: top;\n",
       "    }\n",
       "\n",
       "    .dataframe thead th {\n",
       "        text-align: right;\n",
       "    }\n",
       "</style>\n",
       "<table border=\"1\" class=\"dataframe\">\n",
       "  <thead>\n",
       "    <tr style=\"text-align: right;\">\n",
       "      <th></th>\n",
       "      <th>acc</th>\n",
       "      <th>cv_score</th>\n",
       "      <th>train_roc</th>\n",
       "      <th>test_roc</th>\n",
       "      <th>recall_score</th>\n",
       "      <th>f1_score</th>\n",
       "      <th>run_time</th>\n",
       "      <th>name</th>\n",
       "    </tr>\n",
       "  </thead>\n",
       "  <tbody>\n",
       "    <tr>\n",
       "      <th>0</th>\n",
       "      <td>0.647</td>\n",
       "      <td>0.673</td>\n",
       "      <td>0.694</td>\n",
       "      <td>0.695</td>\n",
       "      <td>0.647</td>\n",
       "      <td>0.663</td>\n",
       "      <td>0.0625</td>\n",
       "      <td>nn_backpropagation</td>\n",
       "    </tr>\n",
       "  </tbody>\n",
       "</table>\n",
       "</div>"
      ],
      "text/plain": [
       "     acc  cv_score  train_roc  test_roc  recall_score  f1_score  run_time  \\\n",
       "0  0.647     0.673      0.694     0.695         0.647     0.663    0.0625   \n",
       "\n",
       "                 name  \n",
       "0  nn_backpropagation  "
      ]
     },
     "execution_count": 32,
     "metadata": {},
     "output_type": "execute_result"
    }
   ],
   "source": [
    "'back propagation'\n",
    "# train valid test split\n",
    "X_train, y_train, X_valid, y_valid, X_test, y_test = train_valid_test_split(df)\n",
    "# feature engineering\n",
    "X_train, X_valid, X_test = ohe(X_train, X_valid, X_test)\n",
    "# oversampling\n",
    "X_train, y_train = oversampling(X_train, y_train)\n",
    "# model\n",
    "mlp =  MLPClassifier(random_state = 0, \n",
    "                     hidden_layer_sizes=(3,), \n",
    "                     activation='identity')\n",
    "mlp.fit(X_train, y_train)\n",
    "nn_test_perf = model(mlp, X_train, y_train, X_test, y_test)\n",
    "nn_test_perf['name'] = 'nn_backpropagation'\n",
    "nn_test_perf"
   ]
  },
  {
   "cell_type": "code",
   "execution_count": 33,
   "id": "54cdae4e",
   "metadata": {},
   "outputs": [],
   "source": [
    "nn_final=nn_final.append(nn_test_perf)"
   ]
  },
  {
   "cell_type": "code",
   "execution_count": 40,
   "id": "b1c76737",
   "metadata": {},
   "outputs": [
    {
     "data": {
      "text/html": [
       "<div>\n",
       "<style scoped>\n",
       "    .dataframe tbody tr th:only-of-type {\n",
       "        vertical-align: middle;\n",
       "    }\n",
       "\n",
       "    .dataframe tbody tr th {\n",
       "        vertical-align: top;\n",
       "    }\n",
       "\n",
       "    .dataframe thead th {\n",
       "        text-align: right;\n",
       "    }\n",
       "</style>\n",
       "<table border=\"1\" class=\"dataframe\">\n",
       "  <thead>\n",
       "    <tr style=\"text-align: right;\">\n",
       "      <th></th>\n",
       "      <th>name</th>\n",
       "      <th>time</th>\n",
       "      <th>f1_score</th>\n",
       "      <th>roc_score</th>\n",
       "    </tr>\n",
       "  </thead>\n",
       "  <tbody>\n",
       "    <tr>\n",
       "      <th>0</th>\n",
       "      <td>kmeans_rp</td>\n",
       "      <td>0.109</td>\n",
       "      <td>0.220</td>\n",
       "      <td>0.252</td>\n",
       "    </tr>\n",
       "    <tr>\n",
       "      <th>0</th>\n",
       "      <td>kmeans_pca</td>\n",
       "      <td>0.188</td>\n",
       "      <td>0.195</td>\n",
       "      <td>0.242</td>\n",
       "    </tr>\n",
       "    <tr>\n",
       "      <th>0</th>\n",
       "      <td>kmeans_ica</td>\n",
       "      <td>0.109</td>\n",
       "      <td>0.418</td>\n",
       "      <td>0.472</td>\n",
       "    </tr>\n",
       "    <tr>\n",
       "      <th>0</th>\n",
       "      <td>kmeans_fa</td>\n",
       "      <td>0.109</td>\n",
       "      <td>0.464</td>\n",
       "      <td>0.366</td>\n",
       "    </tr>\n",
       "    <tr>\n",
       "      <th>0</th>\n",
       "      <td>kmeans</td>\n",
       "      <td>0.016</td>\n",
       "      <td>0.195</td>\n",
       "      <td>0.242</td>\n",
       "    </tr>\n",
       "    <tr>\n",
       "      <th>0</th>\n",
       "      <td>em_rp</td>\n",
       "      <td>0.250</td>\n",
       "      <td>0.207</td>\n",
       "      <td>0.250</td>\n",
       "    </tr>\n",
       "    <tr>\n",
       "      <th>0</th>\n",
       "      <td>em_pca</td>\n",
       "      <td>0.078</td>\n",
       "      <td>0.195</td>\n",
       "      <td>0.242</td>\n",
       "    </tr>\n",
       "    <tr>\n",
       "      <th>0</th>\n",
       "      <td>em_ica</td>\n",
       "      <td>0.031</td>\n",
       "      <td>0.418</td>\n",
       "      <td>0.472</td>\n",
       "    </tr>\n",
       "    <tr>\n",
       "      <th>0</th>\n",
       "      <td>em_fa</td>\n",
       "      <td>0.375</td>\n",
       "      <td>0.465</td>\n",
       "      <td>0.524</td>\n",
       "    </tr>\n",
       "    <tr>\n",
       "      <th>0</th>\n",
       "      <td>em</td>\n",
       "      <td>0.641</td>\n",
       "      <td>0.195</td>\n",
       "      <td>0.242</td>\n",
       "    </tr>\n",
       "  </tbody>\n",
       "</table>\n",
       "</div>"
      ],
      "text/plain": [
       "         name   time  f1_score  roc_score\n",
       "0   kmeans_rp  0.109     0.220      0.252\n",
       "0  kmeans_pca  0.188     0.195      0.242\n",
       "0  kmeans_ica  0.109     0.418      0.472\n",
       "0   kmeans_fa  0.109     0.464      0.366\n",
       "0      kmeans  0.016     0.195      0.242\n",
       "0       em_rp  0.250     0.207      0.250\n",
       "0      em_pca  0.078     0.195      0.242\n",
       "0      em_ica  0.031     0.418      0.472\n",
       "0       em_fa  0.375     0.465      0.524\n",
       "0          em  0.641     0.195      0.242"
      ]
     },
     "execution_count": 40,
     "metadata": {},
     "output_type": "execute_result"
    }
   ],
   "source": [
    "df_time.sort_values('name', ascending=False)"
   ]
  },
  {
   "cell_type": "code",
   "execution_count": 41,
   "id": "cb5e5362",
   "metadata": {},
   "outputs": [
    {
     "data": {
      "text/html": [
       "<div>\n",
       "<style scoped>\n",
       "    .dataframe tbody tr th:only-of-type {\n",
       "        vertical-align: middle;\n",
       "    }\n",
       "\n",
       "    .dataframe tbody tr th {\n",
       "        vertical-align: top;\n",
       "    }\n",
       "\n",
       "    .dataframe thead th {\n",
       "        text-align: right;\n",
       "    }\n",
       "</style>\n",
       "<table border=\"1\" class=\"dataframe\">\n",
       "  <thead>\n",
       "    <tr style=\"text-align: right;\">\n",
       "      <th></th>\n",
       "      <th>acc</th>\n",
       "      <th>cv_score</th>\n",
       "      <th>train_roc</th>\n",
       "      <th>test_roc</th>\n",
       "      <th>recall_score</th>\n",
       "      <th>f1_score</th>\n",
       "      <th>run_time</th>\n",
       "      <th>name</th>\n",
       "    </tr>\n",
       "  </thead>\n",
       "  <tbody>\n",
       "    <tr>\n",
       "      <th>0</th>\n",
       "      <td>0.814</td>\n",
       "      <td>0.824</td>\n",
       "      <td>0.826</td>\n",
       "      <td>0.828</td>\n",
       "      <td>0.814</td>\n",
       "      <td>0.821</td>\n",
       "      <td>0.35938</td>\n",
       "      <td>kmeans_fa</td>\n",
       "    </tr>\n",
       "    <tr>\n",
       "      <th>0</th>\n",
       "      <td>0.821</td>\n",
       "      <td>0.824</td>\n",
       "      <td>0.824</td>\n",
       "      <td>0.771</td>\n",
       "      <td>0.821</td>\n",
       "      <td>0.819</td>\n",
       "      <td>0.17188</td>\n",
       "      <td>kmeans_pca</td>\n",
       "    </tr>\n",
       "    <tr>\n",
       "      <th>0</th>\n",
       "      <td>0.821</td>\n",
       "      <td>0.824</td>\n",
       "      <td>0.824</td>\n",
       "      <td>0.771</td>\n",
       "      <td>0.821</td>\n",
       "      <td>0.819</td>\n",
       "      <td>0.18750</td>\n",
       "      <td>em_pca</td>\n",
       "    </tr>\n",
       "    <tr>\n",
       "      <th>0</th>\n",
       "      <td>0.816</td>\n",
       "      <td>0.817</td>\n",
       "      <td>0.820</td>\n",
       "      <td>0.746</td>\n",
       "      <td>0.816</td>\n",
       "      <td>0.810</td>\n",
       "      <td>0.73438</td>\n",
       "      <td>kmeans_ica</td>\n",
       "    </tr>\n",
       "    <tr>\n",
       "      <th>0</th>\n",
       "      <td>0.816</td>\n",
       "      <td>0.817</td>\n",
       "      <td>0.820</td>\n",
       "      <td>0.746</td>\n",
       "      <td>0.816</td>\n",
       "      <td>0.810</td>\n",
       "      <td>0.76562</td>\n",
       "      <td>em_ica</td>\n",
       "    </tr>\n",
       "    <tr>\n",
       "      <th>0</th>\n",
       "      <td>0.758</td>\n",
       "      <td>0.823</td>\n",
       "      <td>0.826</td>\n",
       "      <td>0.800</td>\n",
       "      <td>0.758</td>\n",
       "      <td>0.770</td>\n",
       "      <td>0.37500</td>\n",
       "      <td>em_fa</td>\n",
       "    </tr>\n",
       "    <tr>\n",
       "      <th>0</th>\n",
       "      <td>0.748</td>\n",
       "      <td>0.760</td>\n",
       "      <td>0.766</td>\n",
       "      <td>0.702</td>\n",
       "      <td>0.748</td>\n",
       "      <td>0.750</td>\n",
       "      <td>0.29688</td>\n",
       "      <td>kmeans_rp</td>\n",
       "    </tr>\n",
       "    <tr>\n",
       "      <th>0</th>\n",
       "      <td>0.647</td>\n",
       "      <td>0.673</td>\n",
       "      <td>0.694</td>\n",
       "      <td>0.695</td>\n",
       "      <td>0.647</td>\n",
       "      <td>0.663</td>\n",
       "      <td>0.06250</td>\n",
       "      <td>nn_backpropagation</td>\n",
       "    </tr>\n",
       "    <tr>\n",
       "      <th>0</th>\n",
       "      <td>0.712</td>\n",
       "      <td>0.760</td>\n",
       "      <td>0.764</td>\n",
       "      <td>0.511</td>\n",
       "      <td>0.712</td>\n",
       "      <td>0.614</td>\n",
       "      <td>0.54688</td>\n",
       "      <td>em_rp</td>\n",
       "    </tr>\n",
       "  </tbody>\n",
       "</table>\n",
       "</div>"
      ],
      "text/plain": [
       "     acc  cv_score  train_roc  test_roc  recall_score  f1_score  run_time  \\\n",
       "0  0.814     0.824      0.826     0.828         0.814     0.821   0.35938   \n",
       "0  0.821     0.824      0.824     0.771         0.821     0.819   0.17188   \n",
       "0  0.821     0.824      0.824     0.771         0.821     0.819   0.18750   \n",
       "0  0.816     0.817      0.820     0.746         0.816     0.810   0.73438   \n",
       "0  0.816     0.817      0.820     0.746         0.816     0.810   0.76562   \n",
       "0  0.758     0.823      0.826     0.800         0.758     0.770   0.37500   \n",
       "0  0.748     0.760      0.766     0.702         0.748     0.750   0.29688   \n",
       "0  0.647     0.673      0.694     0.695         0.647     0.663   0.06250   \n",
       "0  0.712     0.760      0.764     0.511         0.712     0.614   0.54688   \n",
       "\n",
       "                 name  \n",
       "0           kmeans_fa  \n",
       "0          kmeans_pca  \n",
       "0              em_pca  \n",
       "0          kmeans_ica  \n",
       "0              em_ica  \n",
       "0               em_fa  \n",
       "0           kmeans_rp  \n",
       "0  nn_backpropagation  \n",
       "0               em_rp  "
      ]
     },
     "execution_count": 41,
     "metadata": {},
     "output_type": "execute_result"
    }
   ],
   "source": [
    "nn_final.sort_values('f1_score', ascending=False)"
   ]
  },
  {
   "cell_type": "code",
   "execution_count": 36,
   "id": "392a2661",
   "metadata": {},
   "outputs": [],
   "source": [
    "#check kur score and rerun"
   ]
  },
  {
   "cell_type": "code",
   "execution_count": null,
   "id": "d20cccc5",
   "metadata": {},
   "outputs": [],
   "source": []
  },
  {
   "cell_type": "code",
   "execution_count": null,
   "id": "c864492c",
   "metadata": {},
   "outputs": [],
   "source": []
  },
  {
   "cell_type": "code",
   "execution_count": null,
   "id": "12abfc6c",
   "metadata": {},
   "outputs": [],
   "source": []
  },
  {
   "cell_type": "code",
   "execution_count": null,
   "id": "18ad7263",
   "metadata": {},
   "outputs": [],
   "source": []
  },
  {
   "cell_type": "code",
   "execution_count": null,
   "id": "e7013641",
   "metadata": {},
   "outputs": [],
   "source": []
  },
  {
   "cell_type": "code",
   "execution_count": null,
   "id": "703ffe39",
   "metadata": {},
   "outputs": [],
   "source": []
  },
  {
   "cell_type": "code",
   "execution_count": null,
   "id": "12fe1e5a",
   "metadata": {},
   "outputs": [],
   "source": []
  }
 ],
 "metadata": {
  "kernelspec": {
   "display_name": "Python 3 (ipykernel)",
   "language": "python",
   "name": "python3"
  },
  "language_info": {
   "codemirror_mode": {
    "name": "ipython",
    "version": 3
   },
   "file_extension": ".py",
   "mimetype": "text/x-python",
   "name": "python",
   "nbconvert_exporter": "python",
   "pygments_lexer": "ipython3",
   "version": "3.9.7"
  }
 },
 "nbformat": 4,
 "nbformat_minor": 5
}
