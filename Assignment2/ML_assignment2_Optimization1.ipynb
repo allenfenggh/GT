{
 "cells": [
  {
   "cell_type": "markdown",
   "id": "056e7628",
   "metadata": {},
   "source": [
    "# Three optimization problems with four optimization algorithms"
   ]
  },
  {
   "cell_type": "code",
   "execution_count": 1,
   "id": "9b500fd7",
   "metadata": {},
   "outputs": [],
   "source": [
    "import mlrose_hiive as mh\n",
    "\n",
    "import matplotlib.pyplot as plt\n",
    "import seaborn\n",
    "\n",
    "import pandas as pd\n",
    "import numpy as np\n",
    "from statistics import mean\n",
    "from time import process_time\n",
    "import itertools "
   ]
  },
  {
   "cell_type": "code",
   "execution_count": 21,
   "id": "8abe8bf9",
   "metadata": {},
   "outputs": [],
   "source": [
    "%run ./ML_assignment2_OptimizationFunctions.ipynb"
   ]
  },
  {
   "cell_type": "code",
   "execution_count": 3,
   "id": "c03eb292",
   "metadata": {},
   "outputs": [],
   "source": [
    "# def rhc(prob, max_attempts, max_iters):\n",
    "#     algo = 'rhc'\n",
    "#     stime = process_time()\n",
    "#     best_state_rhc, best_fitness_rhc, fitness_curve_rhc = mh.random_hill_climb(prob, \n",
    "#                            max_attempts=max_attempts, \n",
    "#                            max_iters=max_iters, \n",
    "#                            curve=True,\n",
    "#                            restarts = 100,\n",
    "#                            random_state=0)\n",
    "#     etime = process_time()\n",
    "#     t = etime - stime\n",
    "#     result = pd.DataFrame({\n",
    "#         'algo':[algo],\n",
    "#         'best fitness':[best_fitness_rhc],\n",
    "#         'iterations':[len(fitness_curve_rhc)],\n",
    "#         'time':[t]\n",
    "#     })\n",
    "#     return result, fitness_curve_rhc"
   ]
  },
  {
   "cell_type": "code",
   "execution_count": 4,
   "id": "27865507",
   "metadata": {},
   "outputs": [],
   "source": [
    "# def sa(prob, max_attempts, max_iters, schedule):\n",
    "#     algo = 'sa'\n",
    "#     stime = process_time()\n",
    "#     best_state_sa, best_fitness_sa, fitness_curve_sa = mh.simulated_annealing(prob, \n",
    "#                            max_attempts=max_attempts, \n",
    "#                            max_iters=max_iters, \n",
    "#                            curve=True,\n",
    "#                            schedule = schedule,\n",
    "#                            random_state=0)\n",
    "#     etime = process_time()\n",
    "#     t = etime - stime\n",
    "#     result = pd.DataFrame({\n",
    "#         'algo':[algo],\n",
    "#         'best fitness':[best_fitness_sa],\n",
    "#         'iterations':[len(fitness_curve_sa)],\n",
    "#         'time':[t]\n",
    "#     })\n",
    "#     return result, fitness_curve_sa"
   ]
  },
  {
   "cell_type": "code",
   "execution_count": 5,
   "id": "36e92166",
   "metadata": {},
   "outputs": [],
   "source": [
    "# def ga(prob, max_attempts, max_iters, mutation_prob):\n",
    "#     algo = 'ga'\n",
    "#     stime = process_time()\n",
    "#     best_state_ga, best_fitness_ga, fitness_curve_ga = mh.genetic_alg(prob, \n",
    "#                            max_attempts=max_attempts, \n",
    "#                            max_iters=max_iters, \n",
    "#                            curve=True,                                                  \n",
    "#                            mutation_prob=mutation_prob,\n",
    "#                            random_state=0)\n",
    "#     etime = process_time()\n",
    "#     t = etime - stime\n",
    "#     result = pd.DataFrame({\n",
    "#         'algo':[algo],\n",
    "#         'best fitness':[best_fitness_ga],\n",
    "#         'iterations':[len(fitness_curve_ga)],\n",
    "#         'time':[t]\n",
    "#     })\n",
    "#     return result, fitness_curve_ga"
   ]
  },
  {
   "cell_type": "code",
   "execution_count": 6,
   "id": "f0c816e9",
   "metadata": {},
   "outputs": [],
   "source": [
    "# def mimic(prob, max_attempts, max_iters, keep_pct):\n",
    "#     algo = 'mimc'\n",
    "#     stime = process_time()\n",
    "#     best_state_mimic, best_fitness_mimic, fitness_curve_mimic = mh.mimic(prob, \n",
    "#                            max_attempts=max_attempts, \n",
    "#                            max_iters=max_iters, \n",
    "#                            curve=True,                                                  \n",
    "#                            keep_pct = keep_pct,\n",
    "#                            random_state=0)\n",
    "#     etime = process_time()\n",
    "#     t = etime - stime\n",
    "#     result = pd.DataFrame({\n",
    "#         'algo':[algo],\n",
    "#         'best fitness':[best_fitness_mimic],\n",
    "#         'iterations':[len(fitness_curve_mimic)],\n",
    "#         'time':[t]\n",
    "#     })\n",
    "#     return result, fitness_curve_mimic"
   ]
  },
  {
   "cell_type": "markdown",
   "id": "fd75d88b",
   "metadata": {},
   "source": [
    "# Four peaks problem"
   ]
  },
  {
   "cell_type": "code",
   "execution_count": 23,
   "id": "bf767372",
   "metadata": {},
   "outputs": [],
   "source": [
    "# four peaks problem\n",
    "fitness_fn = mh.FourPeaks()\n",
    "prob = mh.DiscreteOpt(length = 100, fitness_fn=fitness_fn, maximize=True)\n",
    "prob2 = mh.DiscreteOpt(length = 300, fitness_fn=fitness_fn, maximize=True)"
   ]
  },
  {
   "cell_type": "code",
   "execution_count": 24,
   "id": "072df37a",
   "metadata": {},
   "outputs": [
    {
     "name": "stdout",
     "output_type": "stream",
     "text": [
      "  algo  best fitness  iterations  time\n",
      "0  rhc          12.0          10   0.0\n",
      "  algo  best fitness  iterations  time\n",
      "0  rhc           7.0          10   0.0\n"
     ]
    },
    {
     "data": {
      "text/plain": [
       "[<matplotlib.lines.Line2D at 0x1d1baadec40>]"
      ]
     },
     "execution_count": 24,
     "metadata": {},
     "output_type": "execute_result"
    },
    {
     "data": {
      "image/png": "[encoded data removed]",
      "text/plain": [
       "<Figure size 432x288 with 1 Axes>"
      ]
     },
     "metadata": {
      "needs_background": "light"
     },
     "output_type": "display_data"
    }
   ],
   "source": [
    "# four peaks rhc\n",
    "max_attempts = 10\n",
    "max_iters = 10\n",
    "result_rhc, curve_rhc = rhc(prob, max_attempts, max_iters)\n",
    "print(result_rhc)\n",
    "plt.plot(range(1, len(curve_rhc[:,0])+1), curve_rhc[:,0], label='rhc', color='green')\n",
    "\n",
    "# increase samples\n",
    "max_attempts = 10\n",
    "max_iters = 100\n",
    "result_rhc2, curve_rhc2 = rhc(prob2, max_attempts, max_iters)\n",
    "print(result_rhc2)\n",
    "plt.plot(range(1, len(curve_rhc2[:,0])+1), curve_rhc2[:,0], label='rhc', color='black')"
   ]
  },
  {
   "cell_type": "code",
   "execution_count": 25,
   "id": "445ca31d",
   "metadata": {},
   "outputs": [],
   "source": [
    "# four peaks sa\n",
    "max_attempts = 10\n",
    "max_iters = 10\n",
    "schedule = mh.ExpDecay()\n",
    "result_sa, curve_sa = sa(prob, max_attempts, max_iters, schedule)\n",
    "# print(result_sa)\n",
    "# plt.plot(curve_sa[:,0], curve_sa[:,1], label='sa', color='red')\n",
    "\n",
    "max_attempts = 10\n",
    "max_iters = 100\n",
    "schedule = mh.ExpDecay()\n",
    "result_sa2, curve_sa2 = sa(prob2, max_attempts, max_iters, schedule)"
   ]
  },
  {
   "cell_type": "code",
   "execution_count": 26,
   "id": "9e22691e",
   "metadata": {},
   "outputs": [
    {
     "name": "stdout",
     "output_type": "stream",
     "text": [
      "  algo  best fitness  iterations   time\n",
      "0   ga          16.0          10  0.016\n"
     ]
    }
   ],
   "source": [
    "# four peaks ga\n",
    "max_attempts = 10\n",
    "max_iters = 10\n",
    "mutation_prob = 0.2\n",
    "schedule = mh.ExpDecay()\n",
    "result_ga, curve_ga = ga(prob, max_attempts, max_iters, mutation_prob)\n",
    "print(result_ga)\n",
    "# plt.plot(curve_ga[:,0], curve_ga[:,1], label='ga', color='orange')\n",
    "\n",
    "max_attempts = 10\n",
    "max_iters = 100\n",
    "mutation_prob = 0.2\n",
    "schedule = mh.ExpDecay()\n",
    "result_ga2, curve_ga2 = ga(prob2, max_attempts, max_iters, mutation_prob)"
   ]
  },
  {
   "cell_type": "code",
   "execution_count": 11,
   "id": "3d05322f",
   "metadata": {},
   "outputs": [
    {
     "name": "stdout",
     "output_type": "stream",
     "text": [
      "   algo  best fitness  iterations     time\n",
      "0  mimc          25.0          10  20.8125\n"
     ]
    },
    {
     "data": {
      "text/plain": [
       "[<matplotlib.lines.Line2D at 0x1d1bac00310>]"
      ]
     },
     "execution_count": 11,
     "metadata": {},
     "output_type": "execute_result"
    },
    {
     "data": {
      "image/png": "[encoded data removed]",
      "text/plain": [
       "<Figure size 432x288 with 1 Axes>"
      ]
     },
     "metadata": {
      "needs_background": "light"
     },
     "output_type": "display_data"
    }
   ],
   "source": [
    "# four peaks mimc\n",
    "max_attempts = 10\n",
    "max_iters = 10\n",
    "keep_pct = 0.2\n",
    "schedule = mh.ExpDecay()\n",
    "result_mimic, curve_mimic = mimic(prob, max_attempts, max_iters, keep_pct)\n",
    "print(result_mimic)\n",
    "plt.plot(curve_mimic[:,0], curve_mimic[:,1], label='mimic', color='orange')"
   ]
  },
  {
   "cell_type": "code",
   "execution_count": 12,
   "id": "b91d4371",
   "metadata": {},
   "outputs": [],
   "source": [
    "max_attempts = 10\n",
    "max_iters = 100\n",
    "keep_pct = 0.2\n",
    "schedule = mh.ExpDecay()\n",
    "result_mimic2, curve_mimic2 = mimic(prob2, max_attempts, max_iters, keep_pct)"
   ]
  },
  {
   "cell_type": "code",
   "execution_count": 27,
   "id": "a4b7ae41",
   "metadata": {},
   "outputs": [
    {
     "name": "stdout",
     "output_type": "stream",
     "text": [
      "   index  algo  best fitness  iterations     time\n",
      "0      0   rhc          12.0          10   0.0000\n",
      "1      0    sa           2.0          10   0.0000\n",
      "2      0    ga          16.0          10   0.0160\n",
      "3      0  mimc          25.0          10  20.8125\n",
      "   index  algo  best fitness  iterations        time\n",
      "0      0   rhc           7.0          10    0.000000\n",
      "1      0    sa           1.0         100    0.000000\n",
      "2      0    ga          35.0          60    0.328000\n",
      "3      0  mimc          33.0          39  686.484375\n"
     ]
    }
   ],
   "source": [
    "fps = pd.DataFrame()\n",
    "fps=fps.append([result_rhc, result_sa, result_ga, result_mimic]).reset_index()\n",
    "fps2 = pd.DataFrame()\n",
    "fps2=fps2.append([result_rhc2, result_sa2, result_ga2, result_mimic2]).reset_index()\n",
    "print(fps)\n",
    "print(fps2)"
   ]
  },
  {
   "cell_type": "code",
   "execution_count": 14,
   "id": "70d8e853",
   "metadata": {},
   "outputs": [],
   "source": [
    "# iterations = range(1, 101)\n",
    "# plt.plot(iterations, curve_rhc[:,0],  label='rhc', color='green')\n",
    "# plt.plot(iterations, curve_sa[:,0],  label='sa', color='red')\n",
    "# plt.plot(iterations, curve_ga[:,0], label='ga', color='orange')\n",
    "# plt.plot(iterations, curve_mimic[:,0], label='mimic', color='blue')\n",
    "# plt.xlabel(\"Iterations\")\n",
    "# plt.ylabel(\"Fitness\")\n",
    "# plt.title('problem 1 set 1')"
   ]
  },
  {
   "cell_type": "code",
   "execution_count": 15,
   "id": "514ee4b3",
   "metadata": {},
   "outputs": [],
   "source": [
    "# iterations = range(1, 1001)\n",
    "# plt.plot(iterations, curve_rhc2[:,0],  label='rhc', color='green')\n",
    "# plt.plot(iterations, curve_sa2[:,0],  label='sa', color='red')\n",
    "# plt.plot(iterations, curve_ga2[:,0], label='ga', color='orange')\n",
    "# plt.plot(iterations, curve_mimic2[:,0], label='mimic', color='blue')\n",
    "# plt.xlabel(\"Iterations\")\n",
    "# plt.ylabel(\"Fitness\")\n",
    "# plt.title('problem 1 set 2')"
   ]
  },
  {
   "cell_type": "code",
   "execution_count": 28,
   "id": "baed3c5a",
   "metadata": {
    "scrolled": false
   },
   "outputs": [
    {
     "data": {
      "image/png": "[encoded data removed]",
      "text/plain": [
       "<Figure size 432x288 with 1 Axes>"
      ]
     },
     "metadata": {
      "needs_background": "light"
     },
     "output_type": "display_data"
    },
    {
     "data": {
      "image/png": "[encoded data removed]",
      "text/plain": [
       "<Figure size 432x288 with 1 Axes>"
      ]
     },
     "metadata": {
      "needs_background": "light"
     },
     "output_type": "display_data"
    },
    {
     "data": {
      "image/png": "[encoded data removed]",
      "text/plain": [
       "<Figure size 432x288 with 1 Axes>"
      ]
     },
     "metadata": {
      "needs_background": "light"
     },
     "output_type": "display_data"
    },
    {
     "data": {
      "image/png": "[encoded data removed]",
      "text/plain": [
       "<Figure size 432x288 with 1 Axes>"
      ]
     },
     "metadata": {
      "needs_background": "light"
     },
     "output_type": "display_data"
    },
    {
     "data": {
      "image/png": "[encoded data removed]",
      "text/plain": [
       "<Figure size 432x288 with 1 Axes>"
      ]
     },
     "metadata": {
      "needs_background": "light"
     },
     "output_type": "display_data"
    },
    {
     "data": {
      "image/png": "[encoded data removed]",
      "text/plain": [
       "<Figure size 432x288 with 1 Axes>"
      ]
     },
     "metadata": {
      "needs_background": "light"
     },
     "output_type": "display_data"
    }
   ],
   "source": [
    "curves = [curve_rhc, curve_sa, curve_ga, curve_mimic,\n",
    "          curve_rhc2, curve_sa2, curve_ga2, curve_mimic2]\n",
    "graph(fps, fps2, curves)"
   ]
  },
  {
   "cell_type": "code",
   "execution_count": null,
   "id": "e69d8849",
   "metadata": {},
   "outputs": [],
   "source": []
  },
  {
   "cell_type": "code",
   "execution_count": null,
   "id": "bd25096e",
   "metadata": {},
   "outputs": [],
   "source": []
  },
  {
   "cell_type": "code",
   "execution_count": null,
   "id": "75f7dbaa",
   "metadata": {},
   "outputs": [],
   "source": []
  },
  {
   "cell_type": "code",
   "execution_count": null,
   "id": "0d90e9c1",
   "metadata": {},
   "outputs": [],
   "source": []
  }
 ],
 "metadata": {
  "kernelspec": {
   "display_name": "Python 3 (ipykernel)",
   "language": "python",
   "name": "python3"
  },
  "language_info": {
   "codemirror_mode": {
    "name": "ipython",
    "version": 3
   },
   "file_extension": ".py",
   "mimetype": "text/x-python",
   "name": "python",
   "nbconvert_exporter": "python",
   "pygments_lexer": "ipython3",
   "version": "3.9.7"
  }
 },
 "nbformat": 4,
 "nbformat_minor": 5
}
