{
 "cells": [
  {
   "cell_type": "markdown",
   "id": "5b5ce025",
   "metadata": {},
   "source": [
    "# ML Assignment 2\n",
    "\n",
    "Data set 1 - Bank Account Fraud Dataset \\\n",
    "https://www.kaggle.com/datasets/sgpjesus/bank-account-fraud-dataset-neurips-2022 \\"
   ]
  },
  {
   "cell_type": "code",
   "execution_count": 5,
   "id": "07ea6d6b",
   "metadata": {},
   "outputs": [],
   "source": [
    "# !pip install mlrose\n",
    "import six\n",
    "import sys\n",
    "sys.modules['sklearn.externals.six'] = six\n",
    "import mlrose\n",
    "from sklearn.neural_network import MLPClassifier\n",
    "\n",
    "import pandas as pd\n",
    "import numpy as np\n",
    "import sklearn\n",
    "from sklearn import tree\n",
    "from datetime import datetime\n",
    "import seaborn\n",
    "import matplotlib.pyplot as plt\n",
    "import warnings\n",
    "warnings.filterwarnings(\"ignore\")\n",
    "\n",
    "from statistics import mean\n",
    "from sklearn.impute import KNNImputer\n",
    "from sklearn.model_selection import cross_val_score\n",
    "from sklearn.model_selection import GridSearchCV\n",
    "from time import process_time\n",
    "import itertools "
   ]
  },
  {
   "cell_type": "code",
   "execution_count": 6,
   "id": "f4c59111",
   "metadata": {},
   "outputs": [],
   "source": [
    "#load data\n",
    "nrows = 5000\n",
    "df = pd.read_csv('Base.csv', nrows = nrows)"
   ]
  },
  {
   "cell_type": "markdown",
   "id": "a252e460",
   "metadata": {},
   "source": [
    "# Functions"
   ]
  },
  {
   "cell_type": "code",
   "execution_count": 7,
   "id": "e7a606ce",
   "metadata": {},
   "outputs": [],
   "source": [
    "def train_valid_test_split(df, target = 'fraud_bool'):\n",
    "    # split df to train set and test set\n",
    "    from sklearn.model_selection import train_test_split\n",
    "    X = df.drop(target, axis=1)\n",
    "    y = df[target]\n",
    "    X_train, X_test, y_train, y_test = train_test_split(X, y, stratify = y, \n",
    "                                                        train_size = 0.8, random_state=0)\n",
    "    \n",
    "    \n",
    "    # split train set to train set and validation set\n",
    "    X_train, X_valid, y_train, y_valid = train_test_split(X_train, y_train, stratify = y_train, \n",
    "                                                    train_size = 0.8, random_state=0)\n",
    "    \n",
    "    return X_train, y_train, X_valid, y_valid, X_test, y_test"
   ]
  },
  {
   "cell_type": "code",
   "execution_count": 8,
   "id": "1c2f3066",
   "metadata": {},
   "outputs": [],
   "source": [
    "# knn impute numeric columns and one hot encode category columns\n",
    "def ohe(X_train, X_valid, X_test):\n",
    "    # impute numeric columns\n",
    "    numcols = X_train.select_dtypes(include=['float','int']).columns\n",
    "    imputer = KNNImputer(n_neighbors=3, weights=\"uniform\")\n",
    "    imputer.fit(X_train[numcols])\n",
    "    X_train[numcols] = pd.DataFrame(imputer.transform(X_train[numcols]), columns=numcols)\n",
    "    X_valid[numcols] = pd.DataFrame(imputer.transform(X_train[numcols]), columns=numcols)\n",
    "    X_test[numcols] = pd.DataFrame(imputer.transform(X_train[numcols]), columns=numcols)\n",
    "    \n",
    "    # impute categorical columns\n",
    "    ohe_training_predictors = pd.get_dummies(X_train)\n",
    "    ohe_valid_predictors = pd.get_dummies(X_valid)\n",
    "    ohe_test_predictors = pd.get_dummies(X_test)\n",
    "    X_train, X_valid = ohe_training_predictors.align(\n",
    "        ohe_valid_predictors,join='left', axis=1)\n",
    "\n",
    "    X_train, X_test = ohe_training_predictors.align(\n",
    "        ohe_test_predictors,join='left', axis=1)\n",
    "    \n",
    "    X_train=X_train.fillna(0)\n",
    "    X_valid=X_valid.fillna(0)\n",
    "    X_test=X_test.fillna(0)\n",
    "    \n",
    "    return X_train, X_valid, X_test\n",
    "\n",
    "# X_train, X_valid, X_test = ohe(X_train, X_valid, X_test)"
   ]
  },
  {
   "cell_type": "code",
   "execution_count": 9,
   "id": "4c70955b",
   "metadata": {},
   "outputs": [],
   "source": [
    "def oversampling(X_train, y_train):\n",
    "    # over-sampling: match the minority class to the majority class\n",
    "    from collections import Counter\n",
    "    from imblearn.over_sampling import (RandomOverSampler, SMOTE, ADASYN)\n",
    "    sampler = RandomOverSampler(sampling_strategy='auto',random_state=0)\n",
    "    X_train_rs, y_train_rs = sampler.fit_resample(X_train, y_train)\n",
    "#     print('Before resample {}'.format(Counter(y_train)),' RandomOverSampler {}'.format(Counter(y_train_rs)))\n",
    "    \n",
    "    return X_train_rs, y_train_rs"
   ]
  },
  {
   "cell_type": "code",
   "execution_count": 10,
   "id": "87c9fb84",
   "metadata": {},
   "outputs": [],
   "source": [
    "def model(model, X_train, y_train, X_valid, y_valid):\n",
    "    t_start = process_time()\n",
    "    model = model.fit(X_train, y_train)\n",
    "    # predict\n",
    "    train_pred = model.predict(X_train)\n",
    "    test_pred = model.predict(X_valid)\n",
    "    t_stop = process_time()\n",
    "    t = t_stop - t_start\n",
    "    \n",
    "    # calculate score\n",
    "    from sklearn.metrics import roc_curve,roc_auc_score, auc, f1_score, accuracy_score, recall_score\n",
    "    train_roc = roc_auc_score(y_train,train_pred)\n",
    "    cv_score = cross_val_score(model, X_train, y_train, cv=5)\n",
    "    test_roc = roc_auc_score(y_valid,test_pred)\n",
    "    f1_score = f1_score(y_valid, test_pred, average='weighted')\n",
    "    acc = accuracy_score(y_valid, test_pred)\n",
    "    recall_score = recall_score(y_valid, test_pred, average='weighted')\n",
    "    \n",
    "    perf = pd.DataFrame({'acc':[round(acc,3)],\n",
    "                         'cv_score':[round(mean(cv_score),3)],\n",
    "                         'train_roc':[round(train_roc,3)],                \n",
    "                         'test_roc':[round(test_roc,3)],\n",
    "                         'recall_score':[round(recall_score,3)],\n",
    "                         'f1_score':[round(f1_score,3)],\n",
    "                         'run_time':[round(t,5)]\n",
    "                        })\n",
    "    return perf"
   ]
  },
  {
   "cell_type": "markdown",
   "id": "5848e92b",
   "metadata": {},
   "source": [
    "# Modelling"
   ]
  },
  {
   "cell_type": "code",
   "execution_count": 11,
   "id": "fe74cb5e",
   "metadata": {},
   "outputs": [
    {
     "data": {
      "text/html": [
       "<div>\n",
       "<style scoped>\n",
       "    .dataframe tbody tr th:only-of-type {\n",
       "        vertical-align: middle;\n",
       "    }\n",
       "\n",
       "    .dataframe tbody tr th {\n",
       "        vertical-align: top;\n",
       "    }\n",
       "\n",
       "    .dataframe thead th {\n",
       "        text-align: right;\n",
       "    }\n",
       "</style>\n",
       "<table border=\"1\" class=\"dataframe\">\n",
       "  <thead>\n",
       "    <tr style=\"text-align: right;\">\n",
       "      <th></th>\n",
       "      <th>acc</th>\n",
       "      <th>cv_score</th>\n",
       "      <th>train_roc</th>\n",
       "      <th>test_roc</th>\n",
       "      <th>recall_score</th>\n",
       "      <th>f1_score</th>\n",
       "      <th>run_time</th>\n",
       "      <th>name</th>\n",
       "    </tr>\n",
       "  </thead>\n",
       "  <tbody>\n",
       "    <tr>\n",
       "      <th>0</th>\n",
       "      <td>0.647</td>\n",
       "      <td>0.673</td>\n",
       "      <td>0.694</td>\n",
       "      <td>0.695</td>\n",
       "      <td>0.647</td>\n",
       "      <td>0.663</td>\n",
       "      <td>0.07812</td>\n",
       "      <td>nn_backpropagation</td>\n",
       "    </tr>\n",
       "  </tbody>\n",
       "</table>\n",
       "</div>"
      ],
      "text/plain": [
       "     acc  cv_score  train_roc  test_roc  recall_score  f1_score  run_time  \\\n",
       "0  0.647     0.673      0.694     0.695         0.647     0.663   0.07812   \n",
       "\n",
       "                 name  \n",
       "0  nn_backpropagation  "
      ]
     },
     "execution_count": 11,
     "metadata": {},
     "output_type": "execute_result"
    }
   ],
   "source": [
    "'back propagation'\n",
    "# train valid test split\n",
    "X_train, y_train, X_valid, y_valid, X_test, y_test = train_valid_test_split(df)\n",
    "# feature engineering\n",
    "X_train, X_valid, X_test = ohe(X_train, X_valid, X_test)\n",
    "# oversampling\n",
    "X_train, y_train = oversampling(X_train, y_train)\n",
    "# model\n",
    "mlp =  MLPClassifier(random_state = 0, \n",
    "                     hidden_layer_sizes=(3,), \n",
    "                     activation='identity')\n",
    "mlp.fit(X_train, y_train)\n",
    "nn_test_perf = model(mlp, X_train, y_train, X_test, y_test)\n",
    "nn_test_perf['name'] = 'nn_backpropagation'\n",
    "nn_test_perf"
   ]
  },
  {
   "cell_type": "code",
   "execution_count": 12,
   "id": "fa953385",
   "metadata": {},
   "outputs": [
    {
     "data": {
      "text/html": [
       "<div>\n",
       "<style scoped>\n",
       "    .dataframe tbody tr th:only-of-type {\n",
       "        vertical-align: middle;\n",
       "    }\n",
       "\n",
       "    .dataframe tbody tr th {\n",
       "        vertical-align: top;\n",
       "    }\n",
       "\n",
       "    .dataframe thead th {\n",
       "        text-align: right;\n",
       "    }\n",
       "</style>\n",
       "<table border=\"1\" class=\"dataframe\">\n",
       "  <thead>\n",
       "    <tr style=\"text-align: right;\">\n",
       "      <th></th>\n",
       "      <th>acc</th>\n",
       "      <th>cv_score</th>\n",
       "      <th>train_roc</th>\n",
       "      <th>test_roc</th>\n",
       "      <th>recall_score</th>\n",
       "      <th>f1_score</th>\n",
       "      <th>run_time</th>\n",
       "      <th>name</th>\n",
       "    </tr>\n",
       "  </thead>\n",
       "  <tbody>\n",
       "    <tr>\n",
       "      <th>0</th>\n",
       "      <td>0.581</td>\n",
       "      <td>0.472</td>\n",
       "      <td>0.407</td>\n",
       "      <td>0.407</td>\n",
       "      <td>0.581</td>\n",
       "      <td>0.525</td>\n",
       "      <td>0.15625</td>\n",
       "      <td>nn_rhc</td>\n",
       "    </tr>\n",
       "  </tbody>\n",
       "</table>\n",
       "</div>"
      ],
      "text/plain": [
       "     acc  cv_score  train_roc  test_roc  recall_score  f1_score  run_time  \\\n",
       "0  0.581     0.472      0.407     0.407         0.581     0.525   0.15625   \n",
       "\n",
       "     name  \n",
       "0  nn_rhc  "
      ]
     },
     "execution_count": 12,
     "metadata": {},
     "output_type": "execute_result"
    }
   ],
   "source": [
    "'''random hill climb'''\n",
    "# train valid test split\n",
    "X_train, y_train, X_valid, y_valid, X_test, y_test = train_valid_test_split(df)\n",
    "# feature engineering\n",
    "X_train, X_valid, X_test = ohe(X_train, X_valid, X_test)\n",
    "# oversampling\n",
    "X_train, y_train = oversampling(X_train, y_train)\n",
    "# model\n",
    "\n",
    "mlp = mlrose.NeuralNetwork(random_state = 0, \n",
    "                           hidden_nodes = [3], \n",
    "                           activation = 'identity',\n",
    "                           algorithm = 'random_hill_climb',\n",
    "                           curve = True\n",
    "                          )\n",
    "# mlp = MLPClassifier(random_state=0, hidden_layer_sizes=(100,), activation='relu')\n",
    "mlp.fit(X_train, y_train)\n",
    "nn_rhc = model(mlp, X_train, y_train, X_test, y_test)\n",
    "\n",
    "nn_rhc['name'] = 'nn_rhc'\n",
    "nn_rhc"
   ]
  },
  {
   "cell_type": "code",
   "execution_count": 12,
   "id": "60ced1ff",
   "metadata": {},
   "outputs": [],
   "source": [
    "# plt.plot(mlp.fitness_curve)"
   ]
  },
  {
   "cell_type": "code",
   "execution_count": 13,
   "id": "1792eb5b",
   "metadata": {},
   "outputs": [
    {
     "data": {
      "text/html": [
       "<div>\n",
       "<style scoped>\n",
       "    .dataframe tbody tr th:only-of-type {\n",
       "        vertical-align: middle;\n",
       "    }\n",
       "\n",
       "    .dataframe tbody tr th {\n",
       "        vertical-align: top;\n",
       "    }\n",
       "\n",
       "    .dataframe thead th {\n",
       "        text-align: right;\n",
       "    }\n",
       "</style>\n",
       "<table border=\"1\" class=\"dataframe\">\n",
       "  <thead>\n",
       "    <tr style=\"text-align: right;\">\n",
       "      <th></th>\n",
       "      <th>acc</th>\n",
       "      <th>cv_score</th>\n",
       "      <th>train_roc</th>\n",
       "      <th>test_roc</th>\n",
       "      <th>recall_score</th>\n",
       "      <th>f1_score</th>\n",
       "      <th>run_time</th>\n",
       "      <th>name</th>\n",
       "    </tr>\n",
       "  </thead>\n",
       "  <tbody>\n",
       "    <tr>\n",
       "      <th>0</th>\n",
       "      <td>0.707</td>\n",
       "      <td>0.512</td>\n",
       "      <td>0.542</td>\n",
       "      <td>0.516</td>\n",
       "      <td>0.707</td>\n",
       "      <td>0.623</td>\n",
       "      <td>0.03125</td>\n",
       "      <td>nn_sa</td>\n",
       "    </tr>\n",
       "  </tbody>\n",
       "</table>\n",
       "</div>"
      ],
      "text/plain": [
       "     acc  cv_score  train_roc  test_roc  recall_score  f1_score  run_time  \\\n",
       "0  0.707     0.512      0.542     0.516         0.707     0.623   0.03125   \n",
       "\n",
       "    name  \n",
       "0  nn_sa  "
      ]
     },
     "execution_count": 13,
     "metadata": {},
     "output_type": "execute_result"
    }
   ],
   "source": [
    "'''simulated annealing'''\n",
    "# train valid test split\n",
    "X_train, y_train, X_valid, y_valid, X_test, y_test = train_valid_test_split(df)\n",
    "# feature engineering\n",
    "X_train, X_valid, X_test = ohe(X_train, X_valid, X_test)\n",
    "# oversampling\n",
    "X_train, y_train = oversampling(X_train, y_train)\n",
    "# model\n",
    "\n",
    "mlp = mlrose.NeuralNetwork(random_state = 0, \n",
    "                           hidden_nodes = [3], \n",
    "                           activation = 'identity',\n",
    "                           algorithm = 'simulated_annealing',\n",
    "                           curve = True\n",
    "                          )\n",
    "# mlp = MLPClassifier(random_state=0, hidden_layer_sizes=(100,), activation='relu')\n",
    "mlp.fit(X_train, y_train)\n",
    "nn_sa = model(mlp, X_train, y_train, X_test, y_test)\n",
    "\n",
    "nn_sa['name'] = 'nn_sa'\n",
    "nn_sa"
   ]
  },
  {
   "cell_type": "code",
   "execution_count": 14,
   "id": "70744393",
   "metadata": {},
   "outputs": [],
   "source": [
    "# plt.plot(mlp.fitness_curve)"
   ]
  },
  {
   "cell_type": "code",
   "execution_count": 15,
   "id": "ad54d50c",
   "metadata": {},
   "outputs": [
    {
     "data": {
      "text/html": [
       "<div>\n",
       "<style scoped>\n",
       "    .dataframe tbody tr th:only-of-type {\n",
       "        vertical-align: middle;\n",
       "    }\n",
       "\n",
       "    .dataframe tbody tr th {\n",
       "        vertical-align: top;\n",
       "    }\n",
       "\n",
       "    .dataframe thead th {\n",
       "        text-align: right;\n",
       "    }\n",
       "</style>\n",
       "<table border=\"1\" class=\"dataframe\">\n",
       "  <thead>\n",
       "    <tr style=\"text-align: right;\">\n",
       "      <th></th>\n",
       "      <th>acc</th>\n",
       "      <th>cv_score</th>\n",
       "      <th>train_roc</th>\n",
       "      <th>test_roc</th>\n",
       "      <th>recall_score</th>\n",
       "      <th>f1_score</th>\n",
       "      <th>run_time</th>\n",
       "      <th>name</th>\n",
       "    </tr>\n",
       "  </thead>\n",
       "  <tbody>\n",
       "    <tr>\n",
       "      <th>0</th>\n",
       "      <td>0.643</td>\n",
       "      <td>0.442</td>\n",
       "      <td>0.758</td>\n",
       "      <td>0.75</td>\n",
       "      <td>0.643</td>\n",
       "      <td>0.652</td>\n",
       "      <td>8.03125</td>\n",
       "      <td>nn_ga</td>\n",
       "    </tr>\n",
       "  </tbody>\n",
       "</table>\n",
       "</div>"
      ],
      "text/plain": [
       "     acc  cv_score  train_roc  test_roc  recall_score  f1_score  run_time  \\\n",
       "0  0.643     0.442      0.758      0.75         0.643     0.652   8.03125   \n",
       "\n",
       "    name  \n",
       "0  nn_ga  "
      ]
     },
     "execution_count": 15,
     "metadata": {},
     "output_type": "execute_result"
    }
   ],
   "source": [
    "'''genetic algorithm'''\n",
    "# train valid test split\n",
    "X_train, y_train, X_valid, y_valid, X_test, y_test = train_valid_test_split(df)\n",
    "# feature engineering\n",
    "X_train, X_valid, X_test = ohe(X_train, X_valid, X_test)\n",
    "# oversampling\n",
    "X_train, y_train = oversampling(X_train, y_train)\n",
    "# model\n",
    "\n",
    "mlp = mlrose.NeuralNetwork(random_state = 0, \n",
    "                           hidden_nodes = [3], \n",
    "                           activation = 'identity',\n",
    "                           algorithm = 'genetic_alg',\n",
    "                           curve = True\n",
    "                          )\n",
    "# mlp = MLPClassifier(random_state=0, hidden_layer_sizes=(100,), activation='relu')\n",
    "mlp.fit(X_train, y_train)\n",
    "nn_ga = model(mlp, X_train, y_train, X_test, y_test)\n",
    "\n",
    "nn_ga['name'] = 'nn_ga'\n",
    "nn_ga"
   ]
  },
  {
   "cell_type": "code",
   "execution_count": null,
   "id": "8dea227a",
   "metadata": {},
   "outputs": [],
   "source": [
    "# plt.plot(mlp.fitness_curve)"
   ]
  },
  {
   "cell_type": "code",
   "execution_count": 16,
   "id": "a9ecf390",
   "metadata": {},
   "outputs": [
    {
     "data": {
      "text/html": [
       "<div>\n",
       "<style scoped>\n",
       "    .dataframe tbody tr th:only-of-type {\n",
       "        vertical-align: middle;\n",
       "    }\n",
       "\n",
       "    .dataframe tbody tr th {\n",
       "        vertical-align: top;\n",
       "    }\n",
       "\n",
       "    .dataframe thead th {\n",
       "        text-align: right;\n",
       "    }\n",
       "</style>\n",
       "<table border=\"1\" class=\"dataframe\">\n",
       "  <thead>\n",
       "    <tr style=\"text-align: right;\">\n",
       "      <th></th>\n",
       "      <th>index</th>\n",
       "      <th>acc</th>\n",
       "      <th>cv_score</th>\n",
       "      <th>train_roc</th>\n",
       "      <th>test_roc</th>\n",
       "      <th>recall_score</th>\n",
       "      <th>f1_score</th>\n",
       "      <th>run_time</th>\n",
       "      <th>name</th>\n",
       "    </tr>\n",
       "  </thead>\n",
       "  <tbody>\n",
       "    <tr>\n",
       "      <th>0</th>\n",
       "      <td>0</td>\n",
       "      <td>0.647</td>\n",
       "      <td>0.673</td>\n",
       "      <td>0.694</td>\n",
       "      <td>0.695</td>\n",
       "      <td>0.647</td>\n",
       "      <td>0.663</td>\n",
       "      <td>0.03125</td>\n",
       "      <td>nn_backpropagation</td>\n",
       "    </tr>\n",
       "    <tr>\n",
       "      <th>1</th>\n",
       "      <td>0</td>\n",
       "      <td>0.674</td>\n",
       "      <td>0.586</td>\n",
       "      <td>0.572</td>\n",
       "      <td>0.558</td>\n",
       "      <td>0.674</td>\n",
       "      <td>0.656</td>\n",
       "      <td>0.09375</td>\n",
       "      <td>nn_rhc</td>\n",
       "    </tr>\n",
       "    <tr>\n",
       "      <th>2</th>\n",
       "      <td>0</td>\n",
       "      <td>0.707</td>\n",
       "      <td>0.512</td>\n",
       "      <td>0.542</td>\n",
       "      <td>0.516</td>\n",
       "      <td>0.707</td>\n",
       "      <td>0.623</td>\n",
       "      <td>0.03125</td>\n",
       "      <td>nn_sa</td>\n",
       "    </tr>\n",
       "    <tr>\n",
       "      <th>3</th>\n",
       "      <td>0</td>\n",
       "      <td>0.643</td>\n",
       "      <td>0.442</td>\n",
       "      <td>0.758</td>\n",
       "      <td>0.750</td>\n",
       "      <td>0.643</td>\n",
       "      <td>0.652</td>\n",
       "      <td>8.03125</td>\n",
       "      <td>nn_ga</td>\n",
       "    </tr>\n",
       "  </tbody>\n",
       "</table>\n",
       "</div>"
      ],
      "text/plain": [
       "   index    acc  cv_score  train_roc  test_roc  recall_score  f1_score  \\\n",
       "0      0  0.647     0.673      0.694     0.695         0.647     0.663   \n",
       "1      0  0.674     0.586      0.572     0.558         0.674     0.656   \n",
       "2      0  0.707     0.512      0.542     0.516         0.707     0.623   \n",
       "3      0  0.643     0.442      0.758     0.750         0.643     0.652   \n",
       "\n",
       "   run_time                name  \n",
       "0   0.03125  nn_backpropagation  \n",
       "1   0.09375              nn_rhc  \n",
       "2   0.03125               nn_sa  \n",
       "3   8.03125               nn_ga  "
      ]
     },
     "execution_count": 16,
     "metadata": {},
     "output_type": "execute_result"
    }
   ],
   "source": [
    "nn_performance = pd.DataFrame()\n",
    "nn_performance=nn_performance.append([nn_test_perf, nn_rhc, nn_sa, nn_ga]).reset_index()\n",
    "nn_performance"
   ]
  },
  {
   "cell_type": "code",
   "execution_count": 17,
   "id": "415d0aca",
   "metadata": {},
   "outputs": [],
   "source": [
    "nn_performance.to_excel('./performance/a2_nn_perf_data.xlsx',index=False)"
   ]
  },
  {
   "cell_type": "code",
   "execution_count": 18,
   "id": "d5d3cffc",
   "metadata": {},
   "outputs": [
    {
     "data": {
      "image/png": "[encoded data removed]",
      "text/plain": [
       "<Figure size 432x288 with 1 Axes>"
      ]
     },
     "metadata": {
      "needs_background": "light"
     },
     "output_type": "display_data"
    }
   ],
   "source": [
    "plt.bar(nn_performance['name'], nn_performance['test_roc'])\n",
    "plt.xlabel(\"algo\")\n",
    "plt.ylabel(\"ROC score\")\n",
    "plt.show()"
   ]
  },
  {
   "cell_type": "code",
   "execution_count": 19,
   "id": "26ce5806",
   "metadata": {},
   "outputs": [
    {
     "data": {
      "text/plain": [
       "Text(0, 0.5, 'Run time')"
      ]
     },
     "execution_count": 19,
     "metadata": {},
     "output_type": "execute_result"
    },
    {
     "data": {
      "image/png": "[encoded data removed]",
      "text/plain": [
       "<Figure size 432x288 with 1 Axes>"
      ]
     },
     "metadata": {
      "needs_background": "light"
     },
     "output_type": "display_data"
    }
   ],
   "source": [
    "plt.bar(nn_performance['name'], nn_performance['run_time'])\n",
    "plt.xlabel(\"algo\")\n",
    "plt.ylabel(\"Run time\")"
   ]
  },
  {
   "cell_type": "code",
   "execution_count": null,
   "id": "1cc804b1",
   "metadata": {},
   "outputs": [],
   "source": []
  }
 ],
 "metadata": {
  "kernelspec": {
   "display_name": "Python 3 (ipykernel)",
   "language": "python",
   "name": "python3"
  },
  "language_info": {
   "codemirror_mode": {
    "name": "ipython",
    "version": 3
   },
   "file_extension": ".py",
   "mimetype": "text/x-python",
   "name": "python",
   "nbconvert_exporter": "python",
   "pygments_lexer": "ipython3",
   "version": "3.9.7"
  }
 },
 "nbformat": 4,
 "nbformat_minor": 5
}
