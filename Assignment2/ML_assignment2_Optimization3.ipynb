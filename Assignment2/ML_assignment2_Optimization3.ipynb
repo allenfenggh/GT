{
 "cells": [
  {
   "cell_type": "markdown",
   "id": "bb861f83",
   "metadata": {},
   "source": [
    "# Problem 3 - Knapsack"
   ]
  },
  {
   "cell_type": "code",
   "execution_count": 11,
   "id": "fc1dd766",
   "metadata": {},
   "outputs": [],
   "source": [
    "%run ./ML_assignment2_OptimizationFunctions.ipynb"
   ]
  },
  {
   "cell_type": "code",
   "execution_count": 2,
   "id": "d1f86bc2",
   "metadata": {},
   "outputs": [],
   "source": [
    "weights = [10, 5, 2, 8, 15]\n",
    "values = [1, 2, 3, 4, 5]\n",
    "max_weight_pct = 0.6\n",
    "fitness = mh.Knapsack(weights, values, max_weight_pct)\n",
    "prob = mh.DiscreteOpt(length=len(values), fitness_fn=fitness, maximize=True)\n",
    "\n",
    "weights = [10, 5, 2, 8, 15, 21,11,5,17,31,32,19,7,45,50]\n",
    "values = [1, 2, 3, 4, 5,6,7,8,9,10,11,12,13,14,15]\n",
    "max_weight_pct = 0.6\n",
    "fitness = mh.Knapsack(weights, values, max_weight_pct)\n",
    "prob2 = mh.DiscreteOpt(length=len(values), fitness_fn=fitness, maximize=True)"
   ]
  },
  {
   "cell_type": "code",
   "execution_count": 3,
   "id": "0fc0779c",
   "metadata": {},
   "outputs": [
    {
     "name": "stdout",
     "output_type": "stream",
     "text": [
      "  algo  best fitness  iterations    time\n",
      "0  rhc          10.0         100  0.0625\n",
      "  algo  best fitness  iterations      time\n",
      "0  rhc          87.0         113  0.046875\n"
     ]
    }
   ],
   "source": [
    "#  rhc\n",
    "max_attempts = 100\n",
    "max_iters = 100\n",
    "result_rhc, curve_rhc = rhc(prob, max_attempts, max_iters)\n",
    "print(result_rhc) \n",
    "# plt.plot(range(1, 101), curve_rhc[:,0], label='rhc', color='green')\n",
    "\n",
    "# increase samples\n",
    "max_attempts = 100\n",
    "max_iters = 1000\n",
    "result_rhc2, curve_rhc2 = rhc(prob2, max_attempts, max_iters)\n",
    "print(result_rhc2)"
   ]
  },
  {
   "cell_type": "code",
   "execution_count": 4,
   "id": "0390c24d",
   "metadata": {},
   "outputs": [
    {
     "name": "stdout",
     "output_type": "stream",
     "text": [
      "  algo  best fitness  iterations  time\n",
      "0   sa           7.0         100   0.0\n",
      "  algo  best fitness  iterations  time\n",
      "0   sa          73.0         117   0.0\n"
     ]
    }
   ],
   "source": [
    "# sa\n",
    "max_attempts = 100\n",
    "max_iters = 100\n",
    "schedule = mh.ExpDecay()\n",
    "result_sa, curve_sa = sa(prob, max_attempts, max_iters, schedule)\n",
    "print(result_sa)\n",
    "# plt.plot(curve_sa[:,0], curve_sa[:,1], label='sa', color='red')\n",
    "\n",
    "max_attempts = 100\n",
    "max_iters = 1000\n",
    "schedule = mh.ExpDecay()\n",
    "result_sa2, curve_sa2 = sa(prob2, max_attempts, max_iters, schedule)\n",
    "print(result_sa2)"
   ]
  },
  {
   "cell_type": "code",
   "execution_count": 5,
   "id": "60a56b96",
   "metadata": {},
   "outputs": [
    {
     "name": "stdout",
     "output_type": "stream",
     "text": [
      "  algo  best fitness  iterations      time\n",
      "0   ga          10.0         100  0.390625\n",
      "  algo  best fitness  iterations      time\n",
      "0   ga          88.0         101  0.421875\n"
     ]
    }
   ],
   "source": [
    "# ga\n",
    "max_attempts = 100\n",
    "max_iters = 100\n",
    "mutation_prob = 0.2\n",
    "schedule = mh.ExpDecay()\n",
    "result_ga, curve_ga = ga(prob, max_attempts, max_iters, mutation_prob)\n",
    "print(result_ga)\n",
    "# plt.plot(curve_ga[:,0], curve_ga[:,1], label='ga', color='orange')\n",
    "\n",
    "max_attempts = 100\n",
    "max_iters = 1000\n",
    "mutation_prob = 0.2\n",
    "schedule = mh.ExpDecay()\n",
    "result_ga2, curve_ga2 = ga(prob2, max_attempts, max_iters, mutation_prob)\n",
    "print(result_ga2)"
   ]
  },
  {
   "cell_type": "code",
   "execution_count": 6,
   "id": "7f65e0e7",
   "metadata": {},
   "outputs": [
    {
     "name": "stdout",
     "output_type": "stream",
     "text": [
      "   algo  best fitness  iterations      time\n",
      "0  mimc          10.0         100  0.296875\n",
      "   algo  best fitness  iterations      time\n",
      "0  mimc          88.0         105  2.046875\n"
     ]
    }
   ],
   "source": [
    "# mimc\n",
    "max_attempts = 100\n",
    "max_iters = 100\n",
    "keep_pct = 0.2\n",
    "schedule = mh.ExpDecay()\n",
    "result_mimic, curve_mimic = mimic(prob, max_attempts, max_iters, keep_pct)\n",
    "print(result_mimic)\n",
    "# plt.plot(curve_mimic[:,0], curve_mimic[:,1], label='mimic', color='orange')\n",
    "\n",
    "max_attempts = 100\n",
    "max_iters = 1000\n",
    "keep_pct = 0.2\n",
    "schedule = mh.ExpDecay()\n",
    "result_mimic2, curve_mimic2 = mimic(prob2, max_attempts, max_iters, keep_pct)\n",
    "print(result_mimic2)"
   ]
  },
  {
   "cell_type": "code",
   "execution_count": 7,
   "id": "18209a7a",
   "metadata": {},
   "outputs": [
    {
     "name": "stdout",
     "output_type": "stream",
     "text": [
      "   index  algo  best fitness  iterations      time\n",
      "0      0   rhc          10.0         100  0.062500\n",
      "1      0    sa           7.0         100  0.000000\n",
      "2      0    ga          10.0         100  0.390625\n",
      "3      0  mimc          10.0         100  0.296875\n",
      "   index  algo  best fitness  iterations      time\n",
      "0      0   rhc          87.0         113  0.046875\n",
      "1      0    sa          73.0         117  0.000000\n",
      "2      0    ga          88.0         101  0.421875\n",
      "3      0  mimc          88.0         105  2.046875\n"
     ]
    }
   ],
   "source": [
    "fps = pd.DataFrame()\n",
    "fps=fps.append([result_rhc, result_sa, result_ga, result_mimic]).reset_index()\n",
    "fps2 = pd.DataFrame()\n",
    "fps2=fps2.append([result_rhc2, result_sa2, result_ga2, result_mimic2]).reset_index()\n",
    "print(fps)\n",
    "print(fps2)"
   ]
  },
  {
   "cell_type": "code",
   "execution_count": 8,
   "id": "79e6f96d",
   "metadata": {},
   "outputs": [],
   "source": [
    "# iterations = range(1, 101)\n",
    "# plt.plot(iterations, curve_rhc[:,0],  label='rhc', color='green')\n",
    "# plt.plot(iterations, curve_sa[:,0],  label='sa', color='red')\n",
    "# plt.plot(iterations, curve_ga[:,0], label='ga', color='orange')\n",
    "# plt.plot(iterations, curve_mimic[:,0], label='mimic', color='blue')\n",
    "# plt.xlabel(\"Iterations\")\n",
    "# plt.ylabel(\"Fitness\")\n",
    "# plt.title('problem 3 set 1')"
   ]
  },
  {
   "cell_type": "code",
   "execution_count": 9,
   "id": "191f67f0",
   "metadata": {},
   "outputs": [],
   "source": [
    "# plt.plot(range(1,len(curve_rhc2[:,1])+1), curve_rhc2[:,0],  label='rhc', color='green')\n",
    "# plt.plot(range(1,len(curve_sa2[:,1])+1), curve_sa2[:,0],  label='sa', color='red')\n",
    "# plt.plot(range(1,len(curve_ga2[:,1])+1), curve_ga2[:,0], label='ga', color='orange')\n",
    "# plt.plot(range(1,len(curve_mimic2[:,1])+1), curve_mimic2[:,0], label='mimic', color='blue')\n",
    "# plt.xlabel(\"Iterations\")\n",
    "# plt.ylabel(\"Fitness\")\n",
    "# plt.title('problem 3 set 2')"
   ]
  },
  {
   "cell_type": "code",
   "execution_count": 12,
   "id": "c86b9f52",
   "metadata": {},
   "outputs": [
    {
     "data": {
      "image/png": "[encoded data removed]",
      "text/plain": [
       "<Figure size 432x288 with 1 Axes>"
      ]
     },
     "metadata": {
      "needs_background": "light"
     },
     "output_type": "display_data"
    },
    {
     "data": {
      "image/png": "[encoded data removed]",
      "text/plain": [
       "<Figure size 432x288 with 1 Axes>"
      ]
     },
     "metadata": {
      "needs_background": "light"
     },
     "output_type": "display_data"
    },
    {
     "data": {
      "image/png": "[encoded data removed]",
      "text/plain": [
       "<Figure size 432x288 with 1 Axes>"
      ]
     },
     "metadata": {
      "needs_background": "light"
     },
     "output_type": "display_data"
    },
    {
     "data": {
      "image/png": "[encoded data removed]",
      "text/plain": [
       "<Figure size 432x288 with 1 Axes>"
      ]
     },
     "metadata": {
      "needs_background": "light"
     },
     "output_type": "display_data"
    },
    {
     "data": {
      "image/png": "[encoded data removed]",
      "text/plain": [
       "<Figure size 432x288 with 1 Axes>"
      ]
     },
     "metadata": {
      "needs_background": "light"
     },
     "output_type": "display_data"
    },
    {
     "data": {
      "image/png": "[encoded data removed]",
      "text/plain": [
       "<Figure size 432x288 with 1 Axes>"
      ]
     },
     "metadata": {
      "needs_background": "light"
     },
     "output_type": "display_data"
    }
   ],
   "source": [
    "curves = [curve_rhc, curve_sa, curve_ga, curve_mimic,\n",
    "          curve_rhc2, curve_sa2, curve_ga2, curve_mimic2]\n",
    "graph(fps, fps2, curves)"
   ]
  },
  {
   "cell_type": "code",
   "execution_count": null,
   "id": "b7cbfa90",
   "metadata": {},
   "outputs": [],
   "source": []
  }
 ],
 "metadata": {
  "kernelspec": {
   "display_name": "Python 3 (ipykernel)",
   "language": "python",
   "name": "python3"
  },
  "language_info": {
   "codemirror_mode": {
    "name": "ipython",
    "version": 3
   },
   "file_extension": ".py",
   "mimetype": "text/x-python",
   "name": "python",
   "nbconvert_exporter": "python",
   "pygments_lexer": "ipython3",
   "version": "3.9.7"
  }
 },
 "nbformat": 4,
 "nbformat_minor": 5
}
